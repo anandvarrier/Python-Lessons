{
 "cells": [
  {
   "cell_type": "markdown",
   "id": "ca08228b",
   "metadata": {},
   "source": [
    "List Comprehensions: \n",
    "It is a unique way of quickly creating a list with python. Instead of using the for loop along with .append() to create a list."
   ]
  },
  {
   "cell_type": "code",
   "execution_count": 1,
   "id": "189f506f",
   "metadata": {},
   "outputs": [
    {
     "data": {
      "text/plain": [
       "['h', 'e', 'l', 'l', 'o']"
      ]
     },
     "execution_count": 1,
     "metadata": {},
     "output_type": "execute_result"
    }
   ],
   "source": [
    "#Generally we perform a for loop to extract each character\n",
    "#The below code is a long process or what beginners do\n",
    "mystring='hello'\n",
    "mylist=[]\n",
    "for letters in mystring:\n",
    "    mylist.append(letters)\n",
    "mylist"
   ]
  },
  {
   "cell_type": "code",
   "execution_count": 6,
   "id": "92b8d2ce",
   "metadata": {},
   "outputs": [
    {
     "data": {
      "text/plain": [
       "['h', 'e', 'l', 'l', 'o', 'a', 'n', 'a', 'n', 'd']"
      ]
     },
     "execution_count": 6,
     "metadata": {},
     "output_type": "execute_result"
    }
   ],
   "source": [
    "mystring = 'helloanand'\n",
    "mylist = [letters for letters in mystring]\n",
    "mylist\n",
    "#here in the line 1: I am declaring a string (any string)\n",
    "#Line 2: the entire for loop in the previous cell has been integrated in just one line.\n",
    "#Line 3: I am asking Jupyter to print the output\n",
    "\n",
    "#In line 2: remember to keep 'element names' to be the same i.e here in this case letters are the element name.\n",
    "#first element name before the for loop signifies that we can operations on that element name. (in further examples you would see)\n",
    "#it is the element name which is written in line 6 previous example."
   ]
  },
  {
   "cell_type": "markdown",
   "id": "b2779fab",
   "metadata": {},
   "source": [
    "List comprehensions actually reduces the lines of code to just one. It is an efficient way of coding. \n",
    "Remember it does not have any impact on the computational time.\n",
    "Both the codes have similar computational time.\n",
    "It might be confusing, so read each line of explanation carefully."
   ]
  },
  {
   "cell_type": "code",
   "execution_count": 7,
   "id": "d5cc2bf9",
   "metadata": {},
   "outputs": [
    {
     "data": {
      "text/plain": [
       "[0, 1, 2, 3, 4, 5, 6, 7, 8, 9, 10, 11, 12, 13, 14, 15, 16, 17, 18, 19]"
      ]
     },
     "execution_count": 7,
     "metadata": {},
     "output_type": "execute_result"
    }
   ],
   "source": [
    "#eg3\n",
    "mylist1= [num for num in range(0,20)]\n",
    "mylist1"
   ]
  },
  {
   "cell_type": "code",
   "execution_count": 9,
   "id": "61115730",
   "metadata": {},
   "outputs": [
    {
     "data": {
      "text/plain": [
       "[0, 1, 4, 9, 16, 25, 36, 49, 64, 81]"
      ]
     },
     "execution_count": 9,
     "metadata": {},
     "output_type": "execute_result"
    }
   ],
   "source": [
    "#eg4\n",
    "mylist2= [num**2 for num in range(0,10)]\n",
    "mylist2"
   ]
  },
  {
   "cell_type": "code",
   "execution_count": 10,
   "id": "db6e580d",
   "metadata": {},
   "outputs": [
    {
     "data": {
      "text/plain": [
       "[0, 2, 4, 6, 8, 10]"
      ]
     },
     "execution_count": 10,
     "metadata": {},
     "output_type": "execute_result"
    }
   ],
   "source": [
    "#eg5 using a if statement\n",
    "mylist3=[num for num in range(0,11) if num%2==0]\n",
    "mylist3"
   ]
  },
  {
   "cell_type": "code",
   "execution_count": 12,
   "id": "3fdb106c",
   "metadata": {},
   "outputs": [
    {
     "data": {
      "text/plain": [
       "[32.0, 96.8, 212.0, 284.0]"
      ]
     },
     "execution_count": 12,
     "metadata": {},
     "output_type": "execute_result"
    }
   ],
   "source": [
    "#eg6\n",
    "celcius = [0,36,100,140]\n",
    "\n",
    "fahrenheit = [((9/5)*temp +32) for temp in celcius]\n",
    "fahrenheit"
   ]
  },
  {
   "cell_type": "code",
   "execution_count": 13,
   "id": "a4bdaf50",
   "metadata": {},
   "outputs": [
    {
     "data": {
      "text/plain": [
       "[32.0, 96.8, 212.0, 284.0]"
      ]
     },
     "execution_count": 13,
     "metadata": {},
     "output_type": "execute_result"
    }
   ],
   "source": [
    "#the above example in for loop\n",
    "fahrenheit = []\n",
    "\n",
    "for temp in celcius:\n",
    "    fahrenheit.append((9/5)*temp +32)\n",
    "fahrenheit"
   ]
  },
  {
   "cell_type": "code",
   "execution_count": 14,
   "id": "af2f349a",
   "metadata": {},
   "outputs": [
    {
     "data": {
      "text/plain": [
       "[0, 'ODD', 2, 'ODD', 4, 'ODD', 6, 'ODD', 8, 'ODD', 10]"
      ]
     },
     "execution_count": 14,
     "metadata": {},
     "output_type": "execute_result"
    }
   ],
   "source": [
    "#We can also use if an else statements in List Comprehensions \n",
    "#BUT it is going to confuse any new reader\n",
    "#While coding in Python emphasize on readability and not on shortening the code at the cost of not able tow hat you have written.\n",
    "#eg1\n",
    "\n",
    "results = [x if x%2==0 else 'ODD' for x in range(0,11)]\n",
    "results"
   ]
  },
  {
   "cell_type": "code",
   "execution_count": 15,
   "id": "f03d56fd",
   "metadata": {},
   "outputs": [
    {
     "data": {
      "text/plain": [
       "[200, 400, 600, 400, 800, 1200, 600, 1200, 1800]"
      ]
     },
     "execution_count": 15,
     "metadata": {},
     "output_type": "execute_result"
    }
   ],
   "source": [
    "#a nested for loop in List Comprehensions\n",
    "my_list = []\n",
    "for x in [2,4,6]:\n",
    "    for y in [100,200,300]:\n",
    "        my_list.append(x*y)\n",
    "my_list"
   ]
  },
  {
   "cell_type": "code",
   "execution_count": 16,
   "id": "f8547709",
   "metadata": {},
   "outputs": [
    {
     "data": {
      "text/plain": [
       "[200, 400, 600, 400, 800, 1200, 600, 1200, 1800]"
      ]
     },
     "execution_count": 16,
     "metadata": {},
     "output_type": "execute_result"
    }
   ],
   "source": [
    "my_list = [(x*y) for x in [2,4,6] for y in [100,200,300]]\n",
    "my_list"
   ]
  },
  {
   "cell_type": "code",
   "execution_count": null,
   "id": "dc6498ca",
   "metadata": {},
   "outputs": [],
   "source": []
  }
 ],
 "metadata": {
  "kernelspec": {
   "display_name": "Python 3",
   "language": "python",
   "name": "python3"
  },
  "language_info": {
   "codemirror_mode": {
    "name": "ipython",
    "version": 3
   },
   "file_extension": ".py",
   "mimetype": "text/x-python",
   "name": "python",
   "nbconvert_exporter": "python",
   "pygments_lexer": "ipython3",
   "version": "3.8.8"
  }
 },
 "nbformat": 4,
 "nbformat_minor": 5
}
