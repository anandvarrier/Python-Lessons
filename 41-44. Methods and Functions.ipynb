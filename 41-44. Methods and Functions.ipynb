{
 "cells": [
  {
   "cell_type": "markdown",
   "id": "2333563c",
   "metadata": {},
   "source": [
    "Functions: Functions allows us to create blocks of code that can be easily executed many times, without needing to constantly rewrite the entire block of code. Functions will be a huge leap forward in your capabilities as a Python programmer."
   ]
  },
  {
   "cell_type": "code",
   "execution_count": 11,
   "id": "1e2a11d6",
   "metadata": {},
   "outputs": [],
   "source": [
    "#Syntax of defining a function: \n",
    "\n",
    "def name_of_function():\n",
    "    '''Docstring expalins the functions\n",
    "    '''\n",
    "    print(\"Hello\")\n",
    "    \n",
    "#def keyword tells Python that it is a function.\n",
    "#you can give any name to the function and it is written in 'snake casing' \n",
    "#i.e all lowercase and underscores between words\n",
    "#parathesis comes at the end where we can pass arguments or parameters into the function\n",
    "#A colon indicates an upcoming indented block. Everything indented is then \"inside\" the function\n",
    "#Docstrings are written in tripple quotes for explanation of the funtion.\n",
    "#often we use return keyword which send back the result of the function, instead of just printing it out.\n",
    "#return allows us to assign the output of the function to a new vairable"
   ]
  },
  {
   "cell_type": "markdown",
   "id": "e5fd6d70",
   "metadata": {},
   "source": [
    "Basic Python Functions"
   ]
  },
  {
   "cell_type": "code",
   "execution_count": 14,
   "id": "7f3880a1",
   "metadata": {},
   "outputs": [],
   "source": [
    "#eg1\n",
    "def say_hello():\n",
    "    print(\"hello\")\n",
    "    print(\"how are you?\")"
   ]
  },
  {
   "cell_type": "code",
   "execution_count": 15,
   "id": "0b02389a",
   "metadata": {},
   "outputs": [
    {
     "name": "stdout",
     "output_type": "stream",
     "text": [
      "hello\n",
      "how are you?\n"
     ]
    }
   ],
   "source": [
    "say_hello()"
   ]
  },
  {
   "cell_type": "code",
   "execution_count": 16,
   "id": "a5fb44f6",
   "metadata": {},
   "outputs": [],
   "source": [
    "#eg2\n",
    "def say_hello(name):\n",
    "    print(f\"Hello {name}\")"
   ]
  },
  {
   "cell_type": "code",
   "execution_count": 18,
   "id": "2b551cde",
   "metadata": {},
   "outputs": [
    {
     "name": "stdout",
     "output_type": "stream",
     "text": [
      "Hello Anand\n"
     ]
    }
   ],
   "source": [
    "say_hello('Anand')\n",
    "#if you forgot to pass on the parameter, python is going to throw error "
   ]
  },
  {
   "cell_type": "code",
   "execution_count": 19,
   "id": "f087b4b9",
   "metadata": {},
   "outputs": [],
   "source": [
    "#eg3\n",
    "def say_hello(name='Default'):\n",
    "    print(f\"Hello {name}\")"
   ]
  },
  {
   "cell_type": "code",
   "execution_count": 21,
   "id": "6127db43",
   "metadata": {},
   "outputs": [
    {
     "name": "stdout",
     "output_type": "stream",
     "text": [
      "Hello Default\n"
     ]
    }
   ],
   "source": [
    "say_hello()\n",
    "#in this eg. even if you leave the parameter blank it wont throw an error\n",
    "#as the name has default as its value"
   ]
  },
  {
   "cell_type": "code",
   "execution_count": 32,
   "id": "eae273e6",
   "metadata": {},
   "outputs": [],
   "source": [
    "#eg4\n",
    "#DIFFERENCE BETWEEN PRINT and RETURN in a FUNCTION\n",
    "def add_nums(num1, num2):\n",
    "    return num1+num2"
   ]
  },
  {
   "cell_type": "code",
   "execution_count": 23,
   "id": "b038c7dd",
   "metadata": {},
   "outputs": [
    {
     "data": {
      "text/plain": [
       "30"
      ]
     },
     "execution_count": 23,
     "metadata": {},
     "output_type": "execute_result"
    }
   ],
   "source": [
    "add_nums(10,20)\n",
    "#notice the output"
   ]
  },
  {
   "cell_type": "code",
   "execution_count": 24,
   "id": "8d9841b9",
   "metadata": {},
   "outputs": [],
   "source": [
    "num_result=add_nums(20,30)"
   ]
  },
  {
   "cell_type": "code",
   "execution_count": 33,
   "id": "5d6ed042",
   "metadata": {},
   "outputs": [
    {
     "data": {
      "text/plain": [
       "50"
      ]
     },
     "execution_count": 33,
     "metadata": {},
     "output_type": "execute_result"
    }
   ],
   "source": [
    "num_result\n",
    "#notice that here the variable is giving an output\n",
    "#which means return statements helps save the result in a variable and give space in the memory in the computer"
   ]
  },
  {
   "cell_type": "code",
   "execution_count": 26,
   "id": "085cd35e",
   "metadata": {},
   "outputs": [],
   "source": [
    "#eg5\n",
    "def add_numbers(num1, num2):\n",
    "    print(num1+num2)"
   ]
  },
  {
   "cell_type": "code",
   "execution_count": 27,
   "id": "5c388f3e",
   "metadata": {},
   "outputs": [
    {
     "name": "stdout",
     "output_type": "stream",
     "text": [
      "40\n"
     ]
    }
   ],
   "source": [
    "add_numbers(10,30)\n",
    "#notice the output"
   ]
  },
  {
   "cell_type": "code",
   "execution_count": 29,
   "id": "369a8f82",
   "metadata": {},
   "outputs": [
    {
     "name": "stdout",
     "output_type": "stream",
     "text": [
      "40\n"
     ]
    }
   ],
   "source": [
    "numbers_result=add_numbers(10,30)"
   ]
  },
  {
   "cell_type": "code",
   "execution_count": 34,
   "id": "5363c5f3",
   "metadata": {},
   "outputs": [],
   "source": [
    "numbers_result\n",
    "#notice that here the variable is NOT giving an output\n",
    "#which means that print statement does not allow the user to save the result"
   ]
  },
  {
   "cell_type": "code",
   "execution_count": 36,
   "id": "adf74082",
   "metadata": {},
   "outputs": [
    {
     "data": {
      "text/plain": [
       "int"
      ]
     },
     "execution_count": 36,
     "metadata": {},
     "output_type": "execute_result"
    }
   ],
   "source": [
    "type(num_result)"
   ]
  },
  {
   "cell_type": "code",
   "execution_count": 37,
   "id": "5ae80282",
   "metadata": {},
   "outputs": [
    {
     "data": {
      "text/plain": [
       "NoneType"
      ]
     },
     "execution_count": 37,
     "metadata": {},
     "output_type": "execute_result"
    }
   ],
   "source": [
    "type(numbers_result)"
   ]
  },
  {
   "cell_type": "markdown",
   "id": "647e3107",
   "metadata": {},
   "source": [
    "print and return both gives results but only return statement allows to save it in another variable. The above to lines of code shows us the type of both the outputs."
   ]
  },
  {
   "cell_type": "code",
   "execution_count": null,
   "id": "24fb0c53",
   "metadata": {},
   "outputs": [],
   "source": []
  }
 ],
 "metadata": {
  "kernelspec": {
   "display_name": "Python 3",
   "language": "python",
   "name": "python3"
  },
  "language_info": {
   "codemirror_mode": {
    "name": "ipython",
    "version": 3
   },
   "file_extension": ".py",
   "mimetype": "text/x-python",
   "name": "python",
   "nbconvert_exporter": "python",
   "pygments_lexer": "ipython3",
   "version": "3.8.8"
  }
 },
 "nbformat": 4,
 "nbformat_minor": 5
}
