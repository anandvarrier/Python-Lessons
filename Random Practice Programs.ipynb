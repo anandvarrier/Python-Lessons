{
 "cells": [
  {
   "cell_type": "code",
   "execution_count": 1,
   "id": "23a6d016",
   "metadata": {},
   "outputs": [
    {
     "name": "stdout",
     "output_type": "stream",
     "text": [
      "19.75\n",
      "0.9875\n"
     ]
    }
   ],
   "source": [
    "#An example program to calculate Variance of a given data set\n",
    "#No relation to OOPs\n",
    "#YOU CAN SKIP THE PROG AND MOVE AHEAD\n",
    "vac_nums = [0,0,0,0,0,1,1,1,1,1,1,1,1,2,2,2,2,3,3,3]\n",
    "\n",
    "#CAL OF MEAN\n",
    "mean = (sum(vac_nums))/20\n",
    "#print(mean)\n",
    "n = 0\n",
    "sum_of_squared_diff = 0\n",
    "\n",
    "#CAL OF SUM OF DIFFERENCE \n",
    "while n < len(vac_nums):\n",
    "    sum_of_squared_diff += ((vac_nums[n] - mean)**2)\n",
    "    n+=1 \n",
    "    \n",
    "print(sum_of_squared_diff)\n",
    "\n",
    "#CAL VARIANCE\n",
    "\n",
    "variance = sum_of_squared_diff/20\n",
    "print(variance)"
   ]
  },
  {
   "cell_type": "code",
   "execution_count": 2,
   "id": "ec5fdf32",
   "metadata": {},
   "outputs": [
    {
     "name": "stdout",
     "output_type": "stream",
     "text": [
      "There are 6 players in range of standard deviation and mean\n"
     ]
    }
   ],
   "source": [
    "#No relation to OOPs\n",
    "#YOU CAN SKIP THE PROG AND MOVE AHEAD\n",
    "#Basketball Players\n",
    "#Calculate the number of players \n",
    "#in the range of Standard deviation from mean.\n",
    "\n",
    "#importing math inbuilt function\n",
    "import math\n",
    "\n",
    "players = [180, 172, 178, 185, 190, 195, 192, 200, 210, 190]\n",
    "\n",
    "#CAL MEAN\n",
    "\n",
    "mean = sum(players)/10\n",
    "#print(mean)\n",
    "\n",
    "#CAL SUM OF SQUARED VALUES OF DIFFERENCE\n",
    "#sum_of_sq_val_of_diff\n",
    "\n",
    "sq_of_sum_of_diff = 0\n",
    "n = 0\n",
    "\n",
    "while n < len(players):\n",
    "    sq_of_sum_of_diff += ((players[n] - mean)**2)\n",
    "    n += 1\n",
    "    \n",
    "#print(sq_of_sum_of_diff)\n",
    "\n",
    "#CAL VARIANCE\n",
    "variance = sq_of_sum_of_diff/len(players)\n",
    "#print(variance)\n",
    "\n",
    "#CAL STANDARD DEVIATION\n",
    "std_deviation = math.sqrt(variance)\n",
    "#print(std_deviation)\n",
    "\n",
    "#CAL NO. OF PLAYERS IN RANGE OF STANDARD DEVIATION AND MEAN\n",
    "upper_value = mean + std_deviation\n",
    "lower_value = mean - std_deviation\n",
    "#print(upper_value, lower_value)\n",
    "\n",
    "num_of_players = 0\n",
    "for n in players:\n",
    "    if n > lower_value and n < upper_value:\n",
    "        num_of_players += 1\n",
    "    \n",
    "print('There are '+str(num_of_players)+' players in range of standard deviation and mean')"
   ]
  },
  {
   "cell_type": "code",
   "execution_count": 3,
   "id": "1298ae70",
   "metadata": {},
   "outputs": [
    {
     "name": "stdout",
     "output_type": "stream",
     "text": [
      "Enter the house data: 1120\n",
      "[ 900 1000 1120 1400 1800 1900 2200 2500 3500 4200]\n"
     ]
    }
   ],
   "source": [
    "#Given an array that holds square footage data for houses on a \n",
    "#particular street. A new nouse has been constructed on that street. \n",
    "#Modify program to take the house value as input, add it to array, \n",
    "#output the array sorted in ascending order.\n",
    "\n",
    "import numpy as np\n",
    "\n",
    "data = np.array([1000, 2500, 1400, 1800, 900, 4200, 2200, 1900, 3500])\n",
    "\n",
    "new_val = int(input(\"Enter the house data: \"))\n",
    "\n",
    "data = np.append(data, new_val)\n",
    "\n",
    "#data = np.sort(data)\n",
    "\n",
    "print(np.sort(data))"
   ]
  },
  {
   "cell_type": "code",
   "execution_count": 4,
   "id": "921e30ec",
   "metadata": {},
   "outputs": [
    {
     "name": "stdout",
     "output_type": "stream",
     "text": [
      "[[1 1 0 0 1]\n",
      " [0 0 0 0 0]\n",
      " [1 1 1 1 1]\n",
      " [1 0 1 0 1]\n",
      " [1 1 1 0 0]\n",
      " [0 1 1 1 0]]\n",
      "4\n",
      "[1 1 1 0 0]\n"
     ]
    }
   ],
   "source": [
    "#Given an array the occupancy of seats in a movie theater. \n",
    "#A seat marked with 1 is occupied, while one marked 0 is free. \n",
    "#However, the array is 1 D. Transform into 2D array. \n",
    "#Each row would contain 5 seats and there are total 30 seats. \n",
    "#Rehape the array into the corresponding shape and output the row which\n",
    "#is taken form the user.\n",
    "\n",
    "import numpy as np\n",
    "\n",
    "data = np.array([1,1,0,0,1,0,0,0,0,0,1,1,1,1,1,1,0,1,0,1,1,1,1,0,0,0,1,1,1,0])\n",
    "\n",
    "seats = data.reshape(6,5)\n",
    "print(seats)\n",
    "\n",
    "row = int(input())\n",
    "\n",
    "print(seats[row])"
   ]
  },
  {
   "cell_type": "markdown",
   "id": "57b3b4f7",
   "metadata": {},
   "source": [
    "# Write a program to count the number of digits of a given number.\n",
    "\n",
    "Sample Input 1:\n",
    "345\n",
    "\n",
    "Sample Output 1:\n",
    "3\n",
    "\n",
    "Sample Input 2:\n",
    "56\n",
    "\n",
    "Sample Output 2:\n",
    "2"
   ]
  },
  {
   "cell_type": "markdown",
   "id": "cf843324",
   "metadata": {},
   "source": [
    "## Pseudo Code\n",
    "1) taking input from user\n",
    "\n",
    "2) storing the input in a variable\n",
    "\n",
    "3) converting the input to integer\n",
    "\n",
    "a = int(input)\n",
    "\n",
    "4) counting the number of digits in the input\n",
    "\n",
    "5) storing that answer in a variable\n",
    "ans = len(a)\n",
    "\n",
    "6) printing the variable for final answer\n",
    "\n",
    "print(ans)"
   ]
  },
  {
   "cell_type": "code",
   "execution_count": 6,
   "id": "04a10294",
   "metadata": {},
   "outputs": [
    {
     "name": "stdout",
     "output_type": "stream",
     "text": [
      "Enter a number: 1982884\n",
      "7\n"
     ]
    }
   ],
   "source": [
    "a = input(\"Enter a number: \")\n",
    "ans = len(a)\n",
    "print(ans)"
   ]
  },
  {
   "cell_type": "markdown",
   "id": "d9596ddb",
   "metadata": {},
   "source": [
    "# Find given number is a digit in a number using Python\n",
    "Get a number and a digit and find whether the digit is occurred in the number.\n",
    "\n",
    "Sample Input 1:\n",
    "\n",
    "Enter the number: 234\n",
    "\n",
    "Enter the Digit : 4\n",
    "\n",
    "Sample Output 1:\n",
    "\n",
    "4 is occurred in 234\n",
    "\n",
    "Sample Input 2:\n",
    "\n",
    "Enter the number: 974\n",
    "\n",
    "Enter the Digit : 3\n",
    "\n",
    "Sample Output 2:\n",
    "\n",
    "3 is not occurred in 974"
   ]
  },
  {
   "cell_type": "markdown",
   "id": "d033e8f2",
   "metadata": {},
   "source": [
    "## Pseudo Code\n",
    "\n",
    "1) take number input form user\n",
    "\n",
    "2) store it in variable (a)\n",
    "\n",
    "3) ask user for another digit input\n",
    "\n",
    "4) store it in another variable (b)\n",
    "\n",
    "5) check wheather b is in a using if loop\n",
    "\n",
    "    if b in a:\n",
    "    \n",
    "        print(b occurs in a)\n",
    "        \n",
    "    else\n",
    "        \n",
    "        pass"
   ]
  },
  {
   "cell_type": "code",
   "execution_count": 16,
   "id": "9d0d02f3",
   "metadata": {},
   "outputs": [
    {
     "name": "stdout",
     "output_type": "stream",
     "text": [
      "Enter a number: 12\n",
      "Enter a digit to check: 11\n",
      "11 occurs in 12\n"
     ]
    }
   ],
   "source": [
    "num = int(input(\"Enter a number: \"))\n",
    "digit = int(input(\"Enter a digit to check: \"))\n",
    "\n",
    "if digit in range(num):\n",
    "    print(f\"{digit} occurs in {num}\")\n",
    "else:\n",
    "    print(\"Hello\")"
   ]
  },
  {
   "cell_type": "code",
   "execution_count": 16,
   "id": "9896a626",
   "metadata": {},
   "outputs": [
    {
     "ename": "IndexError",
     "evalue": "index 0 is out of bounds for axis 0 with size 0",
     "output_type": "error",
     "traceback": [
      "\u001b[1;31m---------------------------------------------------------------------------\u001b[0m",
      "\u001b[1;31mIndexError\u001b[0m                                Traceback (most recent call last)",
      "\u001b[1;32m<ipython-input-16-b7626008ea3f>\u001b[0m in \u001b[0;36m<module>\u001b[1;34m\u001b[0m\n\u001b[0;32m     14\u001b[0m \u001b[1;32mfor\u001b[0m \u001b[0mn\u001b[0m \u001b[1;32min\u001b[0m \u001b[0mx\u001b[0m\u001b[1;33m:\u001b[0m\u001b[1;33m\u001b[0m\u001b[1;33m\u001b[0m\u001b[0m\n\u001b[0;32m     15\u001b[0m     \u001b[1;32mif\u001b[0m \u001b[0mn\u001b[0m\u001b[1;33m%\u001b[0m\u001b[1;36m3\u001b[0m \u001b[1;33m==\u001b[0m \u001b[1;36m0\u001b[0m \u001b[1;32mand\u001b[0m \u001b[0mn\u001b[0m\u001b[1;33m%\u001b[0m\u001b[1;36m5\u001b[0m \u001b[1;33m==\u001b[0m \u001b[1;36m0\u001b[0m\u001b[1;33m:\u001b[0m\u001b[1;33m\u001b[0m\u001b[1;33m\u001b[0m\u001b[0m\n\u001b[1;32m---> 16\u001b[1;33m         \u001b[0mnp\u001b[0m\u001b[1;33m.\u001b[0m\u001b[0minsert\u001b[0m\u001b[1;33m(\u001b[0m\u001b[0my\u001b[0m\u001b[1;33m,\u001b[0m \u001b[0my\u001b[0m\u001b[1;33m[\u001b[0m\u001b[0mm\u001b[0m\u001b[1;33m]\u001b[0m\u001b[1;33m,\u001b[0m \u001b[0mn\u001b[0m \u001b[1;33m)\u001b[0m\u001b[1;33m\u001b[0m\u001b[1;33m\u001b[0m\u001b[0m\n\u001b[0m\u001b[0;32m     17\u001b[0m         \u001b[0mm\u001b[0m\u001b[1;33m+=\u001b[0m\u001b[1;36m1\u001b[0m\u001b[1;33m\u001b[0m\u001b[1;33m\u001b[0m\u001b[0m\n\u001b[0;32m     18\u001b[0m         \u001b[0mn\u001b[0m\u001b[1;33m+=\u001b[0m\u001b[1;36m1\u001b[0m\u001b[1;33m\u001b[0m\u001b[1;33m\u001b[0m\u001b[0m\n",
      "\u001b[1;31mIndexError\u001b[0m: index 0 is out of bounds for axis 0 with size 0"
     ]
    }
   ],
   "source": [
    "#Multiples of 3 and 5\n",
    "#You are given a task to find all the whole numbers\n",
    "#below 100 that are multiples of 3 and 5. Create an array\n",
    "#of numbers below 100 that are multiples of both 3 and 5 and output it.\n",
    "\n",
    "import numpy as np\n",
    "\n",
    "x = np.arange(0, 101)\n",
    "#print(len(x))\n",
    "y = np.array([])\n",
    "n = 0\n",
    "m = 0\n",
    "\n",
    "for n in x:\n",
    "    if n%3 == 0 and n%5 == 0:\n",
    "        np.insert(y, y[m], n )\n",
    "        m+=1\n",
    "        n+=1\n",
    "\n",
    "#print(x[x%3==0])\n",
    "#print(x[x%3==0] & [x%5==0])"
   ]
  },
  {
   "cell_type": "markdown",
   "id": "b20ebc73",
   "metadata": {},
   "source": [
    "### You get an array of numbers, return the sum of all of the positives ones.\n",
    "\n",
    "Example [1,-4,7,12] => 1 + 7 + 12 = 20\n",
    "\n",
    "Note: if there is nothing to sum, the sum is default to 0."
   ]
  },
  {
   "cell_type": "code",
   "execution_count": null,
   "id": "4ab158d2",
   "metadata": {},
   "outputs": [],
   "source": [
    "def positive_sum(arr):\n",
    "    \n",
    "    return 0"
   ]
  }
 ],
 "metadata": {
  "kernelspec": {
   "display_name": "Python 3",
   "language": "python",
   "name": "python3"
  },
  "language_info": {
   "codemirror_mode": {
    "name": "ipython",
    "version": 3
   },
   "file_extension": ".py",
   "mimetype": "text/x-python",
   "name": "python",
   "nbconvert_exporter": "python",
   "pygments_lexer": "ipython3",
   "version": "3.8.8"
  }
 },
 "nbformat": 4,
 "nbformat_minor": 5
}
