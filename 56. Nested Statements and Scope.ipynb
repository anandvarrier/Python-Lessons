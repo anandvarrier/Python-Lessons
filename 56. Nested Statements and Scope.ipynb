{
 "cells": [
  {
   "cell_type": "markdown",
   "id": "e22e6171",
   "metadata": {},
   "source": [
    " LEGB Rule:"
   ]
  },
  {
   "cell_type": "markdown",
   "id": "6566879a",
   "metadata": {},
   "source": [
    "#L: Local--Names assigned in a way within a function (def or lambda), and not declared global in that function.\n",
    "#E: Enclosing  function locals -- Names in the local scope of any and all enclosing functions (def orn lambda), from inner to outer.\n",
    "#G: Global(module) -- Names assigned at a top level of a module file, or declared global in a def within a file.\n",
    "#B: Built-in (Python) -- Names preassigned in a built-in names module: open, range, SyntaxError,..."
   ]
  },
  {
   "cell_type": "code",
   "execution_count": null,
   "id": "73b124d7",
   "metadata": {},
   "outputs": [],
   "source": [
    "#example of a Local variable\n",
    "#lambda num: num**2\n",
    "#here num is a local variable defined inside of lambda function"
   ]
  },
  {
   "cell_type": "code",
   "execution_count": 20,
   "id": "373c4a09",
   "metadata": {},
   "outputs": [],
   "source": [
    "#example of a global, enclosing and local variable\n",
    "\n",
    "#GLOBAL\n",
    "name = 'Anand' #this is a declared global string/variable\n",
    "def anand():\n",
    "    def greet():\n",
    "        #ENCLOSING\n",
    "        name = 'Shambs' #this is a declared enclosing string/ variable \n",
    "        def hello():\n",
    "            #LOCAL\n",
    "            name = 'Panse' #this is a declared local varibale\n",
    "            print('Hello '+name) \n",
    "        hello()\n",
    "    greet()\n",
    "    \n",
    "#here, there is no local variable for hello(),\n",
    "#thus the program goes on to find an enclosing variable \n",
    "\n",
    "#check for yourself that, if we comment the encloding or Local variable"
   ]
  },
  {
   "cell_type": "code",
   "execution_count": 21,
   "id": "ceaa9914",
   "metadata": {},
   "outputs": [
    {
     "name": "stdout",
     "output_type": "stream",
     "text": [
      "Hello Panse\n"
     ]
    }
   ],
   "source": [
    "anand()"
   ]
  },
  {
   "cell_type": "code",
   "execution_count": 22,
   "id": "1e8394c3",
   "metadata": {},
   "outputs": [],
   "source": [
    "#Above GLOBAL is the built in names\n",
    "#example\n",
    "# len\n",
    "# print\n",
    "# ...many more\n",
    "#These are not to be overwritten as it will through error "
   ]
  },
  {
   "cell_type": "code",
   "execution_count": 23,
   "id": "8ac0f06e",
   "metadata": {},
   "outputs": [],
   "source": [
    "#another example\n",
    "#we will understand local variable and global variable\n",
    "x = 25\n",
    "\n",
    "def printer():\n",
    "    x = 50\n",
    "    return x"
   ]
  },
  {
   "cell_type": "code",
   "execution_count": 25,
   "id": "ee2a644b",
   "metadata": {},
   "outputs": [
    {
     "name": "stdout",
     "output_type": "stream",
     "text": [
      "25\n"
     ]
    }
   ],
   "source": [
    "print(x) #printing out the global variable"
   ]
  },
  {
   "cell_type": "code",
   "execution_count": 27,
   "id": "197df5f9",
   "metadata": {},
   "outputs": [
    {
     "name": "stdout",
     "output_type": "stream",
     "text": [
      "50\n"
     ]
    }
   ],
   "source": [
    "print(printer()) #printing out the local variable"
   ]
  },
  {
   "cell_type": "code",
   "execution_count": 33,
   "id": "c1f5847e",
   "metadata": {},
   "outputs": [],
   "source": [
    "#let's take another example\n",
    "x = 50\n",
    "\n",
    "def func(x):\n",
    "    print(f'Value of x is {x}')\n",
    "    \n",
    "    #LOCAL REASSIGNMENT!\n",
    "    x = 'NEW VALUE'\n",
    "    print(f'New value of x is {x}')"
   ]
  },
  {
   "cell_type": "code",
   "execution_count": 37,
   "id": "7f164e2a",
   "metadata": {},
   "outputs": [
    {
     "name": "stdout",
     "output_type": "stream",
     "text": [
      "50\n"
     ]
    }
   ],
   "source": [
    "print(x) #printing out the global variable"
   ]
  },
  {
   "cell_type": "code",
   "execution_count": 36,
   "id": "6c8ab3b8",
   "metadata": {},
   "outputs": [
    {
     "name": "stdout",
     "output_type": "stream",
     "text": [
      "Value of x is 50\n",
      "New value of x is NEW VALUE\n"
     ]
    }
   ],
   "source": [
    "func(x)"
   ]
  },
  {
   "cell_type": "code",
   "execution_count": 38,
   "id": "951137b8",
   "metadata": {},
   "outputs": [
    {
     "name": "stdout",
     "output_type": "stream",
     "text": [
      "50\n"
     ]
    }
   ],
   "source": [
    "#now if I try printing x\n",
    "print(x)"
   ]
  },
  {
   "cell_type": "code",
   "execution_count": 39,
   "id": "ebbe3be5",
   "metadata": {},
   "outputs": [],
   "source": [
    "#This is happening because the local reassignment is only happening\n",
    "#inside the local scope and it is not affecting the global variable\n",
    "#so we can say that x = 'NEW VALUE' has a scope only inside the func() function\n",
    "\n",
    "#now let's imagine, we we actually want to reassign 50 with NEW VALUE\n",
    "#in that case, we won't accept x as a parameter in func()\n",
    "#instead we will do the following\n",
    "\n",
    "x = 50\n",
    "\n",
    "def func():\n",
    "    global x # we are asking Python to jump to the global namespace and assign x the global value\n",
    "    #PS. Anything that happens to the global x is going tohave an affect to the x in global space\n",
    "    print(f'Value of x is {x}')\n",
    "    \n",
    "    #LOCAL REASSIGNMENT ON A GLOBAL VARIABLE!\n",
    "    x = 'NEW VALUE'\n",
    "    print(f'New value of GLOBAL x is {x}')"
   ]
  },
  {
   "cell_type": "code",
   "execution_count": 40,
   "id": "bcec52b5",
   "metadata": {},
   "outputs": [
    {
     "name": "stdout",
     "output_type": "stream",
     "text": [
      "50\n"
     ]
    }
   ],
   "source": [
    "print(x) #printing out the global variable"
   ]
  },
  {
   "cell_type": "code",
   "execution_count": 41,
   "id": "df689377",
   "metadata": {},
   "outputs": [
    {
     "name": "stdout",
     "output_type": "stream",
     "text": [
      "Value of x is 50\n",
      "New value of GLOBAL x is NEW VALUE\n"
     ]
    }
   ],
   "source": [
    "func() "
   ]
  },
  {
   "cell_type": "code",
   "execution_count": 44,
   "id": "83153cab",
   "metadata": {},
   "outputs": [
    {
     "name": "stdout",
     "output_type": "stream",
     "text": [
      "NEW VALUE\n"
     ]
    }
   ],
   "source": [
    "print(x) #after executing the function the global variable has affected"
   ]
  },
  {
   "cell_type": "code",
   "execution_count": 45,
   "id": "9e98f8b3",
   "metadata": {},
   "outputs": [],
   "source": [
    "#now usually as beginners we won't use global keyword\n",
    "#if ww want to achieve the above we can do the following\n",
    "\n",
    "x = 50\n",
    "\n",
    "def func(x):\n",
    "\n",
    "    print(f'Value of x is {x}')\n",
    "    \n",
    "    #LOCAL REASSIGNMENT!\n",
    "    x = 'NEW VALUE'\n",
    "    print(f'New value of GLOBAL x is {x}')\n",
    "    return x"
   ]
  },
  {
   "cell_type": "code",
   "execution_count": 46,
   "id": "ce812ba5",
   "metadata": {},
   "outputs": [
    {
     "name": "stdout",
     "output_type": "stream",
     "text": [
      "50\n"
     ]
    }
   ],
   "source": [
    "print(x)"
   ]
  },
  {
   "cell_type": "code",
   "execution_count": 50,
   "id": "bd275e07",
   "metadata": {},
   "outputs": [
    {
     "name": "stdout",
     "output_type": "stream",
     "text": [
      "Value of x is NEW VALUE\n",
      "New value of GLOBAL x is NEW VALUE\n"
     ]
    }
   ],
   "source": [
    "x = func(x) #here, I have saved the new value of x with the help of retrun statement"
   ]
  },
  {
   "cell_type": "code",
   "execution_count": 49,
   "id": "d3b68216",
   "metadata": {},
   "outputs": [
    {
     "data": {
      "text/plain": [
       "'NEW VALUE'"
      ]
     },
     "execution_count": 49,
     "metadata": {},
     "output_type": "execute_result"
    }
   ],
   "source": [
    "x #printing out the new value "
   ]
  },
  {
   "cell_type": "code",
   "execution_count": null,
   "id": "95a545f2",
   "metadata": {},
   "outputs": [],
   "source": []
  }
 ],
 "metadata": {
  "kernelspec": {
   "display_name": "Python 3",
   "language": "python",
   "name": "python3"
  },
  "language_info": {
   "codemirror_mode": {
    "name": "ipython",
    "version": 3
   },
   "file_extension": ".py",
   "mimetype": "text/x-python",
   "name": "python",
   "nbconvert_exporter": "python",
   "pygments_lexer": "ipython3",
   "version": "3.8.8"
  }
 },
 "nbformat": 4,
 "nbformat_minor": 5
}
