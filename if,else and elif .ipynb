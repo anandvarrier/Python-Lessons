{
 "cells": [
  {
   "cell_type": "markdown",
   "id": "c649473d",
   "metadata": {},
   "source": [
    "Syntax of if/else statement \n",
    "    \n",
    "    "
   ]
  },
  {
   "cell_type": "code",
   "execution_count": 2,
   "id": "4c28fc67",
   "metadata": {},
   "outputs": [],
   "source": [
    "#if some_condition:\n",
    "    #execute some code\n",
    "#else: \n",
    "    #do something else"
   ]
  },
  {
   "cell_type": "markdown",
   "id": "b9d70217",
   "metadata": {},
   "source": [
    "Syntax of if/else/elif condition statement"
   ]
  },
  {
   "cell_type": "code",
   "execution_count": 4,
   "id": "a4d26992",
   "metadata": {},
   "outputs": [],
   "source": [
    "#if some_condition:\n",
    "        #execute some code\n",
    "#elif some_other_condition:\n",
    "    #do something different \n",
    "#else: \n",
    "    #do something else\n",
    "    \n",
    "    \n",
    "#WE can have multiple elif statements"
   ]
  },
  {
   "cell_type": "code",
   "execution_count": 5,
   "id": "b0184309",
   "metadata": {},
   "outputs": [
    {
     "name": "stdout",
     "output_type": "stream",
     "text": [
      "ITS TRUE\n"
     ]
    }
   ],
   "source": [
    "if True:\n",
    "    print('ITS TRUE')"
   ]
  },
  {
   "cell_type": "code",
   "execution_count": 6,
   "id": "a43902c4",
   "metadata": {},
   "outputs": [
    {
     "name": "stdout",
     "output_type": "stream",
     "text": [
      "FEED ME!\n"
     ]
    }
   ],
   "source": [
    "hungry = True\n",
    "\n",
    "if hungry:\n",
    "    print('FEED ME!')"
   ]
  },
  {
   "cell_type": "code",
   "execution_count": 9,
   "id": "301ffe66",
   "metadata": {},
   "outputs": [],
   "source": [
    "#there will be no output in this case\n",
    "hungry = False\n",
    "\n",
    "if hungry:\n",
    "    print('FEED ME!')"
   ]
  },
  {
   "cell_type": "code",
   "execution_count": 10,
   "id": "1c9adea2",
   "metadata": {},
   "outputs": [
    {
     "name": "stdout",
     "output_type": "stream",
     "text": [
      "I am not hungry\n"
     ]
    }
   ],
   "source": [
    "hungry = False\n",
    "\n",
    "if hungry:\n",
    "    print('FEED ME!')\n",
    "else:\n",
    "    print('I am not hungry')"
   ]
  },
  {
   "cell_type": "markdown",
   "id": "fb04166d",
   "metadata": {},
   "source": [
    "Multiple branches example "
   ]
  },
  {
   "cell_type": "code",
   "execution_count": 15,
   "id": "9d0c6727",
   "metadata": {},
   "outputs": [
    {
     "name": "stdout",
     "output_type": "stream",
     "text": [
      "Serve with Honour!\n"
     ]
    }
   ],
   "source": [
    "academy = 'OTA'\n",
    "\n",
    "if academy == 'OTA':\n",
    "    print('Serve with Honour!')\n",
    "elif academy == 'IMA':\n",
    "    print('Valour and Wisdom!')\n",
    "elif academy == 'AFA':\n",
    "    print('Touch the Sky with Glory!')\n",
    "else:\n",
    "    print('An Ocean of opprotunities!')\n"
   ]
  },
  {
   "cell_type": "code",
   "execution_count": 19,
   "id": "54f71535",
   "metadata": {},
   "outputs": [
    {
     "name": "stdout",
     "output_type": "stream",
     "text": [
      "What is your name?\n"
     ]
    }
   ],
   "source": [
    "name = 'Alpha'\n",
    "\n",
    "if name == 'Sierra':\n",
    "    print('Hello Sierra!')\n",
    "elif name == 'Victor':\n",
    "    print('Hello Victor!')\n",
    "else:\n",
    "    print('What is your name?')"
   ]
  },
  {
   "cell_type": "code",
   "execution_count": null,
   "id": "78883c7b",
   "metadata": {},
   "outputs": [],
   "source": []
  }
 ],
 "metadata": {
  "kernelspec": {
   "display_name": "Python 3",
   "language": "python",
   "name": "python3"
  },
  "language_info": {
   "codemirror_mode": {
    "name": "ipython",
    "version": 3
   },
   "file_extension": ".py",
   "mimetype": "text/x-python",
   "name": "python",
   "nbconvert_exporter": "python",
   "pygments_lexer": "ipython3",
   "version": "3.8.8"
  }
 },
 "nbformat": 4,
 "nbformat_minor": 5
}
