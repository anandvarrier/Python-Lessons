{
 "cells": [
  {
   "cell_type": "markdown",
   "id": "5f460441",
   "metadata": {},
   "source": [
    "*args"
   ]
  },
  {
   "cell_type": "code",
   "execution_count": 8,
   "id": "190b8f32",
   "metadata": {},
   "outputs": [],
   "source": [
    "#usually we pass arguments into functions which are limited\n",
    "#thats what we have seen so far while programming\n",
    "#eg we want to print 5% of the sum\n",
    "def sum_fun(a,b):\n",
    "    return ((a+b) * 0.05)"
   ]
  },
  {
   "cell_type": "code",
   "execution_count": 9,
   "id": "0780cbc0",
   "metadata": {},
   "outputs": [
    {
     "data": {
      "text/plain": [
       "2.5"
      ]
     },
     "execution_count": 9,
     "metadata": {},
     "output_type": "execute_result"
    }
   ],
   "source": [
    "sum_fun(20,30)"
   ]
  },
  {
   "cell_type": "code",
   "execution_count": 10,
   "id": "8cf8fba6",
   "metadata": {},
   "outputs": [],
   "source": [
    "#However, there would be cases where we are not sure of the number of\n",
    "#arguments we want to pass\n",
    "#in such cases we can use *args\n",
    "#eg we want to print 5% of the sum \n",
    "def sum_function(*args):\n",
    "    return (sum(args) * 0.05)"
   ]
  },
  {
   "cell_type": "code",
   "execution_count": 11,
   "id": "385b0711",
   "metadata": {},
   "outputs": [
    {
     "data": {
      "text/plain": [
       "5.45"
      ]
     },
     "execution_count": 11,
     "metadata": {},
     "output_type": "execute_result"
    }
   ],
   "source": [
    "sum_function(20,30,40,10,2,4,3)"
   ]
  },
  {
   "cell_type": "code",
   "execution_count": 15,
   "id": "decf68f6",
   "metadata": {},
   "outputs": [],
   "source": [
    "#REMEMBER\n",
    "#args accepts values in form of tuples\n",
    "#eg\n",
    "def sum_func(*args):\n",
    "    print(args)"
   ]
  },
  {
   "cell_type": "code",
   "execution_count": 14,
   "id": "c2177522",
   "metadata": {},
   "outputs": [
    {
     "name": "stdout",
     "output_type": "stream",
     "text": [
      "(1, 2, 49, 29)\n"
     ]
    }
   ],
   "source": [
    "sum_func(1,2,49,29)"
   ]
  },
  {
   "cell_type": "code",
   "execution_count": 28,
   "id": "0bdffa4b",
   "metadata": {},
   "outputs": [],
   "source": [
    "#NOTE: the word args or kwargs can actually be replaced with any name BUT\n",
    "#as per convention we should use args and kwargs\n",
    "#args stand for arbitratry number of parameters"
   ]
  },
  {
   "cell_type": "code",
   "execution_count": 17,
   "id": "efe0dc70",
   "metadata": {},
   "outputs": [],
   "source": [
    "#for better undertanding we will loop through the number of arguments \n",
    "#just like we do looping through tuples\n",
    "def my_sum(*args):\n",
    "    for item in args:\n",
    "        print(item)"
   ]
  },
  {
   "cell_type": "code",
   "execution_count": 18,
   "id": "4e5d6783",
   "metadata": {},
   "outputs": [
    {
     "name": "stdout",
     "output_type": "stream",
     "text": [
      "1\n",
      "2\n",
      "33\n",
      "45\n",
      "678\n"
     ]
    }
   ],
   "source": [
    "my_sum(1,2,33,45,678)"
   ]
  },
  {
   "cell_type": "markdown",
   "id": "2897ef73",
   "metadata": {},
   "source": [
    "**kwargs"
   ]
  },
  {
   "cell_type": "code",
   "execution_count": 27,
   "id": "1d6d61ba",
   "metadata": {},
   "outputs": [],
   "source": [
    "#MAIN DIFFERENCE BETWEEN THE TWO: \n",
    "#**kwargs treats its values in the form of dictionary like key value pair\n",
    "#**args treats its values in the form of tuples"
   ]
  },
  {
   "cell_type": "code",
   "execution_count": 25,
   "id": "8f851457",
   "metadata": {},
   "outputs": [],
   "source": [
    "#eg\n",
    "#here in the below program the .format is accepting the key\n",
    "def myfunc(**kwargs):\n",
    "    print(kwargs) #to check the accepting format\n",
    "    if 'fruit' in kwargs:\n",
    "        print('My favourite fruit is {}'.format(kwargs['fruit']))\n",
    "    else:\n",
    "        print('I like vegetables!')"
   ]
  },
  {
   "cell_type": "code",
   "execution_count": 26,
   "id": "43c66515",
   "metadata": {},
   "outputs": [
    {
     "name": "stdout",
     "output_type": "stream",
     "text": [
      "{'fruit': 'Mango', 'vege': 'Bhindi'}\n",
      "My favourite fruit is Mango\n"
     ]
    }
   ],
   "source": [
    "myfunc(fruit='Mango', vege='Bhindi')"
   ]
  },
  {
   "cell_type": "code",
   "execution_count": 31,
   "id": "faeac1d3",
   "metadata": {},
   "outputs": [],
   "source": [
    "#let us combine both in the smae function\n",
    "def food(*args,**kwargs):\n",
    "    print(args) #to check the accepting format\n",
    "    print(kwargs) #to check the accepting format\n",
    "    print('I would like to have {} {}'.format(args[0],kwargs['food']))"
   ]
  },
  {
   "cell_type": "code",
   "execution_count": 32,
   "id": "6df8a954",
   "metadata": {},
   "outputs": [
    {
     "name": "stdout",
     "output_type": "stream",
     "text": [
      "(2, 3)\n",
      "{'food': 'Panner Burger', 'juice': 'Lemon Juice'}\n",
      "I would like to have 2 Panner Burger\n"
     ]
    }
   ],
   "source": [
    "food(2,3,food='Panner Burger', juice='Lemon Juice')"
   ]
  },
  {
   "cell_type": "code",
   "execution_count": null,
   "id": "f2483df5",
   "metadata": {},
   "outputs": [],
   "source": []
  }
 ],
 "metadata": {
  "kernelspec": {
   "display_name": "Python 3",
   "language": "python",
   "name": "python3"
  },
  "language_info": {
   "codemirror_mode": {
    "name": "ipython",
    "version": 3
   },
   "file_extension": ".py",
   "mimetype": "text/x-python",
   "name": "python",
   "nbconvert_exporter": "python",
   "pygments_lexer": "ipython3",
   "version": "3.8.8"
  }
 },
 "nbformat": 4,
 "nbformat_minor": 5
}
