{
 "cells": [
  {
   "cell_type": "markdown",
   "id": "18fbfaf9",
   "metadata": {},
   "source": [
    "WarmUp Section"
   ]
  },
  {
   "cell_type": "markdown",
   "id": "2a772987",
   "metadata": {},
   "source": [
    "LESSER OF TWO EVENS: Write a function that returns the lesser of two given numbers if both numbers are even, but returns the greater if one or both numbers are odd"
   ]
  },
  {
   "cell_type": "code",
   "execution_count": 1,
   "id": "5d1fa70d",
   "metadata": {},
   "outputs": [],
   "source": [
    "def lesser_of_two_evens(a,b):\n",
    "    #Condition when both numbers are even\n",
    "    if a%2==0 and b%2==0:\n",
    "        if a>b:\n",
    "            return b\n",
    "        else:\n",
    "            return a\n",
    "    #Condition when either one of them is even\n",
    "    else:\n",
    "        if a>b:\n",
    "            return a\n",
    "        else:\n",
    "            return b"
   ]
  },
  {
   "cell_type": "code",
   "execution_count": 2,
   "id": "250aa7b8",
   "metadata": {},
   "outputs": [
    {
     "data": {
      "text/plain": [
       "2"
      ]
     },
     "execution_count": 2,
     "metadata": {},
     "output_type": "execute_result"
    }
   ],
   "source": [
    "lesser_of_two_evens(2,4)"
   ]
  },
  {
   "cell_type": "code",
   "execution_count": 3,
   "id": "ddcdf37a",
   "metadata": {},
   "outputs": [
    {
     "data": {
      "text/plain": [
       "5"
      ]
     },
     "execution_count": 3,
     "metadata": {},
     "output_type": "execute_result"
    }
   ],
   "source": [
    "lesser_of_two_evens(2,5)"
   ]
  },
  {
   "cell_type": "code",
   "execution_count": 4,
   "id": "574415d2",
   "metadata": {},
   "outputs": [
    {
     "data": {
      "text/plain": [
       "9"
      ]
     },
     "execution_count": 4,
     "metadata": {},
     "output_type": "execute_result"
    }
   ],
   "source": [
    "lesser_of_two_evens(9,5)"
   ]
  },
  {
   "cell_type": "code",
   "execution_count": 9,
   "id": "418cd6de",
   "metadata": {},
   "outputs": [],
   "source": [
    "#A cleaner way of the above program would be by using the min and max function\n",
    "def lesser_of_two_evens(a,b):\n",
    "    #Condition when both numbers are even\n",
    "    if a%2==0 and b%2==0:\n",
    "        return min(a,b)\n",
    "    #Condition when either one of them is even\n",
    "    else:\n",
    "        return max(a,b)"
   ]
  },
  {
   "cell_type": "code",
   "execution_count": 6,
   "id": "c74907b9",
   "metadata": {},
   "outputs": [
    {
     "data": {
      "text/plain": [
       "2"
      ]
     },
     "execution_count": 6,
     "metadata": {},
     "output_type": "execute_result"
    }
   ],
   "source": [
    "lesser_of_two_evens(2,4)"
   ]
  },
  {
   "cell_type": "code",
   "execution_count": 7,
   "id": "c9e57323",
   "metadata": {},
   "outputs": [
    {
     "data": {
      "text/plain": [
       "7"
      ]
     },
     "execution_count": 7,
     "metadata": {},
     "output_type": "execute_result"
    }
   ],
   "source": [
    "lesser_of_two_evens(7,4)"
   ]
  },
  {
   "cell_type": "code",
   "execution_count": 8,
   "id": "3547be5e",
   "metadata": {},
   "outputs": [
    {
     "data": {
      "text/plain": [
       "9"
      ]
     },
     "execution_count": 8,
     "metadata": {},
     "output_type": "execute_result"
    }
   ],
   "source": [
    "lesser_of_two_evens(9,3)"
   ]
  },
  {
   "cell_type": "markdown",
   "id": "72fa6d0a",
   "metadata": {},
   "source": [
    "ANIMAL CRACKERS: Write a function takes a two-word string and returns True if both words begin with same letter"
   ]
  },
  {
   "cell_type": "code",
   "execution_count": 13,
   "id": "1b8eff7d",
   "metadata": {},
   "outputs": [],
   "source": [
    " def animal_crackers(text):\n",
    "        wordlist = text.split()\n",
    "        \n",
    "        firstword = wordlist[0]\n",
    "        secondword = wordlist[1]\n",
    "        \n",
    "        if firstword[0] == secondword[0]:\n",
    "            return True\n",
    "        else:\n",
    "            return False"
   ]
  },
  {
   "cell_type": "code",
   "execution_count": 14,
   "id": "991bef44",
   "metadata": {},
   "outputs": [
    {
     "data": {
      "text/plain": [
       "True"
      ]
     },
     "execution_count": 14,
     "metadata": {},
     "output_type": "execute_result"
    }
   ],
   "source": [
    "animal_crackers('Levelheaded Llama')"
   ]
  },
  {
   "cell_type": "code",
   "execution_count": 15,
   "id": "db57d877",
   "metadata": {},
   "outputs": [
    {
     "data": {
      "text/plain": [
       "False"
      ]
     },
     "execution_count": 15,
     "metadata": {},
     "output_type": "execute_result"
    }
   ],
   "source": [
    "animal_crackers('Crazy Kangaroo')"
   ]
  },
  {
   "cell_type": "code",
   "execution_count": 17,
   "id": "23835525",
   "metadata": {},
   "outputs": [],
   "source": [
    "#A much efficient manner of the above code would be\n",
    "def animal_crackers(text):\n",
    "    wordlist = text.split()\n",
    "    #here, we are using double index call\n",
    "    if wordlist[0][0] == wordlist[1][0]:\n",
    "        return True\n",
    "    else:\n",
    "        return False"
   ]
  },
  {
   "cell_type": "code",
   "execution_count": 18,
   "id": "033d5244",
   "metadata": {},
   "outputs": [
    {
     "data": {
      "text/plain": [
       "True"
      ]
     },
     "execution_count": 18,
     "metadata": {},
     "output_type": "execute_result"
    }
   ],
   "source": [
    "animal_crackers('Levelheaded Llama')"
   ]
  },
  {
   "cell_type": "code",
   "execution_count": 19,
   "id": "ba37a6b5",
   "metadata": {},
   "outputs": [
    {
     "data": {
      "text/plain": [
       "False"
      ]
     },
     "execution_count": 19,
     "metadata": {},
     "output_type": "execute_result"
    }
   ],
   "source": [
    "animal_crackers('Crazy Kangaroo')"
   ]
  },
  {
   "cell_type": "code",
   "execution_count": 22,
   "id": "ef20de0a",
   "metadata": {},
   "outputs": [],
   "source": [
    "#another efficient manner would be\n",
    "def animal_crackers(text):\n",
    "    wordlist = text.split()\n",
    "    #here, we are using double index call with just return statement\n",
    "    return wordlist[0][0] == wordlist[1][0]"
   ]
  },
  {
   "cell_type": "code",
   "execution_count": 23,
   "id": "64188c1a",
   "metadata": {},
   "outputs": [
    {
     "data": {
      "text/plain": [
       "True"
      ]
     },
     "execution_count": 23,
     "metadata": {},
     "output_type": "execute_result"
    }
   ],
   "source": [
    "animal_crackers('Levelheaded Llama')"
   ]
  },
  {
   "cell_type": "code",
   "execution_count": 24,
   "id": "774e7183",
   "metadata": {},
   "outputs": [
    {
     "data": {
      "text/plain": [
       "False"
      ]
     },
     "execution_count": 24,
     "metadata": {},
     "output_type": "execute_result"
    }
   ],
   "source": [
    "animal_crackers('Crazy Kangaroo')"
   ]
  },
  {
   "cell_type": "code",
   "execution_count": 25,
   "id": "fa72770f",
   "metadata": {},
   "outputs": [
    {
     "data": {
      "text/plain": [
       "False"
      ]
     },
     "execution_count": 25,
     "metadata": {},
     "output_type": "execute_result"
    }
   ],
   "source": [
    "#now, what if the either of the first letters is lowercase?\n",
    "animal_crackers('Levelheaded llama')"
   ]
  },
  {
   "cell_type": "code",
   "execution_count": 26,
   "id": "ca00fa77",
   "metadata": {},
   "outputs": [],
   "source": [
    "#it is returning false \n",
    "#to solve this problem we can do the following\n",
    "def animal_crackers(text):\n",
    "    #here, we are combining two tags\n",
    "    wordlist = text.lower().split()\n",
    "    #here, we are using double index call with just return statement\n",
    "    return wordlist[0][0] == wordlist[1][0]"
   ]
  },
  {
   "cell_type": "code",
   "execution_count": 27,
   "id": "8324c3dd",
   "metadata": {},
   "outputs": [
    {
     "data": {
      "text/plain": [
       "True"
      ]
     },
     "execution_count": 27,
     "metadata": {},
     "output_type": "execute_result"
    }
   ],
   "source": [
    "#now lets check the above condition again\n",
    "animal_crackers('Levelheaded llama')"
   ]
  },
  {
   "cell_type": "markdown",
   "id": "d32e4b38",
   "metadata": {},
   "source": [
    "MAKES TWENTY: Given two integers, return True if the sum of the integers is 20 or if one of the integers is 20. If not, return False"
   ]
  },
  {
   "cell_type": "code",
   "execution_count": 28,
   "id": "28671966",
   "metadata": {},
   "outputs": [],
   "source": [
    "def makes_twenty(a,b):\n",
    "    if a+b==20 or ((a or b) ==20):\n",
    "        return True\n",
    "    else:\n",
    "        return False"
   ]
  },
  {
   "cell_type": "code",
   "execution_count": 29,
   "id": "7cd6940c",
   "metadata": {},
   "outputs": [
    {
     "data": {
      "text/plain": [
       "True"
      ]
     },
     "execution_count": 29,
     "metadata": {},
     "output_type": "execute_result"
    }
   ],
   "source": [
    "makes_twenty(20,10)"
   ]
  },
  {
   "cell_type": "code",
   "execution_count": 30,
   "id": "8abfc4e3",
   "metadata": {},
   "outputs": [
    {
     "data": {
      "text/plain": [
       "True"
      ]
     },
     "execution_count": 30,
     "metadata": {},
     "output_type": "execute_result"
    }
   ],
   "source": [
    "makes_twenty(12,8)"
   ]
  },
  {
   "cell_type": "code",
   "execution_count": 31,
   "id": "ad153613",
   "metadata": {},
   "outputs": [
    {
     "data": {
      "text/plain": [
       "False"
      ]
     },
     "execution_count": 31,
     "metadata": {},
     "output_type": "execute_result"
    }
   ],
   "source": [
    "makes_twenty(3,2)"
   ]
  },
  {
   "cell_type": "code",
   "execution_count": 32,
   "id": "ec60c617",
   "metadata": {},
   "outputs": [],
   "source": [
    "#another efficient way is as follows\n",
    "def makes_twenty(a,b):\n",
    "    return a+b==20 or ((a or b) ==20)"
   ]
  },
  {
   "cell_type": "code",
   "execution_count": 33,
   "id": "1941f40f",
   "metadata": {},
   "outputs": [
    {
     "data": {
      "text/plain": [
       "True"
      ]
     },
     "execution_count": 33,
     "metadata": {},
     "output_type": "execute_result"
    }
   ],
   "source": [
    "makes_twenty(20,10)"
   ]
  },
  {
   "cell_type": "code",
   "execution_count": 34,
   "id": "a784f194",
   "metadata": {},
   "outputs": [
    {
     "data": {
      "text/plain": [
       "True"
      ]
     },
     "execution_count": 34,
     "metadata": {},
     "output_type": "execute_result"
    }
   ],
   "source": [
    "makes_twenty(12,8)"
   ]
  },
  {
   "cell_type": "code",
   "execution_count": 35,
   "id": "7e5ef463",
   "metadata": {},
   "outputs": [
    {
     "data": {
      "text/plain": [
       "False"
      ]
     },
     "execution_count": 35,
     "metadata": {},
     "output_type": "execute_result"
    }
   ],
   "source": [
    "makes_twenty(3,2)"
   ]
  },
  {
   "cell_type": "markdown",
   "id": "cd92c348",
   "metadata": {},
   "source": [
    "Level One"
   ]
  },
  {
   "cell_type": "markdown",
   "id": "7192f352",
   "metadata": {},
   "source": [
    "OLD MACDONALD: Write a function that capitalizes the first and fourth letters of a name"
   ]
  },
  {
   "cell_type": "code",
   "execution_count": 53,
   "id": "9ce3e309",
   "metadata": {},
   "outputs": [],
   "source": [
    "def old_macdonald(name):\n",
    "    new_word = name.split()\n",
    "\n",
    "    first = new_word[0]\n",
    "    inbetween = new_word[0][1:3]\n",
    "    second = new_word[1]\n",
    "    rest = new_word[1][1:]\n",
    "    \n",
    "    O = first[0].upper()\n",
    "    M = second[0].upper()\n",
    "    \n",
    "    return (O + inbetween + M + rest)"
   ]
  },
  {
   "cell_type": "code",
   "execution_count": 57,
   "id": "8655ac6c",
   "metadata": {},
   "outputs": [
    {
     "data": {
      "text/plain": [
       "'OldMacdonald'"
      ]
     },
     "execution_count": 57,
     "metadata": {},
     "output_type": "execute_result"
    }
   ],
   "source": [
    "old_macdonald('old macdonald')"
   ]
  },
  {
   "cell_type": "code",
   "execution_count": 60,
   "id": "e6877a2e",
   "metadata": {},
   "outputs": [],
   "source": [
    "#However the above is not the output we want we will keep the above program as it is\n",
    "#as we have used a new logic with a new output which works\n",
    "\n",
    "def old_macdonald(name):\n",
    "    \n",
    "    first_letter = name[0]\n",
    "    inbetween = name[1:3]\n",
    "    fourth_letter = name[3]\n",
    "    rest = name[4:]\n",
    "    \n",
    "    return first_letter.upper() + inbetween + fourth_letter.upper() + rest"
   ]
  },
  {
   "cell_type": "code",
   "execution_count": 61,
   "id": "bb4116b2",
   "metadata": {},
   "outputs": [
    {
     "data": {
      "text/plain": [
       "'MacDonald'"
      ]
     },
     "execution_count": 61,
     "metadata": {},
     "output_type": "execute_result"
    }
   ],
   "source": [
    "old_macdonald('macdonald')"
   ]
  },
  {
   "cell_type": "code",
   "execution_count": 64,
   "id": "6d50c3de",
   "metadata": {},
   "outputs": [],
   "source": [
    "#another way is by using capitalize method\n",
    "def old_macdonald(name):\n",
    "    first_halve = name[:3]\n",
    "    second_halve = name[3:]\n",
    "    \n",
    "    return first_halve.capitalize() + second_halve.capitalize()"
   ]
  },
  {
   "cell_type": "code",
   "execution_count": 65,
   "id": "5789ee99",
   "metadata": {},
   "outputs": [
    {
     "data": {
      "text/plain": [
       "'MacDonald'"
      ]
     },
     "execution_count": 65,
     "metadata": {},
     "output_type": "execute_result"
    }
   ],
   "source": [
    "old_macdonald('macdonald')"
   ]
  },
  {
   "cell_type": "markdown",
   "id": "69b7191e",
   "metadata": {},
   "source": [
    "MASTER YODA: Given a sentence, return a sentence with the words reversed"
   ]
  },
  {
   "cell_type": "code",
   "execution_count": 68,
   "id": "1c5d3df7",
   "metadata": {},
   "outputs": [
    {
     "name": "stdout",
     "output_type": "stream",
     "text": [
      "['home', 'am', 'I']\n"
     ]
    }
   ],
   "source": [
    "#a code for underatanding purpose\n",
    "text = 'I am home'\n",
    "split_words = text.split()\n",
    "new_text = split_words[::-1]  \n",
    "print (new_text)"
   ]
  },
  {
   "cell_type": "code",
   "execution_count": 75,
   "id": "e17a7341",
   "metadata": {},
   "outputs": [],
   "source": [
    "def master_yoda(text):\n",
    "    split_words = text.split()\n",
    "    new_sentence = split_words[::-1]\n",
    "    \n",
    "    return (new_sentence)"
   ]
  },
  {
   "cell_type": "code",
   "execution_count": 76,
   "id": "28dee509",
   "metadata": {},
   "outputs": [
    {
     "data": {
      "text/plain": [
       "['Navy', 'Indian', 'in', 'am', 'I']"
      ]
     },
     "execution_count": 76,
     "metadata": {},
     "output_type": "execute_result"
    }
   ],
   "source": [
    "master_yoda('I am in Indian Navy')"
   ]
  },
  {
   "cell_type": "code",
   "execution_count": 72,
   "id": "d8b1e7ad",
   "metadata": {},
   "outputs": [
    {
     "data": {
      "text/plain": [
       "'a b c'"
      ]
     },
     "execution_count": 72,
     "metadata": {},
     "output_type": "execute_result"
    }
   ],
   "source": [
    "#here we need to return a string and not a list \n",
    "#we will use .join method\n",
    "\n",
    "example = ['a','b','c']\n",
    "' '.join(example)\n",
    "#notice the output, it is returning the list \n",
    "#in the form of a new string with space in between"
   ]
  },
  {
   "cell_type": "code",
   "execution_count": 77,
   "id": "817076c2",
   "metadata": {},
   "outputs": [],
   "source": [
    "#so now the program would be\n",
    "def master_yoda(text):\n",
    "    split_words = text.split()\n",
    "    new_sentence = split_words[::-1]\n",
    "    \n",
    "    return ' '.join(new_sentence)"
   ]
  },
  {
   "cell_type": "code",
   "execution_count": 78,
   "id": "efb38bec",
   "metadata": {},
   "outputs": [
    {
     "data": {
      "text/plain": [
       "'home am I'"
      ]
     },
     "execution_count": 78,
     "metadata": {},
     "output_type": "execute_result"
    }
   ],
   "source": [
    "master_yoda('I am home')"
   ]
  },
  {
   "cell_type": "markdown",
   "id": "f9dcb068",
   "metadata": {},
   "source": [
    "ALMOST THERE: Given an integer n, return True if n is within 10 of either 100 or 200"
   ]
  },
  {
   "cell_type": "code",
   "execution_count": 80,
   "id": "d940f060",
   "metadata": {},
   "outputs": [],
   "source": [
    "def almost_there(n):\n",
    "    \n",
    "    return (abs(100-n) <= 10) or (abs(200-n) <= 10)"
   ]
  },
  {
   "cell_type": "code",
   "execution_count": 85,
   "id": "42ad08be",
   "metadata": {},
   "outputs": [
    {
     "data": {
      "text/plain": [
       "True"
      ]
     },
     "execution_count": 85,
     "metadata": {},
     "output_type": "execute_result"
    }
   ],
   "source": [
    "almost_there(90)"
   ]
  },
  {
   "cell_type": "markdown",
   "id": "6ece09b7",
   "metadata": {},
   "source": [
    "almost_there(104)"
   ]
  },
  {
   "cell_type": "code",
   "execution_count": 83,
   "id": "c395cef4",
   "metadata": {},
   "outputs": [
    {
     "data": {
      "text/plain": [
       "False"
      ]
     },
     "execution_count": 83,
     "metadata": {},
     "output_type": "execute_result"
    }
   ],
   "source": [
    "almost_there(150)"
   ]
  },
  {
   "cell_type": "code",
   "execution_count": 84,
   "id": "98f3e852",
   "metadata": {},
   "outputs": [
    {
     "data": {
      "text/plain": [
       "True"
      ]
     },
     "execution_count": 84,
     "metadata": {},
     "output_type": "execute_result"
    }
   ],
   "source": [
    "almost_there(209)"
   ]
  },
  {
   "cell_type": "markdown",
   "id": "46c42af5",
   "metadata": {},
   "source": [
    "Level Two"
   ]
  },
  {
   "cell_type": "markdown",
   "id": "b26105f9",
   "metadata": {},
   "source": [
    "FIND 33:\n",
    "Given a list of ints, return True if the array contains a 3 next to a 3 somewhere."
   ]
  },
  {
   "cell_type": "code",
   "execution_count": 108,
   "id": "bded2987",
   "metadata": {},
   "outputs": [],
   "source": [
    "def has_33(nums):\n",
    "      for i in range(0,len(nums)-1):\n",
    "            if nums[i] == 3 and nums[i+1] == 3:\n",
    "                return True\n",
    "            \n",
    "      return False"
   ]
  },
  {
   "cell_type": "code",
   "execution_count": 109,
   "id": "423e51f9",
   "metadata": {},
   "outputs": [
    {
     "data": {
      "text/plain": [
       "False"
      ]
     },
     "execution_count": 109,
     "metadata": {},
     "output_type": "execute_result"
    }
   ],
   "source": [
    "has_33([1,2,4,6,3,2,3])"
   ]
  },
  {
   "cell_type": "code",
   "execution_count": 115,
   "id": "2956f5e5",
   "metadata": {},
   "outputs": [],
   "source": [
    "#another approach to the same program would be as follows\n",
    "def has_33(nums):\n",
    "      for i in range(0,len(nums)-1):\n",
    "            if nums[i:i+2] == [3,3]:\n",
    "                return True\n",
    "            \n",
    "      return False"
   ]
  },
  {
   "cell_type": "code",
   "execution_count": 116,
   "id": "92a916c3",
   "metadata": {},
   "outputs": [
    {
     "data": {
      "text/plain": [
       "True"
      ]
     },
     "execution_count": 116,
     "metadata": {},
     "output_type": "execute_result"
    }
   ],
   "source": [
    "has_33([3,3,4,6,3,3])"
   ]
  },
  {
   "cell_type": "markdown",
   "id": "c693ad2f",
   "metadata": {},
   "source": [
    "PAPER DOLL: Given a string, return a string where for every character in the original there are three characters"
   ]
  },
  {
   "cell_type": "code",
   "execution_count": 117,
   "id": "02264f3e",
   "metadata": {},
   "outputs": [],
   "source": [
    "def paper_doll(text):\n",
    "    result = ''\n",
    "    \n",
    "    for i in text:\n",
    "        result += i*3\n",
    "    return result"
   ]
  },
  {
   "cell_type": "code",
   "execution_count": 118,
   "id": "1f64e6e0",
   "metadata": {},
   "outputs": [
    {
     "data": {
      "text/plain": [
       "'mmmaaalllaaayyyaaalllaaammm'"
      ]
     },
     "execution_count": 118,
     "metadata": {},
     "output_type": "execute_result"
    }
   ],
   "source": [
    "paper_doll('malayalam')"
   ]
  },
  {
   "cell_type": "markdown",
   "id": "c5338e4c",
   "metadata": {},
   "source": [
    "BLACKJACK: Given three integers between 1 and 11, if their sum is less than or equal to 21, return their sum. If their sum exceeds 21 and there's an eleven, reduce the total sum by 10. Finally, if the sum (even after adjustment) exceeds 21, return 'BUST'"
   ]
  },
  {
   "cell_type": "code",
   "execution_count": 150,
   "id": "03d20977",
   "metadata": {},
   "outputs": [],
   "source": [
    "def blackjack(a,b,c):\n",
    "    sum = a+b+c\n",
    "    if sum <=21:\n",
    "        return sum\n",
    "    elif 11 in [a,b,c] or sum >21:\n",
    "        new_sum = sum-10\n",
    "        print(new_sum)\n",
    "        if new_sum >21:\n",
    "             return 'BUST'"
   ]
  },
  {
   "cell_type": "code",
   "execution_count": 124,
   "id": "f95490ac",
   "metadata": {},
   "outputs": [
    {
     "data": {
      "text/plain": [
       "18"
      ]
     },
     "execution_count": 124,
     "metadata": {},
     "output_type": "execute_result"
    }
   ],
   "source": [
    "blackjack(5,6,7) "
   ]
  },
  {
   "cell_type": "code",
   "execution_count": 152,
   "id": "6aefecbb",
   "metadata": {},
   "outputs": [
    {
     "name": "stdout",
     "output_type": "stream",
     "text": [
      "24\n"
     ]
    },
    {
     "data": {
      "text/plain": [
       "'BUST'"
      ]
     },
     "execution_count": 152,
     "metadata": {},
     "output_type": "execute_result"
    }
   ],
   "source": [
    "blackjack(14,9,11)"
   ]
  },
  {
   "cell_type": "code",
   "execution_count": 153,
   "id": "d5c888e6",
   "metadata": {},
   "outputs": [
    {
     "name": "stdout",
     "output_type": "stream",
     "text": [
      "17\n"
     ]
    }
   ],
   "source": [
    "blackjack(9,9,9)"
   ]
  },
  {
   "cell_type": "code",
   "execution_count": 159,
   "id": "96770bc6",
   "metadata": {},
   "outputs": [],
   "source": [
    "#the above program works but the program is not what is expected\n",
    "def blackjack(a,b,c):\n",
    "    \n",
    "    if sum([a,b,c]) <=21:\n",
    "        return sum([a,b,c])\n",
    "    elif 11 in [a,b,c] and sum([a,b,c]) <= 31:\n",
    "        return sum([a,b,c])-10\n",
    "    else:\n",
    "        return 'BUST'"
   ]
  },
  {
   "cell_type": "code",
   "execution_count": 160,
   "id": "4404dad5",
   "metadata": {},
   "outputs": [
    {
     "data": {
      "text/plain": [
       "18"
      ]
     },
     "execution_count": 160,
     "metadata": {},
     "output_type": "execute_result"
    }
   ],
   "source": [
    "blackjack(5,6,7) "
   ]
  },
  {
   "cell_type": "code",
   "execution_count": 161,
   "id": "007aeb8c",
   "metadata": {},
   "outputs": [
    {
     "data": {
      "text/plain": [
       "'BUST'"
      ]
     },
     "execution_count": 161,
     "metadata": {},
     "output_type": "execute_result"
    }
   ],
   "source": [
    "blackjack(14,9,11)"
   ]
  },
  {
   "cell_type": "code",
   "execution_count": 162,
   "id": "1d0f2a3a",
   "metadata": {},
   "outputs": [
    {
     "data": {
      "text/plain": [
       "19"
      ]
     },
     "execution_count": 162,
     "metadata": {},
     "output_type": "execute_result"
    }
   ],
   "source": [
    "blackjack(9,9,11)"
   ]
  },
  {
   "cell_type": "code",
   "execution_count": 163,
   "id": "06715024",
   "metadata": {},
   "outputs": [
    {
     "data": {
      "text/plain": [
       "'BUST'"
      ]
     },
     "execution_count": 163,
     "metadata": {},
     "output_type": "execute_result"
    }
   ],
   "source": [
    "blackjack(9,9,9)"
   ]
  },
  {
   "cell_type": "markdown",
   "id": "4233aa36",
   "metadata": {},
   "source": [
    "SUMMER OF '69: Return the sum of the numbers in the array, except ignore sections of numbers starting with a 6 and extending to the next 9 (every 6 will be followed by at least one 9). Return 0 for no numbers."
   ]
  },
  {
   "cell_type": "code",
   "execution_count": 2,
   "id": "7c189749",
   "metadata": {},
   "outputs": [],
   "source": [
    "def summer_69(arr):\n",
    "    total = 0\n",
    "    add = True\n",
    "    \n",
    "    for num in arr:\n",
    "        while add:\n",
    "            if num != 6:\n",
    "                total += num\n",
    "                break\n",
    "            else:\n",
    "                add = False\n",
    "        while not add:\n",
    "            if num != 9:\n",
    "                break\n",
    "            else:\n",
    "                add = True\n",
    "                break\n",
    "    return total"
   ]
  },
  {
   "cell_type": "code",
   "execution_count": 3,
   "id": "e7faf0d3",
   "metadata": {},
   "outputs": [
    {
     "data": {
      "text/plain": [
       "9"
      ]
     },
     "execution_count": 3,
     "metadata": {},
     "output_type": "execute_result"
    }
   ],
   "source": [
    "summer_69([1,3,5])"
   ]
  },
  {
   "cell_type": "code",
   "execution_count": 4,
   "id": "c662ac38",
   "metadata": {},
   "outputs": [
    {
     "data": {
      "text/plain": [
       "9"
      ]
     },
     "execution_count": 4,
     "metadata": {},
     "output_type": "execute_result"
    }
   ],
   "source": [
    "summer_69([1,3,5,6,7,8,9])"
   ]
  },
  {
   "cell_type": "code",
   "execution_count": 5,
   "id": "1fc39fa2",
   "metadata": {},
   "outputs": [
    {
     "data": {
      "text/plain": [
       "20"
      ]
     },
     "execution_count": 5,
     "metadata": {},
     "output_type": "execute_result"
    }
   ],
   "source": [
    "summer_69([1,3,5, 6,9,11])"
   ]
  },
  {
   "cell_type": "markdown",
   "id": "d8283310",
   "metadata": {},
   "source": [
    "Challenge Problems"
   ]
  },
  {
   "cell_type": "markdown",
   "id": "1bd70c31",
   "metadata": {},
   "source": [
    "SPY GAME: Write a function that takes in a list of integers and returns True if it contains 007 in order"
   ]
  },
  {
   "cell_type": "code",
   "execution_count": 10,
   "id": "d28ef3e2",
   "metadata": {},
   "outputs": [],
   "source": [
    "def spy_game(nums):\n",
    "    code = [0,0,7,'x']\n",
    "    for i in nums:\n",
    "        if i == code[0]:\n",
    "            code.pop(0)\n",
    "    return len(code) == 1"
   ]
  },
  {
   "cell_type": "code",
   "execution_count": 11,
   "id": "86e493d9",
   "metadata": {},
   "outputs": [
    {
     "data": {
      "text/plain": [
       "True"
      ]
     },
     "execution_count": 11,
     "metadata": {},
     "output_type": "execute_result"
    }
   ],
   "source": [
    "spy_game([1,2,4,0,0,7,5])"
   ]
  },
  {
   "cell_type": "code",
   "execution_count": 12,
   "id": "8befb282",
   "metadata": {},
   "outputs": [
    {
     "data": {
      "text/plain": [
       "True"
      ]
     },
     "execution_count": 12,
     "metadata": {},
     "output_type": "execute_result"
    }
   ],
   "source": [
    "spy_game([1,0,2,4,0,5,7])"
   ]
  },
  {
   "cell_type": "code",
   "execution_count": 13,
   "id": "4e1367fc",
   "metadata": {},
   "outputs": [
    {
     "data": {
      "text/plain": [
       "False"
      ]
     },
     "execution_count": 13,
     "metadata": {},
     "output_type": "execute_result"
    }
   ],
   "source": [
    "spy_game([1,7,2,0,4,5,0])"
   ]
  },
  {
   "cell_type": "markdown",
   "id": "f0c13828",
   "metadata": {},
   "source": [
    "COUNT PRIMES: Write a function that returns the number of prime numbers that exist up to and including a given number"
   ]
  },
  {
   "cell_type": "code",
   "execution_count": 17,
   "id": "03c00cac",
   "metadata": {},
   "outputs": [],
   "source": [
    "def count_primes(num):\n",
    "    \n",
    "    #check for 0 or 1 input\n",
    "    if num < 2:\n",
    "        return 0\n",
    "    ######################\n",
    "    # 2 or gretaer number\n",
    "    ######################\n",
    "    \n",
    "    #Store our prime numbers\n",
    "    primes = [2]\n",
    "    #Counter going up to the input num\n",
    "    x = 3\n",
    "    \n",
    "    # x is going through every number ip to the input num\n",
    "    while x <= num:\n",
    "        #Check if x is prime\n",
    "        for y in range(3,x,2):\n",
    "            if x%y == 0:\n",
    "                x += 2\n",
    "                break\n",
    "        else:\n",
    "            primes.append(x)\n",
    "            x += 2\n",
    "    print(primes)\n",
    "    return len(primes)"
   ]
  },
  {
   "cell_type": "code",
   "execution_count": 19,
   "id": "e28c6f6a",
   "metadata": {},
   "outputs": [],
   "source": [
    "#A unique thing in Python is that we canuse a else statement in for loop \n",
    "#Check out the indentation of the for loop and the else statement above"
   ]
  },
  {
   "cell_type": "code",
   "execution_count": 21,
   "id": "7cd58d37",
   "metadata": {},
   "outputs": [
    {
     "name": "stdout",
     "output_type": "stream",
     "text": [
      "[2, 3, 5, 7, 11, 13, 17, 19, 23, 29, 31, 37, 41, 43, 47, 53, 59, 61, 67, 71, 73, 79, 83, 89, 97, 101, 103, 107, 109, 113, 127, 131, 137, 139, 149, 151, 157, 163, 167, 173, 179, 181, 191, 193, 197, 199]\n"
     ]
    },
    {
     "data": {
      "text/plain": [
       "46"
      ]
     },
     "execution_count": 21,
     "metadata": {},
     "output_type": "execute_result"
    }
   ],
   "source": [
    "count_primes(200)"
   ]
  },
  {
   "cell_type": "markdown",
   "id": "20a3009d",
   "metadata": {},
   "source": [
    "PRINT BIG: Write a function that takes in a single letter, and returns a 5x5 representation of that letter"
   ]
  },
  {
   "cell_type": "code",
   "execution_count": 22,
   "id": "93354fa6",
   "metadata": {},
   "outputs": [
    {
     "ename": "SyntaxError",
     "evalue": "unexpected EOF while parsing (<ipython-input-22-fd11fb4e7585>, line 2)",
     "output_type": "error",
     "traceback": [
      "\u001b[1;36m  File \u001b[1;32m\"<ipython-input-22-fd11fb4e7585>\"\u001b[1;36m, line \u001b[1;32m2\u001b[0m\n\u001b[1;33m    #we will do this later\u001b[0m\n\u001b[1;37m                          ^\u001b[0m\n\u001b[1;31mSyntaxError\u001b[0m\u001b[1;31m:\u001b[0m unexpected EOF while parsing\n"
     ]
    }
   ],
   "source": [
    "def print_def(letter):\n",
    "    #we will do this later"
   ]
  },
  {
   "cell_type": "code",
   "execution_count": null,
   "id": "98b616dd",
   "metadata": {},
   "outputs": [],
   "source": []
  }
 ],
 "metadata": {
  "kernelspec": {
   "display_name": "Python 3",
   "language": "python",
   "name": "python3"
  },
  "language_info": {
   "codemirror_mode": {
    "name": "ipython",
    "version": 3
   },
   "file_extension": ".py",
   "mimetype": "text/x-python",
   "name": "python",
   "nbconvert_exporter": "python",
   "pygments_lexer": "ipython3",
   "version": "3.8.8"
  }
 },
 "nbformat": 4,
 "nbformat_minor": 5
}
