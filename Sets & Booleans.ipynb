{
 "cells": [
  {
   "cell_type": "markdown",
   "id": "f1fc937d",
   "metadata": {},
   "source": [
    "SETS: It is an unorderd collection of unique elements. There can only be one representative of a same object.\n"
   ]
  },
  {
   "cell_type": "code",
   "execution_count": 1,
   "id": "b787b434",
   "metadata": {},
   "outputs": [],
   "source": [
    "myset = set()"
   ]
  },
  {
   "cell_type": "code",
   "execution_count": 2,
   "id": "c6307395",
   "metadata": {},
   "outputs": [
    {
     "data": {
      "text/plain": [
       "set()"
      ]
     },
     "execution_count": 2,
     "metadata": {},
     "output_type": "execute_result"
    }
   ],
   "source": [
    "myset"
   ]
  },
  {
   "cell_type": "code",
   "execution_count": 3,
   "id": "e73d3a53",
   "metadata": {},
   "outputs": [],
   "source": [
    "myset.add(1)"
   ]
  },
  {
   "cell_type": "code",
   "execution_count": 4,
   "id": "43317a63",
   "metadata": {},
   "outputs": [
    {
     "data": {
      "text/plain": [
       "{1}"
      ]
     },
     "execution_count": 4,
     "metadata": {},
     "output_type": "execute_result"
    }
   ],
   "source": [
    "myset"
   ]
  },
  {
   "cell_type": "code",
   "execution_count": 5,
   "id": "0a69a191",
   "metadata": {},
   "outputs": [],
   "source": [
    "myset.add(2)"
   ]
  },
  {
   "cell_type": "code",
   "execution_count": 6,
   "id": "f3769ac9",
   "metadata": {},
   "outputs": [
    {
     "data": {
      "text/plain": [
       "{1, 2}"
      ]
     },
     "execution_count": 6,
     "metadata": {},
     "output_type": "execute_result"
    }
   ],
   "source": [
    "myset "
   ]
  },
  {
   "cell_type": "code",
   "execution_count": 9,
   "id": "ba966e06",
   "metadata": {},
   "outputs": [],
   "source": [
    "myset.add(2)\n",
    "#It wont repeat, as sets only represents unique value."
   ]
  },
  {
   "cell_type": "code",
   "execution_count": 8,
   "id": "b45980a9",
   "metadata": {},
   "outputs": [
    {
     "data": {
      "text/plain": [
       "{1, 2}"
      ]
     },
     "execution_count": 8,
     "metadata": {},
     "output_type": "execute_result"
    }
   ],
   "source": [
    "myset "
   ]
  },
  {
   "cell_type": "code",
   "execution_count": 11,
   "id": "cf95a2dc",
   "metadata": {},
   "outputs": [],
   "source": [
    "mylist = [1,1,2,2,3,3,3,4,4,5,5,5,5,5,5,]"
   ]
  },
  {
   "cell_type": "code",
   "execution_count": 13,
   "id": "4fffcfcd",
   "metadata": {},
   "outputs": [
    {
     "data": {
      "text/plain": [
       "{1, 2, 3, 4, 5}"
      ]
     },
     "execution_count": 13,
     "metadata": {},
     "output_type": "execute_result"
    }
   ],
   "source": [
    "set(mylist)\n",
    "#as you can see it only gives unique values regardless of the repeatation of elements"
   ]
  },
  {
   "cell_type": "code",
   "execution_count": 14,
   "id": "fb7e5081",
   "metadata": {},
   "outputs": [
    {
     "data": {
      "text/plain": [
       "{'P', 'a', 'e', 'l', 'r'}"
      ]
     },
     "execution_count": 14,
     "metadata": {},
     "output_type": "execute_result"
    }
   ],
   "source": [
    "set('Parallel')"
   ]
  },
  {
   "cell_type": "code",
   "execution_count": 15,
   "id": "1b0b9b61",
   "metadata": {},
   "outputs": [
    {
     "data": {
      "text/plain": [
       "{'M', 'i', 'p', 's'}"
      ]
     },
     "execution_count": 15,
     "metadata": {},
     "output_type": "execute_result"
    }
   ],
   "source": [
    "set('Mississippi')"
   ]
  },
  {
   "cell_type": "markdown",
   "id": "769418b2",
   "metadata": {},
   "source": [
    "Booleans "
   ]
  },
  {
   "cell_type": "code",
   "execution_count": 18,
   "id": "32349125",
   "metadata": {},
   "outputs": [
    {
     "data": {
      "text/plain": [
       "True"
      ]
     },
     "execution_count": 18,
     "metadata": {},
     "output_type": "execute_result"
    }
   ],
   "source": [
    "#smallcase true and false dosent work - it gives error\n",
    "True"
   ]
  },
  {
   "cell_type": "code",
   "execution_count": 17,
   "id": "1ed482ac",
   "metadata": {},
   "outputs": [
    {
     "data": {
      "text/plain": [
       "False"
      ]
     },
     "execution_count": 17,
     "metadata": {},
     "output_type": "execute_result"
    }
   ],
   "source": [
    "False"
   ]
  },
  {
   "cell_type": "code",
   "execution_count": 19,
   "id": "7c99a527",
   "metadata": {},
   "outputs": [
    {
     "data": {
      "text/plain": [
       "bool"
      ]
     },
     "execution_count": 19,
     "metadata": {},
     "output_type": "execute_result"
    }
   ],
   "source": [
    "type(False)"
   ]
  },
  {
   "cell_type": "code",
   "execution_count": 20,
   "id": "2c451876",
   "metadata": {},
   "outputs": [
    {
     "data": {
      "text/plain": [
       "False"
      ]
     },
     "execution_count": 20,
     "metadata": {},
     "output_type": "execute_result"
    }
   ],
   "source": [
    "1 > 2"
   ]
  },
  {
   "cell_type": "code",
   "execution_count": 21,
   "id": "175a5f8d",
   "metadata": {},
   "outputs": [
    {
     "data": {
      "text/plain": [
       "True"
      ]
     },
     "execution_count": 21,
     "metadata": {},
     "output_type": "execute_result"
    }
   ],
   "source": [
    "1 == 1"
   ]
  },
  {
   "cell_type": "code",
   "execution_count": 26,
   "id": "87f0512a",
   "metadata": {},
   "outputs": [],
   "source": [
    "#we can use 'None' as a placeholder for an object which hasnt been assigned\n",
    "b = None"
   ]
  },
  {
   "cell_type": "code",
   "execution_count": 23,
   "id": "311e5ca4",
   "metadata": {},
   "outputs": [],
   "source": [
    "b"
   ]
  },
  {
   "cell_type": "code",
   "execution_count": 25,
   "id": "a56e2a27",
   "metadata": {},
   "outputs": [],
   "source": [
    "#It dosent give any value as we haven't assigned anything BUT later on we can use the same variable and assign any value to it."
   ]
  },
  {
   "cell_type": "code",
   "execution_count": null,
   "id": "ffdc6ccd",
   "metadata": {},
   "outputs": [],
   "source": []
  }
 ],
 "metadata": {
  "kernelspec": {
   "display_name": "Python 3",
   "language": "python",
   "name": "python3"
  },
  "language_info": {
   "codemirror_mode": {
    "name": "ipython",
    "version": 3
   },
   "file_extension": ".py",
   "mimetype": "text/x-python",
   "name": "python",
   "nbconvert_exporter": "python",
   "pygments_lexer": "ipython3",
   "version": "3.8.8"
  }
 },
 "nbformat": 4,
 "nbformat_minor": 5
}
