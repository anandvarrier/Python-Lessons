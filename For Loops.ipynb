{
 "cells": [
  {
   "cell_type": "markdown",
   "id": "480322f8",
   "metadata": {},
   "source": [
    "Syntax of For Loop"
   ]
  },
  {
   "cell_type": "code",
   "execution_count": 1,
   "id": "043cbfd2",
   "metadata": {},
   "outputs": [],
   "source": [
    "#my_iterable=[1,2,3].....(a list is defined here)\n",
    "#for item_name in my_iterable:\n",
    "    #print(item_name)"
   ]
  },
  {
   "cell_type": "code",
   "execution_count": 2,
   "id": "42c7f90b",
   "metadata": {},
   "outputs": [],
   "source": [
    "mylist = [1,2,3,4,5,6,7,8,9,10]"
   ]
  },
  {
   "cell_type": "code",
   "execution_count": 4,
   "id": "caa29a52",
   "metadata": {},
   "outputs": [
    {
     "name": "stdout",
     "output_type": "stream",
     "text": [
      "1\n",
      "2\n",
      "3\n",
      "4\n",
      "5\n",
      "6\n",
      "7\n",
      "8\n",
      "9\n",
      "10\n"
     ]
    }
   ],
   "source": [
    "#here it is printing every number or element in the list \n",
    "#here note that num_in_list is a variable name given by the user \n",
    "for num_in_list in mylist:\n",
    "    print(num_in_list)"
   ]
  },
  {
   "cell_type": "code",
   "execution_count": 8,
   "id": "80856255",
   "metadata": {},
   "outputs": [
    {
     "name": "stdout",
     "output_type": "stream",
     "text": [
      "Hi!\n",
      "Hi!\n",
      "Hi!\n",
      "Hi!\n",
      "Hi!\n",
      "Hi!\n",
      "Hi!\n",
      "Hi!\n",
      "Hi!\n",
      "Hi!\n"
     ]
    }
   ],
   "source": [
    "#you dont exactly need to mention anything specific for itreration of the loop\n",
    "for Eagle in mylist:\n",
    "    print('Hi!')\n",
    "#this prints Hi which is totally unrelated based on every item in the list"
   ]
  },
  {
   "cell_type": "code",
   "execution_count": 9,
   "id": "cf25a05d",
   "metadata": {},
   "outputs": [
    {
     "name": "stdout",
     "output_type": "stream",
     "text": [
      "Odd Number: 1\n",
      "2\n",
      "Odd Number: 3\n",
      "4\n",
      "Odd Number: 5\n",
      "6\n",
      "Odd Number: 7\n",
      "8\n",
      "Odd Number: 9\n",
      "10\n"
     ]
    }
   ],
   "source": [
    "for num in mylist:\n",
    "    #check for even numbers\n",
    "    if num % 2 == 0:\n",
    "        print(num)\n",
    "    else:\n",
    "        print(f'Odd Number: {num}')"
   ]
  },
  {
   "cell_type": "code",
   "execution_count": null,
   "id": "4b2160af",
   "metadata": {},
   "outputs": [],
   "source": []
  }
 ],
 "metadata": {
  "kernelspec": {
   "display_name": "Python 3",
   "language": "python",
   "name": "python3"
  },
  "language_info": {
   "codemirror_mode": {
    "name": "ipython",
    "version": 3
   },
   "file_extension": ".py",
   "mimetype": "text/x-python",
   "name": "python",
   "nbconvert_exporter": "python",
   "pygments_lexer": "ipython3",
   "version": "3.8.8"
  }
 },
 "nbformat": 4,
 "nbformat_minor": 5
}
