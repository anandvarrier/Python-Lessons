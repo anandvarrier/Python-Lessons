{
 "cells": [
  {
   "cell_type": "code",
   "execution_count": 3,
   "id": "76c1d937",
   "metadata": {},
   "outputs": [],
   "source": [
    "#here we are going to create a Python mimic \n",
    "#of the game-\"Guess where the ball is\"\n",
    "#we will be using List for this program"
   ]
  },
  {
   "cell_type": "code",
   "execution_count": 4,
   "id": "365b3c10",
   "metadata": {},
   "outputs": [],
   "source": [
    "example = [1,2,3,4,5,6,7]"
   ]
  },
  {
   "cell_type": "code",
   "execution_count": 5,
   "id": "d7c0e921",
   "metadata": {},
   "outputs": [],
   "source": [
    "#we will be using the inbuilt function for this game program\n",
    "from random import shuffle"
   ]
  },
  {
   "cell_type": "code",
   "execution_count": 8,
   "id": "6a68ad9e",
   "metadata": {},
   "outputs": [],
   "source": [
    "#the shuffle function randomly shuffles the content of the list\n",
    "shuffle(example)"
   ]
  },
  {
   "cell_type": "code",
   "execution_count": 9,
   "id": "3aa0b7a4",
   "metadata": {},
   "outputs": [
    {
     "data": {
      "text/plain": [
       "[2, 6, 7, 3, 1, 5, 4]"
      ]
     },
     "execution_count": 9,
     "metadata": {},
     "output_type": "execute_result"
    }
   ],
   "source": [
    "example"
   ]
  },
  {
   "cell_type": "code",
   "execution_count": 10,
   "id": "88bdf6e0",
   "metadata": {},
   "outputs": [],
   "source": [
    "#Remember: shuffle is an inplace function which does not store/print result\n",
    "#notice here that the below code does not give any output\n",
    "result=shuffle(example)"
   ]
  },
  {
   "cell_type": "code",
   "execution_count": 11,
   "id": "f540e3ac",
   "metadata": {},
   "outputs": [],
   "source": [
    "result"
   ]
  },
  {
   "cell_type": "code",
   "execution_count": 22,
   "id": "a35f5e41",
   "metadata": {},
   "outputs": [],
   "source": [
    "#The Code for the Game\n",
    "#thus, we have to create our own function for the same\n",
    "#function 01 \n",
    "def shuffle_list(my_list):\n",
    "    shuffle(my_list)\n",
    "    return my_list"
   ]
  },
  {
   "cell_type": "code",
   "execution_count": 23,
   "id": "63e97cb5",
   "metadata": {},
   "outputs": [],
   "source": [
    "result = shuffle_list(example)"
   ]
  },
  {
   "cell_type": "code",
   "execution_count": 24,
   "id": "4694081a",
   "metadata": {},
   "outputs": [
    {
     "data": {
      "text/plain": [
       "[6, 3, 5, 7, 4, 1, 2]"
      ]
     },
     "execution_count": 24,
     "metadata": {},
     "output_type": "execute_result"
    }
   ],
   "source": [
    "result"
   ]
  },
  {
   "cell_type": "code",
   "execution_count": 16,
   "id": "4bed7ac6",
   "metadata": {},
   "outputs": [],
   "source": [
    "#here o in the list is the ball\n",
    "my_list = ['','O','']"
   ]
  },
  {
   "cell_type": "code",
   "execution_count": 19,
   "id": "fb3cd4ac",
   "metadata": {},
   "outputs": [
    {
     "data": {
      "text/plain": [
       "['', '', 'O']"
      ]
     },
     "execution_count": 19,
     "metadata": {},
     "output_type": "execute_result"
    }
   ],
   "source": [
    "#here, we can see that the function is running\n",
    "shuffle_list(my_list)"
   ]
  },
  {
   "cell_type": "code",
   "execution_count": 28,
   "id": "4fdde11f",
   "metadata": {},
   "outputs": [],
   "source": [
    "#function 02\n",
    "#in this function we are taking the user input/guess\n",
    "def player_guess():\n",
    "    guess=''#an empty string is created\n",
    "    while guess not in ['0','1','2']:\n",
    "        #storing the user input directly in the variable\n",
    "        guess=input('Guess the any number between 0,1 or 2') \n",
    "    return int(guess)#changing the format while returning the output, the input provided is by default stored in string format"
   ]
  },
  {
   "cell_type": "code",
   "execution_count": 29,
   "id": "373c1b3e",
   "metadata": {},
   "outputs": [
    {
     "name": "stdout",
     "output_type": "stream",
     "text": [
      "Guess the any number between 0,1 or 29\n",
      "Guess the any number between 0,1 or 27\n",
      "Guess the any number between 0,1 or 20\n"
     ]
    },
    {
     "data": {
      "text/plain": [
       "0"
      ]
     },
     "execution_count": 29,
     "metadata": {},
     "output_type": "execute_result"
    }
   ],
   "source": [
    "player_guess()"
   ]
  },
  {
   "cell_type": "code",
   "execution_count": 36,
   "id": "a9f1bf9c",
   "metadata": {},
   "outputs": [],
   "source": [
    "#function 03\n",
    "#now we need just one more function to compare the user input \n",
    "#and the shuffle list to check if the user has guessed it right\n",
    "def check_guess(my_list,guess):\n",
    "    if my_list[guess] == 'O':\n",
    "        print('Correct Guess!')\n",
    "    else:\n",
    "        print('Wrong Guess!')\n",
    "        print('The ball is actually here!')\n",
    "        print(my_list)"
   ]
  },
  {
   "cell_type": "code",
   "execution_count": 37,
   "id": "06163904",
   "metadata": {},
   "outputs": [
    {
     "name": "stdout",
     "output_type": "stream",
     "text": [
      "Guess the any number between 0,1 or 23\n",
      "Guess the any number between 0,1 or 22\n",
      "Wrong Guess!\n",
      "The ball is actually here!\n",
      "['', 'O', '']\n"
     ]
    }
   ],
   "source": [
    "#now we will be writing the final script similar to the main function\n",
    "#earlier we have written seperate functions \n",
    "#here, we are combining all the functions\n",
    "#INTIAL LIST\n",
    "my_list = ['O','','']\n",
    "\n",
    "#SHUFFLE LIST\n",
    "mixedup_list = shuffle_list(my_list)\n",
    "\n",
    "#USER GUESS\n",
    "guess = player_guess()\n",
    "\n",
    "#CHECK GUESS \n",
    "check_guess(mixedup_list,guess)"
   ]
  },
  {
   "cell_type": "markdown",
   "id": "992cf56a",
   "metadata": {},
   "source": [
    "Coding exercise"
   ]
  },
  {
   "cell_type": "code",
   "execution_count": 38,
   "id": "af9fa84f",
   "metadata": {},
   "outputs": [
    {
     "name": "stdout",
     "output_type": "stream",
     "text": [
      "What is your name?Anand\n"
     ]
    }
   ],
   "source": [
    "#Eg2\n",
    "name = input('What is your name?')\n",
    "def myfunc(name):\n",
    "    print('Hello',name)"
   ]
  },
  {
   "cell_type": "code",
   "execution_count": 39,
   "id": "d2e44baa",
   "metadata": {},
   "outputs": [
    {
     "data": {
      "text/plain": [
       "'Anand'"
      ]
     },
     "execution_count": 39,
     "metadata": {},
     "output_type": "execute_result"
    }
   ],
   "source": [
    "name"
   ]
  },
  {
   "cell_type": "code",
   "execution_count": 40,
   "id": "ac2c7ae0",
   "metadata": {},
   "outputs": [
    {
     "name": "stdout",
     "output_type": "stream",
     "text": [
      "Hello Anand\n"
     ]
    }
   ],
   "source": [
    "myfunc(name)"
   ]
  },
  {
   "cell_type": "code",
   "execution_count": 41,
   "id": "83cd2d4e",
   "metadata": {},
   "outputs": [],
   "source": [
    "#Eg3\n",
    "def myfunc03(a):\n",
    "    if a == True:\n",
    "        return ('Hello')\n",
    "    else:\n",
    "        return ('Goodbye')"
   ]
  },
  {
   "cell_type": "code",
   "execution_count": 42,
   "id": "77c6e53a",
   "metadata": {},
   "outputs": [
    {
     "data": {
      "text/plain": [
       "'Hello'"
      ]
     },
     "execution_count": 42,
     "metadata": {},
     "output_type": "execute_result"
    }
   ],
   "source": [
    "myfunc03(True)"
   ]
  },
  {
   "cell_type": "code",
   "execution_count": 43,
   "id": "e2d94a33",
   "metadata": {},
   "outputs": [
    {
     "data": {
      "text/plain": [
       "'Goodbye'"
      ]
     },
     "execution_count": 43,
     "metadata": {},
     "output_type": "execute_result"
    }
   ],
   "source": [
    "myfunc03(False)"
   ]
  },
  {
   "cell_type": "code",
   "execution_count": 44,
   "id": "10eb73fb",
   "metadata": {},
   "outputs": [],
   "source": [
    "#Eg4\n",
    "#Define a function called myfunc that takes three arguments, x, y and z.\n",
    "#If z is True, return x.  If z is False, return y.\n",
    "\n",
    "def myfunc04(x,y,z):\n",
    "    if z == True:\n",
    "        return x\n",
    "    elif z == False:\n",
    "        return y\n",
    "    else:\n",
    "        pass"
   ]
  },
  {
   "cell_type": "code",
   "execution_count": 46,
   "id": "934430ae",
   "metadata": {},
   "outputs": [
    {
     "data": {
      "text/plain": [
       "'Anand'"
      ]
     },
     "execution_count": 46,
     "metadata": {},
     "output_type": "execute_result"
    }
   ],
   "source": [
    "myfunc04('Anand','Varrier',True)"
   ]
  },
  {
   "cell_type": "code",
   "execution_count": 47,
   "id": "62beb620",
   "metadata": {},
   "outputs": [
    {
     "data": {
      "text/plain": [
       "'Varrier'"
      ]
     },
     "execution_count": 47,
     "metadata": {},
     "output_type": "execute_result"
    }
   ],
   "source": [
    "myfunc04('Anand','Varrier',False)"
   ]
  },
  {
   "cell_type": "code",
   "execution_count": 52,
   "id": "be3e1969",
   "metadata": {},
   "outputs": [],
   "source": [
    "#eg05\n",
    "#Define a function called myfunc that takes in two arguments \n",
    "#and returns their sum.\n",
    "def myfunc05(a,b):\n",
    "    sum = print(a+b)\n",
    "    return sum"
   ]
  },
  {
   "cell_type": "code",
   "execution_count": 53,
   "id": "0c698541",
   "metadata": {},
   "outputs": [
    {
     "name": "stdout",
     "output_type": "stream",
     "text": [
      "7\n"
     ]
    }
   ],
   "source": [
    "myfunc05(2,5)"
   ]
  },
  {
   "cell_type": "code",
   "execution_count": 54,
   "id": "cf728caa",
   "metadata": {},
   "outputs": [],
   "source": [
    "#eg06\n",
    "#Define a function called is_even that takes in one argument, \n",
    "#and returns True if the passed-in value is even, False if it is not.\n",
    "def is_even(a):\n",
    "    if a%2 == 0:\n",
    "        return True\n",
    "    else:\n",
    "        return False"
   ]
  },
  {
   "cell_type": "code",
   "execution_count": 55,
   "id": "d1045795",
   "metadata": {},
   "outputs": [
    {
     "data": {
      "text/plain": [
       "True"
      ]
     },
     "execution_count": 55,
     "metadata": {},
     "output_type": "execute_result"
    }
   ],
   "source": [
    "is_even(90)"
   ]
  },
  {
   "cell_type": "code",
   "execution_count": 56,
   "id": "0349d632",
   "metadata": {},
   "outputs": [
    {
     "data": {
      "text/plain": [
       "False"
      ]
     },
     "execution_count": 56,
     "metadata": {},
     "output_type": "execute_result"
    }
   ],
   "source": [
    "is_even(91)"
   ]
  },
  {
   "cell_type": "code",
   "execution_count": 57,
   "id": "6fb70de0",
   "metadata": {},
   "outputs": [],
   "source": [
    "#eg7\n",
    "#Define a function called is_greater that takes in two arguments, \n",
    "#and returns True if the first value is greater than the second, \n",
    "#False if it is less than or equal to the second.\n",
    "\n",
    "def is_greater(a,b):\n",
    "    if a>b:\n",
    "        return True\n",
    "    else:\n",
    "        return False"
   ]
  },
  {
   "cell_type": "code",
   "execution_count": 58,
   "id": "0001c20d",
   "metadata": {},
   "outputs": [
    {
     "data": {
      "text/plain": [
       "True"
      ]
     },
     "execution_count": 58,
     "metadata": {},
     "output_type": "execute_result"
    }
   ],
   "source": [
    "is_greater(20,10)"
   ]
  },
  {
   "cell_type": "code",
   "execution_count": 59,
   "id": "f6efb02b",
   "metadata": {},
   "outputs": [
    {
     "data": {
      "text/plain": [
       "False"
      ]
     },
     "execution_count": 59,
     "metadata": {},
     "output_type": "execute_result"
    }
   ],
   "source": [
    "is_greater(20,30)"
   ]
  },
  {
   "cell_type": "code",
   "execution_count": 60,
   "id": "196912e4",
   "metadata": {},
   "outputs": [],
   "source": [
    "#eg8\n",
    "#Define a function called myfunc that takes in an arbitrary number \n",
    "#of arguments, and returns the sum of those arguments.\n",
    "\n",
    "def myfunc08(*args):\n",
    "    return sum(args)"
   ]
  },
  {
   "cell_type": "code",
   "execution_count": 61,
   "id": "900bdd7e",
   "metadata": {},
   "outputs": [
    {
     "data": {
      "text/plain": [
       "15"
      ]
     },
     "execution_count": 61,
     "metadata": {},
     "output_type": "execute_result"
    }
   ],
   "source": [
    "myfunc08(1,2,3,4,5)"
   ]
  },
  {
   "cell_type": "code",
   "execution_count": 76,
   "id": "ac4f16b4",
   "metadata": {},
   "outputs": [],
   "source": [
    "#eg9\n",
    "#Define a function called myfunc that takes in an arbitrary number \n",
    "#of arguments, and returns a list containing only those arguments \n",
    "#that are even.\n",
    "\n",
    "def myfunc09(*args):\n",
    "    mylist = []\n",
    "    for item in args:\n",
    "        if item%2==0:\n",
    "            mylist.append(item)\n",
    "        else:\n",
    "            pass\n",
    "    return mylist"
   ]
  },
  {
   "cell_type": "code",
   "execution_count": 77,
   "id": "f777b519",
   "metadata": {},
   "outputs": [
    {
     "data": {
      "text/plain": [
       "[2, 4, 6]"
      ]
     },
     "execution_count": 77,
     "metadata": {},
     "output_type": "execute_result"
    }
   ],
   "source": [
    "myfunc09(2,4,6,3,1)"
   ]
  },
  {
   "cell_type": "markdown",
   "id": "cd5b59e8",
   "metadata": {},
   "source": [
    "Eg10: Define a function called myfunc that takes in a string, and returns a matching string where every even letter is uppercase, and every odd letter is lowercase. Assume that the incoming string only contains letters, and don't worry about numbers, spaces or punctuation. The output string can start with either an uppercase or lowercase letter, so long as letters alternate throughout the string."
   ]
  },
  {
   "cell_type": "code",
   "execution_count": 87,
   "id": "baa1558e",
   "metadata": {},
   "outputs": [],
   "source": [
    "def myfunc10(a):\n",
    "    print(a)\n",
    "    a = []\n",
    "    for letters in a:\n",
    "        if a[n]%2==0:\n",
    "            a[n].upper\n",
    "        else:\n",
    "            pass\n",
    "    return a"
   ]
  },
  {
   "cell_type": "code",
   "execution_count": 88,
   "id": "fd0b0d76",
   "metadata": {},
   "outputs": [
    {
     "name": "stdout",
     "output_type": "stream",
     "text": [
      "malayalam\n"
     ]
    },
    {
     "ename": "NameError",
     "evalue": "name 'n' is not defined",
     "output_type": "error",
     "traceback": [
      "\u001b[1;31m---------------------------------------------------------------------------\u001b[0m",
      "\u001b[1;31mNameError\u001b[0m                                 Traceback (most recent call last)",
      "\u001b[1;32m<ipython-input-88-31658161824f>\u001b[0m in \u001b[0;36m<module>\u001b[1;34m\u001b[0m\n\u001b[1;32m----> 1\u001b[1;33m \u001b[0mmyfunc10\u001b[0m\u001b[1;33m(\u001b[0m\u001b[1;34m'malayalam'\u001b[0m\u001b[1;33m)\u001b[0m\u001b[1;33m\u001b[0m\u001b[1;33m\u001b[0m\u001b[0m\n\u001b[0m",
      "\u001b[1;32m<ipython-input-87-942a835bcdc8>\u001b[0m in \u001b[0;36mmyfunc10\u001b[1;34m(a)\u001b[0m\n\u001b[0;32m      2\u001b[0m     \u001b[0mprint\u001b[0m\u001b[1;33m(\u001b[0m\u001b[0ma\u001b[0m\u001b[1;33m)\u001b[0m\u001b[1;33m\u001b[0m\u001b[1;33m\u001b[0m\u001b[0m\n\u001b[0;32m      3\u001b[0m     \u001b[1;32mfor\u001b[0m \u001b[0mletters\u001b[0m \u001b[1;32min\u001b[0m \u001b[0ma\u001b[0m\u001b[1;33m:\u001b[0m\u001b[1;33m\u001b[0m\u001b[1;33m\u001b[0m\u001b[0m\n\u001b[1;32m----> 4\u001b[1;33m         \u001b[1;32mif\u001b[0m \u001b[0ma\u001b[0m\u001b[1;33m[\u001b[0m\u001b[0mn\u001b[0m\u001b[1;33m]\u001b[0m\u001b[1;33m%\u001b[0m\u001b[1;36m2\u001b[0m\u001b[1;33m==\u001b[0m\u001b[1;36m0\u001b[0m\u001b[1;33m:\u001b[0m\u001b[1;33m\u001b[0m\u001b[1;33m\u001b[0m\u001b[0m\n\u001b[0m\u001b[0;32m      5\u001b[0m             \u001b[0ma\u001b[0m\u001b[1;33m[\u001b[0m\u001b[0mn\u001b[0m\u001b[1;33m]\u001b[0m\u001b[1;33m.\u001b[0m\u001b[0mupper\u001b[0m\u001b[1;33m\u001b[0m\u001b[1;33m\u001b[0m\u001b[0m\n\u001b[0;32m      6\u001b[0m         \u001b[1;32melse\u001b[0m\u001b[1;33m:\u001b[0m\u001b[1;33m\u001b[0m\u001b[1;33m\u001b[0m\u001b[0m\n",
      "\u001b[1;31mNameError\u001b[0m: name 'n' is not defined"
     ]
    }
   ],
   "source": [
    "myfunc10('malayalam')"
   ]
  },
  {
   "cell_type": "code",
   "execution_count": 89,
   "id": "08b30146",
   "metadata": {},
   "outputs": [],
   "source": [
    "def myfunc10(x):\n",
    "    out = []\n",
    "    for i in range(len(x)):\n",
    "        if i%2==0:\n",
    "            out.append(x[i].lower())\n",
    "        else:\n",
    "            out.append(x[i].upper())\n",
    "    return ''.join(out)"
   ]
  },
  {
   "cell_type": "code",
   "execution_count": 90,
   "id": "3fd1d98c",
   "metadata": {},
   "outputs": [
    {
     "data": {
      "text/plain": [
       "'mAlAyAlAm'"
      ]
     },
     "execution_count": 90,
     "metadata": {},
     "output_type": "execute_result"
    }
   ],
   "source": [
    "myfunc10('malayaLam')"
   ]
  },
  {
   "cell_type": "code",
   "execution_count": null,
   "id": "772f221d",
   "metadata": {},
   "outputs": [],
   "source": []
  }
 ],
 "metadata": {
  "kernelspec": {
   "display_name": "Python 3",
   "language": "python",
   "name": "python3"
  },
  "language_info": {
   "codemirror_mode": {
    "name": "ipython",
    "version": 3
   },
   "file_extension": ".py",
   "mimetype": "text/x-python",
   "name": "python",
   "nbconvert_exporter": "python",
   "pygments_lexer": "ipython3",
   "version": "3.8.8"
  }
 },
 "nbformat": 4,
 "nbformat_minor": 5
}
