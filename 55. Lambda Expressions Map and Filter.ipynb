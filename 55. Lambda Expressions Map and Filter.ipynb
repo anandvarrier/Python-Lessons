{
 "cells": [
  {
   "cell_type": "markdown",
   "id": "a3dec2e8",
   "metadata": {},
   "source": [
    "Map Function: map() function returns a map object(which is an iterator) of the results after applying the given function to each item of a given iterable (list, tuple etc.)"
   ]
  },
  {
   "cell_type": "code",
   "execution_count": 1,
   "id": "18dc34ef",
   "metadata": {},
   "outputs": [],
   "source": [
    "#we will study map function initially, how it works, etc\n",
    "#map is an inbuilt function which takes a function and an iterable as its parameter"
   ]
  },
  {
   "cell_type": "code",
   "execution_count": 3,
   "id": "1e32b437",
   "metadata": {},
   "outputs": [],
   "source": [
    "#eg - A simple program which returns the square of the num\n",
    "def square(num):\n",
    "    return num**2"
   ]
  },
  {
   "cell_type": "code",
   "execution_count": 21,
   "id": "e94341bd",
   "metadata": {},
   "outputs": [],
   "source": [
    "#let's say we have a list of numbers\n",
    "#and I want to apply the square function to every single num in the list below\n",
    "#one way of doing that would be using a for loop but\n",
    "#it would be lot of code\n",
    "my_nums = [1,2,3,4,5]"
   ]
  },
  {
   "cell_type": "code",
   "execution_count": 9,
   "id": "743c9e4b",
   "metadata": {},
   "outputs": [
    {
     "data": {
      "text/plain": [
       "<map at 0x237b7374250>"
      ]
     },
     "execution_count": 9,
     "metadata": {},
     "output_type": "execute_result"
    }
   ],
   "source": [
    "#instead what we can use is as follows\n",
    "map(square, my_nums)\n",
    "#notice it's output\n",
    "#it says the map is located at a specific location\n",
    "#This output is not useful for us \n",
    "#so what we can do is iterate through it"
   ]
  },
  {
   "cell_type": "code",
   "execution_count": 10,
   "id": "77f90aca",
   "metadata": {},
   "outputs": [
    {
     "name": "stdout",
     "output_type": "stream",
     "text": [
      "1\n",
      "4\n",
      "9\n",
      "16\n",
      "25\n"
     ]
    }
   ],
   "source": [
    "for item in map(square, my_nums):\n",
    "    print(item)"
   ]
  },
  {
   "cell_type": "code",
   "execution_count": 12,
   "id": "dc3d2480",
   "metadata": {},
   "outputs": [
    {
     "data": {
      "text/plain": [
       "[1, 4, 9, 16, 25]"
      ]
     },
     "execution_count": 12,
     "metadata": {},
     "output_type": "execute_result"
    }
   ],
   "source": [
    "#another way would be to print out a list of square \n",
    "list(map(square, my_nums))"
   ]
  },
  {
   "cell_type": "code",
   "execution_count": 11,
   "id": "18913ecf",
   "metadata": {},
   "outputs": [],
   "source": [
    "#another example on list of strings\n",
    "def splicer(mystring):\n",
    "    if len(mystring)%2 == 0:\n",
    "        return 'EVEN'\n",
    "    else:\n",
    "        return mystring[0]"
   ]
  },
  {
   "cell_type": "code",
   "execution_count": 6,
   "id": "4e9a16d4",
   "metadata": {},
   "outputs": [],
   "source": [
    "names = ['Andy','Shambs','Naumika']"
   ]
  },
  {
   "cell_type": "code",
   "execution_count": 7,
   "id": "57d9f6b8",
   "metadata": {},
   "outputs": [
    {
     "data": {
      "text/plain": [
       "['EVEN', 'EVEN', 'N']"
      ]
     },
     "execution_count": 7,
     "metadata": {},
     "output_type": "execute_result"
    }
   ],
   "source": [
    "list(map(splicer,names))"
   ]
  },
  {
   "cell_type": "code",
   "execution_count": 2,
   "id": "d61b1699",
   "metadata": {},
   "outputs": [],
   "source": [
    "#notice that, in the map function we are not putting barces after \n",
    "#square and splicer in both the programs\n",
    "#we are not calling the function inside map because \n",
    "#map function is going to execute both the function later on \n",
    "#during execution"
   ]
  },
  {
   "cell_type": "markdown",
   "id": "50cbb69f",
   "metadata": {},
   "source": [
    "Filter Function: The filter() method filters the given sequence with the help of a function that tests each element in the sequence to be true or not."
   ]
  },
  {
   "cell_type": "code",
   "execution_count": 3,
   "id": "416ce125",
   "metadata": {},
   "outputs": [],
   "source": [
    "def check_even(num):\n",
    "    return num%2 == 0"
   ]
  },
  {
   "cell_type": "code",
   "execution_count": 29,
   "id": "59be8a52",
   "metadata": {},
   "outputs": [],
   "source": [
    "mynum = [1,2,3,4,5,6]"
   ]
  },
  {
   "cell_type": "code",
   "execution_count": 6,
   "id": "7dcb5234",
   "metadata": {},
   "outputs": [
    {
     "data": {
      "text/plain": [
       "<filter at 0x1f13b5bf7f0>"
      ]
     },
     "execution_count": 6,
     "metadata": {},
     "output_type": "execute_result"
    }
   ],
   "source": [
    "filter(check_even, mynum)"
   ]
  },
  {
   "cell_type": "code",
   "execution_count": 7,
   "id": "5c798f37",
   "metadata": {},
   "outputs": [
    {
     "name": "stdout",
     "output_type": "stream",
     "text": [
      "2\n",
      "4\n",
      "6\n"
     ]
    }
   ],
   "source": [
    "for n in filter(check_even, mynum):\n",
    "    print(n)"
   ]
  },
  {
   "cell_type": "code",
   "execution_count": 8,
   "id": "2f31b772",
   "metadata": {},
   "outputs": [],
   "source": [
    "#another example \n",
    "#function that filters vowels\n",
    "alpha = ['a','z','e','r','d','u','e','i']\n",
    "\n",
    "def vowels(my_list):\n",
    "    letters = ['a','e','i','o','u']\n",
    "    if my_list in letters:\n",
    "        return True\n",
    "    else:\n",
    "        return False"
   ]
  },
  {
   "cell_type": "code",
   "execution_count": 9,
   "id": "241ac6ff",
   "metadata": {},
   "outputs": [],
   "source": [
    "result = filter(vowels, alpha)"
   ]
  },
  {
   "cell_type": "code",
   "execution_count": 10,
   "id": "f1858149",
   "metadata": {},
   "outputs": [
    {
     "name": "stdout",
     "output_type": "stream",
     "text": [
      "Vowels in the list are:\n",
      "a\n",
      "e\n",
      "u\n",
      "e\n",
      "i\n"
     ]
    }
   ],
   "source": [
    "print('Vowels in the list are:')\n",
    "for a in result:\n",
    "    print(a)"
   ]
  },
  {
   "cell_type": "markdown",
   "id": "0c9aa7ec",
   "metadata": {},
   "source": [
    "Lambda Function aka anonymous function"
   ]
  },
  {
   "cell_type": "code",
   "execution_count": 12,
   "id": "d261fa43",
   "metadata": {},
   "outputs": [],
   "source": [
    "#eg\n",
    "def square(num):\n",
    "    result = num ** 2\n",
    "    return result"
   ]
  },
  {
   "cell_type": "code",
   "execution_count": 13,
   "id": "58f2164d",
   "metadata": {},
   "outputs": [
    {
     "data": {
      "text/plain": [
       "9"
      ]
     },
     "execution_count": 13,
     "metadata": {},
     "output_type": "execute_result"
    }
   ],
   "source": [
    "square(3)"
   ]
  },
  {
   "cell_type": "code",
   "execution_count": 14,
   "id": "28858c52",
   "metadata": {},
   "outputs": [],
   "source": [
    "#the above function can be converted to lambda function as follows\n",
    "square = lambda num: num ** 2"
   ]
  },
  {
   "cell_type": "code",
   "execution_count": 15,
   "id": "2ef89fab",
   "metadata": {},
   "outputs": [
    {
     "data": {
      "text/plain": [
       "16"
      ]
     },
     "execution_count": 15,
     "metadata": {},
     "output_type": "execute_result"
    }
   ],
   "source": [
    "square(4)"
   ]
  },
  {
   "cell_type": "code",
   "execution_count": 16,
   "id": "94339d8b",
   "metadata": {},
   "outputs": [],
   "source": [
    "#Lambda is basically converting a function with multiple lines of code\n",
    "#to a simple single line of code by removing def, return"
   ]
  },
  {
   "cell_type": "code",
   "execution_count": 18,
   "id": "7e08f164",
   "metadata": {},
   "outputs": [],
   "source": [
    "#let us see the map function example again\n",
    "#refer to code block number 2 above(scroll up)\n",
    "#notice that previously we had written a seperate function for square\n",
    "#and then we called the code -> map(square, my_nums)\n",
    "#then we iterated through the result to get the output of map function\n",
    "#the same code we can now simplyfy using the lambda function"
   ]
  },
  {
   "cell_type": "code",
   "execution_count": 22,
   "id": "3a493c7e",
   "metadata": {},
   "outputs": [
    {
     "data": {
      "text/plain": [
       "[1, 4, 9, 16, 25]"
      ]
     },
     "execution_count": 22,
     "metadata": {},
     "output_type": "execute_result"
    }
   ],
   "source": [
    "#here, we are printing a list using the map and lambda function on my_nums list\n",
    "list(map(lambda num: num ** 2, my_nums))"
   ]
  },
  {
   "cell_type": "code",
   "execution_count": 23,
   "id": "5e38bfe2",
   "metadata": {},
   "outputs": [],
   "source": [
    "#another example of a map function and then converting it into a map with lambada program\n",
    "def double(num):\n",
    "    return num + num"
   ]
  },
  {
   "cell_type": "code",
   "execution_count": 26,
   "id": "f839005c",
   "metadata": {},
   "outputs": [
    {
     "name": "stdout",
     "output_type": "stream",
     "text": [
      "[2, 4, 6, 8, 10]\n"
     ]
    }
   ],
   "source": [
    "numbers = [1,2,3,4,5]\n",
    "result = map(double, numbers)\n",
    "print (list(result))"
   ]
  },
  {
   "cell_type": "code",
   "execution_count": 27,
   "id": "f39943b0",
   "metadata": {},
   "outputs": [
    {
     "data": {
      "text/plain": [
       "[2, 4, 6, 8, 10]"
      ]
     },
     "execution_count": 27,
     "metadata": {},
     "output_type": "execute_result"
    }
   ],
   "source": [
    "#the above program with lambda function\n",
    "list(map(lambda num: num + num, numbers))"
   ]
  },
  {
   "cell_type": "code",
   "execution_count": 28,
   "id": "677a6999",
   "metadata": {},
   "outputs": [],
   "source": [
    "#let us see lambda function with filter function\n",
    "#refer the program of check_even function above \n",
    "#scroll towards filter function example\n",
    "#in that program we have seperately written a check_even function and \n",
    "#then it was applied along with the filter function\n",
    "#the same program now can be written efficently"
   ]
  },
  {
   "cell_type": "code",
   "execution_count": 30,
   "id": "ec643845",
   "metadata": {},
   "outputs": [
    {
     "data": {
      "text/plain": [
       "[2, 4, 6]"
      ]
     },
     "execution_count": 30,
     "metadata": {},
     "output_type": "execute_result"
    }
   ],
   "source": [
    "list(filter(lambda num: num%2 == 0, mynum ))"
   ]
  },
  {
   "cell_type": "code",
   "execution_count": 31,
   "id": "42f8379a",
   "metadata": {},
   "outputs": [
    {
     "name": "stdout",
     "output_type": "stream",
     "text": [
      "The even numbers are: [2, 4, 6, 8]\n",
      "The odd numbers are: [1, 3, 5, 7]\n"
     ]
    }
   ],
   "source": [
    "#another example \n",
    "#2 seperate list containing even and odd numbers respectively\n",
    "even_odd_numbers = [1,2,3,4,5,6,7,8]\n",
    "\n",
    "even_num = list(filter(lambda n: n%2 == 0, even_odd_numbers))\n",
    "print('The even numbers are:',even_num)\n",
    "\n",
    "odd_num = list(filter(lambda n: n%2 != 0, even_odd_numbers))\n",
    "print('The odd numbers are:',odd_num)"
   ]
  },
  {
   "cell_type": "code",
   "execution_count": 33,
   "id": "73ce3203",
   "metadata": {},
   "outputs": [
    {
     "name": "stdout",
     "output_type": "stream",
     "text": [
      "The even numbers are: [False, True, False, True, False, True, False, True]\n",
      "The odd numbers are: [1, 3, 5, 7]\n"
     ]
    }
   ],
   "source": [
    "#a program to just check the difference between map and filter functions\n",
    "even_odd_numbers = [1,2,3,4,5,6,7,8]\n",
    "\n",
    "even_num = list(map(lambda n: n%2 == 0, even_odd_numbers))\n",
    "print('The even numbers are:',even_num)\n",
    "\n",
    "odd_num = list(filter(lambda n: n%2 != 0, even_odd_numbers))\n",
    "print('The odd numbers are:',odd_num)"
   ]
  },
  {
   "cell_type": "markdown",
   "id": "1daa5497",
   "metadata": {},
   "source": [
    "The main difference between a map and a filter is the return of values. A map will always have a representation for elements in the list. The filter will filter out the only elements that will meet the conditions in the function."
   ]
  },
  {
   "cell_type": "code",
   "execution_count": null,
   "id": "8e065534",
   "metadata": {},
   "outputs": [],
   "source": []
  }
 ],
 "metadata": {
  "kernelspec": {
   "display_name": "Python 3",
   "language": "python",
   "name": "python3"
  },
  "language_info": {
   "codemirror_mode": {
    "name": "ipython",
    "version": 3
   },
   "file_extension": ".py",
   "mimetype": "text/x-python",
   "name": "python",
   "nbconvert_exporter": "python",
   "pygments_lexer": "ipython3",
   "version": "3.8.8"
  }
 },
 "nbformat": 4,
 "nbformat_minor": 5
}
