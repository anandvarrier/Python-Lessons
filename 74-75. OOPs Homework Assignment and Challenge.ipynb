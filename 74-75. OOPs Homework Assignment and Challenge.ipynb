{
 "cells": [
  {
   "cell_type": "markdown",
   "id": "041334f8",
   "metadata": {},
   "source": [
    "## Homework Problems\n",
    "\n",
    "Problem 2\n",
    "\n",
    "Fill in the class"
   ]
  },
  {
   "cell_type": "code",
   "execution_count": 9,
   "id": "41e41861",
   "metadata": {},
   "outputs": [],
   "source": [
    "class Cylinder:\n",
    "    pi = 3.14\n",
    "    \n",
    "    def __init__(self,height=1,radius=1):\n",
    "        self.height = height\n",
    "        self.radius = radius\n",
    "        \n",
    "    def volume(self):\n",
    "        #Volume = pir^2h\n",
    "        return Cylinder.pi * (self.radius**2) * self.height\n",
    "        \n",
    "    \n",
    "    def surface_area(self):\n",
    "        #Surface area = 2pirh + 2pir^2\n",
    "        return ((2 * Cylinder.pi * self.radius * self.height) + (2 * Cylinder.pi * (self.radius**2)))"
   ]
  },
  {
   "cell_type": "code",
   "execution_count": 10,
   "id": "af6181b2",
   "metadata": {},
   "outputs": [],
   "source": [
    "c = Cylinder(2,3)"
   ]
  },
  {
   "cell_type": "code",
   "execution_count": 4,
   "id": "5e567cf5",
   "metadata": {},
   "outputs": [
    {
     "data": {
      "text/plain": [
       "3.14"
      ]
     },
     "execution_count": 4,
     "metadata": {},
     "output_type": "execute_result"
    }
   ],
   "source": [
    "c.pi"
   ]
  },
  {
   "cell_type": "code",
   "execution_count": 11,
   "id": "4915ecaf",
   "metadata": {},
   "outputs": [
    {
     "data": {
      "text/plain": [
       "94.2"
      ]
     },
     "execution_count": 11,
     "metadata": {},
     "output_type": "execute_result"
    }
   ],
   "source": [
    "c.surface_area()"
   ]
  },
  {
   "cell_type": "code",
   "execution_count": 12,
   "id": "3fca50d0",
   "metadata": {},
   "outputs": [
    {
     "data": {
      "text/plain": [
       "56.52"
      ]
     },
     "execution_count": 12,
     "metadata": {},
     "output_type": "execute_result"
    }
   ],
   "source": [
    "c.volume()"
   ]
  },
  {
   "cell_type": "markdown",
   "id": "136fd432",
   "metadata": {},
   "source": [
    "Problem 1\n",
    "\n",
    "Fill in the Line class methods to accept coordinates as a pair of tuples and return the slope and distance of the line."
   ]
  },
  {
   "cell_type": "code",
   "execution_count": 27,
   "id": "ec647054",
   "metadata": {},
   "outputs": [],
   "source": [
    "import math\n",
    "\n",
    "class Line:\n",
    "    \n",
    "    def __init__(self,coor1,coor2):\n",
    "        self.x1 = coor1[0] #x1\n",
    "        self.y1 = coor1[1] #y1\n",
    "        self.x2 = coor2[0] #x2\n",
    "        self.y2 = coor2[1] #y2\n",
    "        \n",
    "    \n",
    "    def distance(self):\n",
    "        #Distance = d = √[(x2− x1)2 + (y2− y1)2]\n",
    "        return math.sqrt((self.x2 - self.x1)**2 + (self.y2 - self.y1)**2)\n",
    "    \n",
    "    def slope(self):\n",
    "        # Slope  = (y₂ - y₁) / (x₂ - x₁)\n",
    "        return (self.y2 - self.y1) / (self.x2 - self.x1)"
   ]
  },
  {
   "cell_type": "code",
   "execution_count": 28,
   "id": "48c03c50",
   "metadata": {},
   "outputs": [],
   "source": [
    "coordinate1 = (3,2)\n",
    "coordinate2 = (8,10)\n",
    "\n",
    "li = Line(coordinate1,coordinate2)"
   ]
  },
  {
   "cell_type": "code",
   "execution_count": 26,
   "id": "7c9c0a34",
   "metadata": {},
   "outputs": [
    {
     "data": {
      "text/plain": [
       "9.433981132056603"
      ]
     },
     "execution_count": 26,
     "metadata": {},
     "output_type": "execute_result"
    }
   ],
   "source": [
    "li.distance()"
   ]
  },
  {
   "cell_type": "code",
   "execution_count": 29,
   "id": "276e2f42",
   "metadata": {},
   "outputs": [
    {
     "data": {
      "text/plain": [
       "1.6"
      ]
     },
     "execution_count": 29,
     "metadata": {},
     "output_type": "execute_result"
    }
   ],
   "source": [
    "li.slope()"
   ]
  },
  {
   "cell_type": "code",
   "execution_count": 34,
   "id": "a162e6a6",
   "metadata": {},
   "outputs": [],
   "source": [
    "#Another way of writing the same program is as follows\n",
    "class Line:\n",
    "    \n",
    "    def __init__(self,coor1,coor2):\n",
    "        self.coor1 = coor1 \n",
    "        self.coor2 = coor2 \n",
    "        \n",
    "    \n",
    "    def distance(self):\n",
    "        #Distance = d = √[(x2− x1)2 + (y2− y1)2]\n",
    "        \n",
    "        x1,y1 = self.coor1\n",
    "        x2,y2 = self.coor2\n",
    "        \n",
    "        return ((x2-x1)**2 + (y2-y1)**2)**0.5\n",
    "    \n",
    "    def slope(self):\n",
    "        # Slope  = (y₂ - y₁) / (x₂ - x₁)\n",
    "        \n",
    "        x1,y1 = self.coor1\n",
    "        x2,y2 = self.coor2\n",
    "        \n",
    "        \n",
    "        return (y2 - y1) / (x2 - x1)"
   ]
  },
  {
   "cell_type": "code",
   "execution_count": 35,
   "id": "4ba5e679",
   "metadata": {},
   "outputs": [],
   "source": [
    "c1 = (3,2)\n",
    "c2 = (8,10)\n",
    "\n",
    "myline = Line(c1, c2)"
   ]
  },
  {
   "cell_type": "code",
   "execution_count": 36,
   "id": "fb5dceb4",
   "metadata": {},
   "outputs": [
    {
     "data": {
      "text/plain": [
       "9.433981132056603"
      ]
     },
     "execution_count": 36,
     "metadata": {},
     "output_type": "execute_result"
    }
   ],
   "source": [
    "myline.distance()"
   ]
  },
  {
   "cell_type": "code",
   "execution_count": 37,
   "id": "5805aba1",
   "metadata": {},
   "outputs": [
    {
     "data": {
      "text/plain": [
       "1.6"
      ]
     },
     "execution_count": 37,
     "metadata": {},
     "output_type": "execute_result"
    }
   ],
   "source": [
    "myline.slope()"
   ]
  },
  {
   "cell_type": "markdown",
   "id": "9a2d73cb",
   "metadata": {},
   "source": [
    "## Challenge Problem\n",
    "\n",
    "* For this challenge, create a bank account class that has two attributes:\n",
    "\n",
    "* owner\n",
    "* balance\n",
    "\n",
    "* and two methods:\n",
    "* deposit\n",
    "* withdraw\n",
    "\n",
    "* As an added requirement, withdrawals may not exceed the available balance.\n",
    "\n",
    "* Instantiate your class, make several deposits and withdrawals, and test to make sure the account can't be overdrawn.\n"
   ]
  },
  {
   "cell_type": "code",
   "execution_count": 43,
   "id": "bf20d420",
   "metadata": {},
   "outputs": [],
   "source": [
    "class Account:\n",
    "    \n",
    "    def __init__ (self,owner, balance = 100):\n",
    "        self.onr = owner\n",
    "        self.bal = balance\n",
    "        \n",
    "    def deposit(self):\n",
    "        self.bal = self.bal + balance\n",
    "        print(\"Your current balance is: {}\".format(self.bal))\n",
    "    \n",
    "    def withdraw(self):\n",
    "        self.bal = self.bal - balance"
   ]
  },
  {
   "cell_type": "code",
   "execution_count": 44,
   "id": "eff81f56",
   "metadata": {},
   "outputs": [],
   "source": [
    "acct1 = Account('Jose',100)"
   ]
  },
  {
   "cell_type": "code",
   "execution_count": 45,
   "id": "02d71ee0",
   "metadata": {},
   "outputs": [
    {
     "ename": "NameError",
     "evalue": "name 'balance' is not defined",
     "output_type": "error",
     "traceback": [
      "\u001b[1;31m---------------------------------------------------------------------------\u001b[0m",
      "\u001b[1;31mNameError\u001b[0m                                 Traceback (most recent call last)",
      "\u001b[1;32m<ipython-input-45-6833eb068443>\u001b[0m in \u001b[0;36m<module>\u001b[1;34m\u001b[0m\n\u001b[1;32m----> 1\u001b[1;33m \u001b[0macct1\u001b[0m\u001b[1;33m.\u001b[0m\u001b[0mdeposit\u001b[0m\u001b[1;33m(\u001b[0m\u001b[1;33m)\u001b[0m\u001b[1;33m\u001b[0m\u001b[1;33m\u001b[0m\u001b[0m\n\u001b[0m",
      "\u001b[1;32m<ipython-input-43-0b8e3ce520ce>\u001b[0m in \u001b[0;36mdeposit\u001b[1;34m(self)\u001b[0m\n\u001b[0;32m      6\u001b[0m \u001b[1;33m\u001b[0m\u001b[0m\n\u001b[0;32m      7\u001b[0m     \u001b[1;32mdef\u001b[0m \u001b[0mdeposit\u001b[0m\u001b[1;33m(\u001b[0m\u001b[0mself\u001b[0m\u001b[1;33m)\u001b[0m\u001b[1;33m:\u001b[0m\u001b[1;33m\u001b[0m\u001b[1;33m\u001b[0m\u001b[0m\n\u001b[1;32m----> 8\u001b[1;33m         \u001b[0mself\u001b[0m\u001b[1;33m.\u001b[0m\u001b[0mbal\u001b[0m \u001b[1;33m=\u001b[0m \u001b[0mself\u001b[0m\u001b[1;33m.\u001b[0m\u001b[0mbal\u001b[0m \u001b[1;33m+\u001b[0m \u001b[0mbalance\u001b[0m\u001b[1;33m\u001b[0m\u001b[1;33m\u001b[0m\u001b[0m\n\u001b[0m\u001b[0;32m      9\u001b[0m         \u001b[0mprint\u001b[0m\u001b[1;33m(\u001b[0m\u001b[1;34m\"Your current balance is: {}\"\u001b[0m\u001b[1;33m.\u001b[0m\u001b[0mformat\u001b[0m\u001b[1;33m(\u001b[0m\u001b[0mself\u001b[0m\u001b[1;33m.\u001b[0m\u001b[0mbal\u001b[0m\u001b[1;33m)\u001b[0m\u001b[1;33m)\u001b[0m\u001b[1;33m\u001b[0m\u001b[1;33m\u001b[0m\u001b[0m\n\u001b[0;32m     10\u001b[0m \u001b[1;33m\u001b[0m\u001b[0m\n",
      "\u001b[1;31mNameError\u001b[0m: name 'balance' is not defined"
     ]
    }
   ],
   "source": [
    "acct1.deposit()"
   ]
  },
  {
   "cell_type": "code",
   "execution_count": null,
   "id": "91439840",
   "metadata": {},
   "outputs": [],
   "source": []
  }
 ],
 "metadata": {
  "kernelspec": {
   "display_name": "Python 3",
   "language": "python",
   "name": "python3"
  },
  "language_info": {
   "codemirror_mode": {
    "name": "ipython",
    "version": 3
   },
   "file_extension": ".py",
   "mimetype": "text/x-python",
   "name": "python",
   "nbconvert_exporter": "python",
   "pygments_lexer": "ipython3",
   "version": "3.8.8"
  }
 },
 "nbformat": 4,
 "nbformat_minor": 5
}
