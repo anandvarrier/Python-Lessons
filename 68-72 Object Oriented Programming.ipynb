{
 "cells": [
  {
   "cell_type": "markdown",
   "id": "71498f43",
   "metadata": {},
   "source": [
    "## Object Oriented Programming\n",
    "* OOP allows programer to have their own objects/class that have methods and attributes.\n",
    "* We have done this while defining string, list, dictionary or other objects,you were able to call methods of them with the .method_name() syntax.\n",
    "* OOP allows users to create their own objects/class. In general, OOP allows us to create code that is repetable and organized.\n",
    "\n",
    "* Syntax of a class in Python\n",
    "*class or object is often interchangable terms.\n",
    "\n",
    "class NameOfClass():\n",
    "\n",
    "    def _init_(self, param1, param2):\n",
    "        self.param1 = param1\n",
    "        self.param2 = param2\n",
    "        \n",
    "    def some_method(self):\n",
    "        #perform some action\n",
    "        print(self.param1)"
   ]
  },
  {
   "cell_type": "code",
   "execution_count": 2,
   "id": "94357d4e",
   "metadata": {},
   "outputs": [],
   "source": [
    "#example 1: We are just creating a class which does nothing\n",
    "class Sample():\n",
    "    pass"
   ]
  },
  {
   "cell_type": "code",
   "execution_count": 5,
   "id": "8d9ad09a",
   "metadata": {},
   "outputs": [],
   "source": [
    "#here we are creating an instance of the class\n",
    "my_sample = Sample()"
   ]
  },
  {
   "cell_type": "code",
   "execution_count": 6,
   "id": "6ed29fc6",
   "metadata": {},
   "outputs": [
    {
     "data": {
      "text/plain": [
       "__main__.Sample"
      ]
     },
     "execution_count": 6,
     "metadata": {},
     "output_type": "execute_result"
    }
   ],
   "source": [
    "#here we are checking the type of that sample\n",
    "type(my_sample)"
   ]
  },
  {
   "cell_type": "code",
   "execution_count": 7,
   "id": "f3fc369c",
   "metadata": {},
   "outputs": [],
   "source": [
    "#Let's now create attributes\n",
    "class Dog():\n",
    "    def __init__(self, breed):\n",
    "        \n",
    "        self.breed = breed"
   ]
  },
  {
   "cell_type": "code",
   "execution_count": 8,
   "id": "1a8488f4",
   "metadata": {},
   "outputs": [
    {
     "ename": "TypeError",
     "evalue": "__init__() missing 1 required positional argument: 'breed'",
     "output_type": "error",
     "traceback": [
      "\u001b[1;31m---------------------------------------------------------------------------\u001b[0m",
      "\u001b[1;31mTypeError\u001b[0m                                 Traceback (most recent call last)",
      "\u001b[1;32m<ipython-input-8-a773a9553afb>\u001b[0m in \u001b[0;36m<module>\u001b[1;34m\u001b[0m\n\u001b[0;32m      1\u001b[0m \u001b[1;31m#creating an instance\u001b[0m\u001b[1;33m\u001b[0m\u001b[1;33m\u001b[0m\u001b[1;33m\u001b[0m\u001b[0m\n\u001b[0;32m      2\u001b[0m \u001b[1;31m#if I don't pass anything then I would get an error\u001b[0m\u001b[1;33m\u001b[0m\u001b[1;33m\u001b[0m\u001b[1;33m\u001b[0m\u001b[0m\n\u001b[1;32m----> 3\u001b[1;33m \u001b[0mmy_dog\u001b[0m \u001b[1;33m=\u001b[0m \u001b[0mDog\u001b[0m\u001b[1;33m(\u001b[0m\u001b[1;33m)\u001b[0m\u001b[1;33m\u001b[0m\u001b[1;33m\u001b[0m\u001b[0m\n\u001b[0m",
      "\u001b[1;31mTypeError\u001b[0m: __init__() missing 1 required positional argument: 'breed'"
     ]
    }
   ],
   "source": [
    "#creating an instance\n",
    "#if I don't pass anything then I would get an error\n",
    "my_dog = Dog()"
   ]
  },
  {
   "cell_type": "code",
   "execution_count": 9,
   "id": "6ab2c2d1",
   "metadata": {},
   "outputs": [],
   "source": [
    "#when we pass an argument, then it would run.\n",
    "#here we are giving the dog a value\n",
    "my_dog = Dog(breed='Lab')"
   ]
  },
  {
   "cell_type": "code",
   "execution_count": 10,
   "id": "25ffacdc",
   "metadata": {},
   "outputs": [
    {
     "data": {
      "text/plain": [
       "__main__.Dog"
      ]
     },
     "execution_count": 10,
     "metadata": {},
     "output_type": "execute_result"
    }
   ],
   "source": [
    "type(my_dog)"
   ]
  },
  {
   "cell_type": "code",
   "execution_count": 11,
   "id": "4ca920bd",
   "metadata": {},
   "outputs": [
    {
     "data": {
      "text/plain": [
       "'Lab'"
      ]
     },
     "execution_count": 11,
     "metadata": {},
     "output_type": "execute_result"
    }
   ],
   "source": [
    "my_dog.breed"
   ]
  },
  {
   "cell_type": "code",
   "execution_count": 63,
   "id": "9bc31c03",
   "metadata": {},
   "outputs": [],
   "source": [
    "#Let's add more attributes\n",
    "class Dog():\n",
    "    def __init__(self, breed, name, spots):\n",
    "        \n",
    "        self.breed = breed\n",
    "        self.name = name\n",
    "        #Accept a boolean True/False for spots\n",
    "        self.spots = spots"
   ]
  },
  {
   "cell_type": "code",
   "execution_count": 64,
   "id": "8500ca4e",
   "metadata": {},
   "outputs": [],
   "source": [
    "my_dog = Dog(breed='Huskie', name = 'Simba' ,spots = False)"
   ]
  },
  {
   "cell_type": "code",
   "execution_count": 66,
   "id": "a95a586e",
   "metadata": {},
   "outputs": [
    {
     "data": {
      "text/plain": [
       "'Huskie'"
      ]
     },
     "execution_count": 66,
     "metadata": {},
     "output_type": "execute_result"
    }
   ],
   "source": [
    "my_dog.breed"
   ]
  },
  {
   "cell_type": "code",
   "execution_count": 16,
   "id": "afb85f43",
   "metadata": {},
   "outputs": [
    {
     "data": {
      "text/plain": [
       "'Simba'"
      ]
     },
     "execution_count": 16,
     "metadata": {},
     "output_type": "execute_result"
    }
   ],
   "source": [
    "my_dog.name"
   ]
  },
  {
   "cell_type": "code",
   "execution_count": 19,
   "id": "b6d0c081",
   "metadata": {},
   "outputs": [
    {
     "data": {
      "text/plain": [
       "False"
      ]
     },
     "execution_count": 19,
     "metadata": {},
     "output_type": "execute_result"
    }
   ],
   "source": [
    "my_dog.spots"
   ]
  },
  {
   "cell_type": "code",
   "execution_count": 23,
   "id": "5f899d21",
   "metadata": {},
   "outputs": [],
   "source": [
    "#We will now add Class Object Attribute\n",
    "class Dog():\n",
    "    #CLASS OBJECT ATTRIBUTE\n",
    "    #SAME FOR ANY INSTANCE OF A CLASS\n",
    "    #By default it going to stay true even if self is not passed\n",
    "    #These are avalues which is going to remain constant for any instance\n",
    "    #for eg. A Car Class/Object will have an accelarator, brake and clutch\n",
    "    #as constant values for any type of car or model\n",
    "    species = 'Mammal'\n",
    "    \n",
    "    #These are attributes which changes according to instance\n",
    "    #It will change according to the values passed by the user\n",
    "    #Similarly, for a Car Class/Object these below attributes would change \n",
    "    #for different instances of Car class like car company, model, \n",
    "    #year of manuf, wheels, fuel capacity, etc\n",
    "    def __init__(self, breed, name, spots):\n",
    "        \n",
    "        self.breed = breed\n",
    "        self.name = name\n",
    "        ##Except a boolean True/False\n",
    "        self.spots = spots"
   ]
  },
  {
   "cell_type": "code",
   "execution_count": 24,
   "id": "6a29388d",
   "metadata": {},
   "outputs": [],
   "source": [
    "my_dog = Dog(breed='Lab', name = 'Siffy' ,spots = True)"
   ]
  },
  {
   "cell_type": "code",
   "execution_count": 25,
   "id": "56882ce9",
   "metadata": {},
   "outputs": [
    {
     "data": {
      "text/plain": [
       "'Mammal'"
      ]
     },
     "execution_count": 25,
     "metadata": {},
     "output_type": "execute_result"
    }
   ],
   "source": [
    "#we can call this attribute even if we have not defined it anywhere\n",
    "my_dog.species"
   ]
  },
  {
   "cell_type": "code",
   "execution_count": 43,
   "id": "7c8e1214",
   "metadata": {},
   "outputs": [],
   "source": [
    "#We will now see Methods\n",
    "class Dog():\n",
    "    species = 'Mammal'\n",
    "    \n",
    "    def __init__(self, breed, name):\n",
    "        \n",
    "        self.breed = breed\n",
    "        self.name = name\n",
    "        \n",
    "    #Class Functions \n",
    "    #Operations/Actions ----> Methods\n",
    "    def bark(self):\n",
    "        print('Woof!')"
   ]
  },
  {
   "cell_type": "code",
   "execution_count": 44,
   "id": "59123484",
   "metadata": {},
   "outputs": [],
   "source": [
    "my_dog = Dog('German Shepheard', 'Monty')"
   ]
  },
  {
   "cell_type": "code",
   "execution_count": 45,
   "id": "0811a17b",
   "metadata": {},
   "outputs": [
    {
     "data": {
      "text/plain": [
       "'German Shepheard'"
      ]
     },
     "execution_count": 45,
     "metadata": {},
     "output_type": "execute_result"
    }
   ],
   "source": [
    "#Observe that breed, name and spot are not using any () at the end \n",
    "#This is because these are just attributes, they have information stored in them\n",
    "my_dog.breed"
   ]
  },
  {
   "cell_type": "code",
   "execution_count": 46,
   "id": "f6289e67",
   "metadata": {},
   "outputs": [
    {
     "name": "stdout",
     "output_type": "stream",
     "text": [
      "Woof!\n"
     ]
    }
   ],
   "source": [
    "#Notice when we call a method we will use () as it is taking an action\n",
    "my_dog.bark()"
   ]
  },
  {
   "cell_type": "code",
   "execution_count": 51,
   "id": "7e28896a",
   "metadata": {},
   "outputs": [],
   "source": [
    "#To ellaborate better, the method would use the attributes\n",
    "\n",
    "class Dog():\n",
    "    species = 'Mammal'\n",
    "    \n",
    "    def __init__(self, breed, name):\n",
    "        \n",
    "        self.breed = breed\n",
    "        self.name = name\n",
    "        \n",
    "    #Class Functions \n",
    "    #Operations/Actions ----> Methods\n",
    "    def bark(self):\n",
    "        print('Woof! My name is {}'.format(self.name))"
   ]
  },
  {
   "cell_type": "code",
   "execution_count": 52,
   "id": "773bb6d9",
   "metadata": {},
   "outputs": [
    {
     "name": "stdout",
     "output_type": "stream",
     "text": [
      "Woof!\n"
     ]
    }
   ],
   "source": [
    "#REMEMBER\n",
    "#WHENEVER YOU RUN A CLASS (eg.ABOVE CELL), THEN YOU NEED TO RUN A NEW VARIABLE\n",
    "# WITH NEW VALUES OR PREVIOUS VALUES\n",
    "#IN SHORT YOU NEED TO GIVE VALUES AGAIN\n",
    "my_dog.bark()"
   ]
  },
  {
   "cell_type": "code",
   "execution_count": 56,
   "id": "b61a1f48",
   "metadata": {},
   "outputs": [],
   "source": [
    "#here we are running again with new values\n",
    "my_dog = Dog('Stray Dog', 'Shonty')"
   ]
  },
  {
   "cell_type": "code",
   "execution_count": 57,
   "id": "5011f422",
   "metadata": {},
   "outputs": [
    {
     "name": "stdout",
     "output_type": "stream",
     "text": [
      "Woof! My name is Shonty\n"
     ]
    }
   ],
   "source": [
    "my_dog.bark()"
   ]
  },
  {
   "cell_type": "code",
   "execution_count": 58,
   "id": "3a366cb6",
   "metadata": {},
   "outputs": [],
   "source": [
    "#Methods can also take outside variables\n",
    "\n",
    "class Dog():\n",
    "    species = 'Mammal'\n",
    "    \n",
    "    def __init__(self, breed, name):\n",
    "        \n",
    "        self.breed = breed\n",
    "        self.name = name\n",
    "        \n",
    "    #Class Functions \n",
    "    #Operations/Actions ----> Methods\n",
    "    def bark(self, number):\n",
    "        print('Woof! My name is {} and I like {} chicken bones'.format(self.name, number))"
   ]
  },
  {
   "cell_type": "code",
   "execution_count": 59,
   "id": "189735f8",
   "metadata": {},
   "outputs": [],
   "source": [
    "my_dog = Dog('Boxer', 'Billi')"
   ]
  },
  {
   "cell_type": "code",
   "execution_count": 62,
   "id": "4c9b75d0",
   "metadata": {},
   "outputs": [
    {
     "name": "stdout",
     "output_type": "stream",
     "text": [
      "Woof! My name is Billi and I like 4 chicken bones\n"
     ]
    }
   ],
   "source": [
    "my_dog.bark(4)"
   ]
  },
  {
   "cell_type": "code",
   "execution_count": 5,
   "id": "7645696f",
   "metadata": {},
   "outputs": [],
   "source": [
    "#We will now understand another example\n",
    "class Circle():\n",
    "    \n",
    "    #CLASS OBJECT ATTRIBUTE\n",
    "    pi = 3.14\n",
    "    \n",
    "    #here I am keeping a default value of radius which can be overwritten\n",
    "    #REMEMBER TO GIVE 2 UNDERSCORES BEFORE AND AFTER init\n",
    "    def __init__(self, radius=1):\n",
    "        \n",
    "        self.radius = radius\n",
    "        \n",
    "    \n",
    "    #METHOD\n",
    "    def circumference(self):\n",
    "        return self.radius * self.pi * 2"
   ]
  },
  {
   "cell_type": "code",
   "execution_count": 6,
   "id": "0df32202",
   "metadata": {},
   "outputs": [],
   "source": [
    "#Creating an instance of Cirlce Object\n",
    "my_circle = Circle()"
   ]
  },
  {
   "cell_type": "code",
   "execution_count": 3,
   "id": "1adb155e",
   "metadata": {},
   "outputs": [
    {
     "data": {
      "text/plain": [
       "3.14"
      ]
     },
     "execution_count": 3,
     "metadata": {},
     "output_type": "execute_result"
    }
   ],
   "source": [
    "my_circle.pi"
   ]
  },
  {
   "cell_type": "code",
   "execution_count": 8,
   "id": "e4f0b179",
   "metadata": {},
   "outputs": [
    {
     "data": {
      "text/plain": [
       "1"
      ]
     },
     "execution_count": 8,
     "metadata": {},
     "output_type": "execute_result"
    }
   ],
   "source": [
    "my_circle.radius"
   ]
  },
  {
   "cell_type": "code",
   "execution_count": 10,
   "id": "2492ff19",
   "metadata": {},
   "outputs": [
    {
     "data": {
      "text/plain": [
       "6.28"
      ]
     },
     "execution_count": 10,
     "metadata": {},
     "output_type": "execute_result"
    }
   ],
   "source": [
    "my_circle.circumference()"
   ]
  },
  {
   "cell_type": "code",
   "execution_count": 13,
   "id": "8c3ed9d0",
   "metadata": {},
   "outputs": [],
   "source": [
    "#If I want to overwrite the default value of radius\n",
    "#I need to run the instance again with a new value\n",
    "my_circle = Circle(20)"
   ]
  },
  {
   "cell_type": "code",
   "execution_count": 14,
   "id": "cfebc011",
   "metadata": {},
   "outputs": [
    {
     "data": {
      "text/plain": [
       "20"
      ]
     },
     "execution_count": 14,
     "metadata": {},
     "output_type": "execute_result"
    }
   ],
   "source": [
    "my_circle.radius"
   ]
  },
  {
   "cell_type": "code",
   "execution_count": 16,
   "id": "3cd546a3",
   "metadata": {},
   "outputs": [
    {
     "data": {
      "text/plain": [
       "125.60000000000001"
      ]
     },
     "execution_count": 16,
     "metadata": {},
     "output_type": "execute_result"
    }
   ],
   "source": [
    "my_circle.circumference()"
   ]
  },
  {
   "cell_type": "code",
   "execution_count": 28,
   "id": "4ef2f3d4",
   "metadata": {},
   "outputs": [],
   "source": [
    "#Few additions in the above program to keep in mind\n",
    "class Circle():\n",
    "    \n",
    "    #CLASS OBJECT ATTRIBUTE\n",
    "    pi = 3.14\n",
    "    \n",
    "    #here I am adding area as an atrribute BUT\n",
    "    #it does not necessairly has to be defiend as a parameter call\n",
    "    #we can do as below as well\n",
    "    def __init__(self, radius=1):\n",
    "        \n",
    "        self.radius = radius\n",
    "        self.area = radius * radius * self.pi\n",
    "        #we can also define pi as follows which will make any programer\n",
    "        #understand that it is referenced to class object attribute\n",
    "        #self.area = radius * radius * Circle.pi\n",
    "        #you can try the above line. Remove comments and see\n",
    "        \n",
    "    \n",
    "    #METHOD\n",
    "    def circumference(self):\n",
    "        return self.radius * self.pi * 2"
   ]
  },
  {
   "cell_type": "code",
   "execution_count": 29,
   "id": "5f6fd0ff",
   "metadata": {},
   "outputs": [],
   "source": [
    "my_circle_one = Circle(7)"
   ]
  },
  {
   "cell_type": "code",
   "execution_count": 30,
   "id": "ad9f4bd1",
   "metadata": {},
   "outputs": [
    {
     "data": {
      "text/plain": [
       "153.86"
      ]
     },
     "execution_count": 30,
     "metadata": {},
     "output_type": "execute_result"
    }
   ],
   "source": [
    "my_circle_one.area"
   ]
  },
  {
   "cell_type": "markdown",
   "id": "1ec21eb2",
   "metadata": {},
   "source": [
    "## Inheritance and Polymorphism"
   ]
  },
  {
   "cell_type": "markdown",
   "id": "44423b7c",
   "metadata": {},
   "source": [
    "### Inheritence\n",
    "* It is a way of creating new classes using classes that has already been defined.\n",
    "* Major benefit is to reuse code and reduce the complexity of code."
   ]
  },
  {
   "cell_type": "code",
   "execution_count": 35,
   "id": "a73cc477",
   "metadata": {},
   "outputs": [],
   "source": [
    "#let us consider an example\n",
    "#BASE CLASS\n",
    "\n",
    "class Animal():\n",
    "    \n",
    "    #this attribute is not taking any parameter\n",
    "    def __init__(self):\n",
    "        print(\"ANIMAL CREATED\")\n",
    "       \n",
    "    #METHODS\n",
    "    def who_am_I(self):\n",
    "        print(\"I am an Animal\")\n",
    "        \n",
    "    def eat(self):\n",
    "        print(\"I am eating\")"
   ]
  },
  {
   "cell_type": "code",
   "execution_count": 37,
   "id": "e5e8e717",
   "metadata": {},
   "outputs": [
    {
     "name": "stdout",
     "output_type": "stream",
     "text": [
      "ANIMAL CREATED\n"
     ]
    }
   ],
   "source": [
    "#creating an instance of Animal Class\n",
    "myanimal = Animal()"
   ]
  },
  {
   "cell_type": "code",
   "execution_count": 38,
   "id": "5c644e35",
   "metadata": {},
   "outputs": [
    {
     "name": "stdout",
     "output_type": "stream",
     "text": [
      "I am an Animal\n"
     ]
    }
   ],
   "source": [
    "myanimal.who_am_I()"
   ]
  },
  {
   "cell_type": "code",
   "execution_count": 40,
   "id": "8b754dee",
   "metadata": {},
   "outputs": [
    {
     "name": "stdout",
     "output_type": "stream",
     "text": [
      "I am eating\n"
     ]
    }
   ],
   "source": [
    "myanimal.eat()"
   ]
  },
  {
   "cell_type": "code",
   "execution_count": 48,
   "id": "718d8e19",
   "metadata": {},
   "outputs": [],
   "source": [
    "#Now we will recreate DOg class as few methods of Dog class \n",
    "#is similar to Animal Class\n",
    "\n",
    "#DERIVED CLASS OR CHILD CLASS\n",
    "#here we are referencing Animal in Dog class \n",
    "#as Dog Class is going to inherit few methods from Animal Class\n",
    "class Dog(Animal):\n",
    "    \n",
    "    def __init__(self):\n",
    "        Animal.__init__(self) #notice we are not giving :\n",
    "        print(\"DOG CREATED!\")"
   ]
  },
  {
   "cell_type": "code",
   "execution_count": 49,
   "id": "02955013",
   "metadata": {},
   "outputs": [
    {
     "name": "stdout",
     "output_type": "stream",
     "text": [
      "ANIMAL CREATED\n",
      "DOG CREATED!\n"
     ]
    }
   ],
   "source": [
    "#now we will create an instance of Dog class\n",
    "#it prints out the Animal class as well as Dog class's init methods\n",
    "mydog = Dog()"
   ]
  },
  {
   "cell_type": "code",
   "execution_count": 47,
   "id": "c790e189",
   "metadata": {},
   "outputs": [
    {
     "name": "stdout",
     "output_type": "stream",
     "text": [
      "I am eating\n"
     ]
    }
   ],
   "source": [
    "#here you can notice that the methods which are defined in Animal class\n",
    "#can also be used by the Dog class EVEN THOUGH it is not defined in Dog class\n",
    "#Now we are reusing the methods from the BASE CLASS\n",
    "#THIS IS CALLED INHERITENCE\n",
    "mydog.eat()"
   ]
  },
  {
   "cell_type": "code",
   "execution_count": 46,
   "id": "24aa17e2",
   "metadata": {},
   "outputs": [
    {
     "name": "stdout",
     "output_type": "stream",
     "text": [
      "I am an Animal\n"
     ]
    }
   ],
   "source": [
    "mydog.who_am_I()"
   ]
  },
  {
   "cell_type": "code",
   "execution_count": 50,
   "id": "4f371db3",
   "metadata": {},
   "outputs": [],
   "source": [
    "#What if I want to overwrite or even add a new method in Dog class\n",
    "# we can do as follows\n",
    "class Dog(Animal):\n",
    "    \n",
    "    def __init__(self):\n",
    "        Animal.__init__(self) #notice we are not giving :\n",
    "        print(\"DOG CREATED!\")\n",
    "        \n",
    "    #OVERWRITING A METHOD FROM BASE CLASS\n",
    "    #REMEMBER: You need to keep the same name of method as in the Base Class\n",
    "    def who_am_I(self):\n",
    "        print(\"I am Dog!\")\n",
    "    #If we comment the above 2 lines.\n",
    "    #It goes back to the Base class method \n",
    "    #if we remove the above method from here\n",
    "    #just rerun. Try once.\n",
    "    \n",
    "    \n",
    "    #CREATING A NEW METHOD FOR DOG CLASS\n",
    "    def bark(self):\n",
    "        print(\"WHOOF!\")"
   ]
  },
  {
   "cell_type": "code",
   "execution_count": 51,
   "id": "6afc9550",
   "metadata": {},
   "outputs": [
    {
     "name": "stdout",
     "output_type": "stream",
     "text": [
      "ANIMAL CREATED\n",
      "DOG CREATED!\n"
     ]
    }
   ],
   "source": [
    "mydogo = Dog()"
   ]
  },
  {
   "cell_type": "code",
   "execution_count": 53,
   "id": "90a8ade7",
   "metadata": {},
   "outputs": [
    {
     "name": "stdout",
     "output_type": "stream",
     "text": [
      "I am Dog!\n"
     ]
    }
   ],
   "source": [
    "#Notice that the Base class method has been overwritten\n",
    "#this can also be reverted back. Refer above cell\n",
    "mydogo.who_am_I()"
   ]
  },
  {
   "cell_type": "code",
   "execution_count": 54,
   "id": "722854ce",
   "metadata": {},
   "outputs": [
    {
     "name": "stdout",
     "output_type": "stream",
     "text": [
      "WHOOF!\n"
     ]
    }
   ],
   "source": [
    "mydogo.bark()"
   ]
  },
  {
   "cell_type": "markdown",
   "id": "d6ef74e2",
   "metadata": {},
   "source": [
    "### Polymorphism\n",
    "* "
   ]
  },
  {
   "cell_type": "code",
   "execution_count": 55,
   "id": "8e963405",
   "metadata": {},
   "outputs": [],
   "source": [
    "#let us take an example\n",
    "\n",
    "class Dog():\n",
    "    \n",
    "    def __init__(self,name):\n",
    "        self.name = name\n",
    "        \n",
    "    def speak(self):\n",
    "        return self.name + \" says Whoof!\""
   ]
  },
  {
   "cell_type": "code",
   "execution_count": 56,
   "id": "adcfa050",
   "metadata": {},
   "outputs": [],
   "source": [
    "class Cat():\n",
    "    \n",
    "    def __init__(self,name):\n",
    "        self.name = name\n",
    "        \n",
    "    def speak(self):\n",
    "        return self.name + \" says Meow!\""
   ]
  },
  {
   "cell_type": "markdown",
   "id": "80d3dcf9",
   "metadata": {},
   "source": [
    "* Notice that the above 2 Classes are taking a method with the same name"
   ]
  },
  {
   "cell_type": "code",
   "execution_count": 59,
   "id": "cbbcd9a8",
   "metadata": {},
   "outputs": [],
   "source": [
    "#Creating instances of each Class\n",
    "simba = Dog('Simba')\n",
    "catty = Cat('Catty')"
   ]
  },
  {
   "cell_type": "code",
   "execution_count": 60,
   "id": "1d00f94d",
   "metadata": {},
   "outputs": [
    {
     "name": "stdout",
     "output_type": "stream",
     "text": [
      "Simba says Whoof!\n"
     ]
    }
   ],
   "source": [
    "print(simba.speak())"
   ]
  },
  {
   "cell_type": "code",
   "execution_count": 61,
   "id": "4433a65f",
   "metadata": {},
   "outputs": [
    {
     "name": "stdout",
     "output_type": "stream",
     "text": [
      "Catty says Meow!\n"
     ]
    }
   ],
   "source": [
    "print(catty.speak())"
   ]
  },
  {
   "cell_type": "code",
   "execution_count": 71,
   "id": "06ba42d1",
   "metadata": {},
   "outputs": [
    {
     "name": "stdout",
     "output_type": "stream",
     "text": [
      "<class '__main__.Dog'>\n",
      "Simba says Whoof!\n",
      "<class '__main__.Cat'>\n",
      "Catty says Meow!\n"
     ]
    }
   ],
   "source": [
    "#Another way of showing Polymorphism\n",
    "\n",
    "for pet in [simba, catty]:\n",
    "    \n",
    "    print(type(pet))\n",
    "    print(pet.speak())"
   ]
  },
  {
   "cell_type": "markdown",
   "id": "aa2f8b1e",
   "metadata": {},
   "source": [
    "* Notice that, in the first iteration the for loop prints out simba's class type and the speak method of Simba i.e is speak method from Dog Class.\n",
    "* Similary in the second iteration the for loop prints out catty's class type and the speak method of Catty i.e is speak method from Cat Class."
   ]
  },
  {
   "cell_type": "code",
   "execution_count": 68,
   "id": "7a018c9d",
   "metadata": {},
   "outputs": [],
   "source": [
    "#Another way of showing Polymorphism\n",
    "\n",
    "def pet_class(pet):\n",
    "    print(pet.speak())"
   ]
  },
  {
   "cell_type": "code",
   "execution_count": 69,
   "id": "423423dc",
   "metadata": {},
   "outputs": [
    {
     "name": "stdout",
     "output_type": "stream",
     "text": [
      "Simba says Whoof!\n"
     ]
    }
   ],
   "source": [
    "pet_class(simba)"
   ]
  },
  {
   "cell_type": "code",
   "execution_count": 70,
   "id": "38f51011",
   "metadata": {},
   "outputs": [
    {
     "name": "stdout",
     "output_type": "stream",
     "text": [
      "Catty says Meow!\n"
     ]
    }
   ],
   "source": [
    "pet_class(catty)"
   ]
  },
  {
   "cell_type": "code",
   "execution_count": 72,
   "id": "a5c2c984",
   "metadata": {},
   "outputs": [],
   "source": [
    "#This is another example to show Polymorphism\n",
    "#Here we are creating an Abstract class which is not expected to be have an\n",
    "#instance. This class is used as a BASE CLASS\n",
    "class Animal():\n",
    "    \n",
    "    def __init__(self,name):\n",
    "        self.name = name\n",
    "        \n",
    "    def speak(self):\n",
    "        raise NotImplementedError(\"Subclass must implement this abstract class\")"
   ]
  },
  {
   "cell_type": "code",
   "execution_count": 74,
   "id": "cef90134",
   "metadata": {},
   "outputs": [],
   "source": [
    "#if we try to create an instance of Animal Class, it will throw an error\n",
    "myani = Animal('Pilli')"
   ]
  },
  {
   "cell_type": "code",
   "execution_count": 76,
   "id": "8ea81065",
   "metadata": {},
   "outputs": [
    {
     "ename": "NotImplementedError",
     "evalue": "Subclass must implement this abstract class",
     "output_type": "error",
     "traceback": [
      "\u001b[1;31m---------------------------------------------------------------------------\u001b[0m",
      "\u001b[1;31mNotImplementedError\u001b[0m                       Traceback (most recent call last)",
      "\u001b[1;32m<ipython-input-76-286cc3446ee8>\u001b[0m in \u001b[0;36m<module>\u001b[1;34m\u001b[0m\n\u001b[0;32m      1\u001b[0m \u001b[1;31m#Notice error\u001b[0m\u001b[1;33m\u001b[0m\u001b[1;33m\u001b[0m\u001b[1;33m\u001b[0m\u001b[0m\n\u001b[1;32m----> 2\u001b[1;33m \u001b[0mmyani\u001b[0m\u001b[1;33m.\u001b[0m\u001b[0mspeak\u001b[0m\u001b[1;33m(\u001b[0m\u001b[1;33m)\u001b[0m\u001b[1;33m\u001b[0m\u001b[1;33m\u001b[0m\u001b[0m\n\u001b[0m",
      "\u001b[1;32m<ipython-input-72-778432bbe9b3>\u001b[0m in \u001b[0;36mspeak\u001b[1;34m(self)\u001b[0m\n\u001b[0;32m      5\u001b[0m \u001b[1;33m\u001b[0m\u001b[0m\n\u001b[0;32m      6\u001b[0m     \u001b[1;32mdef\u001b[0m \u001b[0mspeak\u001b[0m\u001b[1;33m(\u001b[0m\u001b[0mself\u001b[0m\u001b[1;33m)\u001b[0m\u001b[1;33m:\u001b[0m\u001b[1;33m\u001b[0m\u001b[1;33m\u001b[0m\u001b[0m\n\u001b[1;32m----> 7\u001b[1;33m         \u001b[1;32mraise\u001b[0m \u001b[0mNotImplementedError\u001b[0m\u001b[1;33m(\u001b[0m\u001b[1;34m\"Subclass must implement this abstract class\"\u001b[0m\u001b[1;33m)\u001b[0m\u001b[1;33m\u001b[0m\u001b[1;33m\u001b[0m\u001b[0m\n\u001b[0m",
      "\u001b[1;31mNotImplementedError\u001b[0m: Subclass must implement this abstract class"
     ]
    }
   ],
   "source": [
    "#Notice error\n",
    "myani.speak()"
   ]
  },
  {
   "cell_type": "code",
   "execution_count": 77,
   "id": "b5acf9e7",
   "metadata": {},
   "outputs": [],
   "source": [
    "class Dog(Animal):\n",
    "        #you no longer need to define the init method in this Child Class\n",
    "    def speak(self):\n",
    "        return self.name + \" says Whoof!\""
   ]
  },
  {
   "cell_type": "code",
   "execution_count": 78,
   "id": "1c3502eb",
   "metadata": {},
   "outputs": [],
   "source": [
    "class Cat(Animal):\n",
    "        #you no longer need to define the init method in this Child Class\n",
    "    def speak(self):\n",
    "        return self.name + \" says Meow!\""
   ]
  },
  {
   "cell_type": "code",
   "execution_count": 79,
   "id": "00dc8e33",
   "metadata": {},
   "outputs": [],
   "source": [
    "fido = Dog('Fido')"
   ]
  },
  {
   "cell_type": "code",
   "execution_count": 80,
   "id": "0850cc44",
   "metadata": {},
   "outputs": [],
   "source": [
    "isis = Cat('Isis')"
   ]
  },
  {
   "cell_type": "code",
   "execution_count": 81,
   "id": "9014e331",
   "metadata": {},
   "outputs": [
    {
     "name": "stdout",
     "output_type": "stream",
     "text": [
      "Fido says Whoof!\n"
     ]
    }
   ],
   "source": [
    "print(fido.speak())"
   ]
  },
  {
   "cell_type": "code",
   "execution_count": 82,
   "id": "05c0e124",
   "metadata": {},
   "outputs": [
    {
     "name": "stdout",
     "output_type": "stream",
     "text": [
      "Isis says Meow!\n"
     ]
    }
   ],
   "source": [
    "print(isis.speak())"
   ]
  },
  {
   "cell_type": "code",
   "execution_count": null,
   "id": "9f49a880",
   "metadata": {},
   "outputs": [],
   "source": []
  }
 ],
 "metadata": {
  "kernelspec": {
   "display_name": "Python 3",
   "language": "python",
   "name": "python3"
  },
  "language_info": {
   "codemirror_mode": {
    "name": "ipython",
    "version": 3
   },
   "file_extension": ".py",
   "mimetype": "text/x-python",
   "name": "python",
   "nbconvert_exporter": "python",
   "pygments_lexer": "ipython3",
   "version": "3.8.8"
  }
 },
 "nbformat": 4,
 "nbformat_minor": 5
}
