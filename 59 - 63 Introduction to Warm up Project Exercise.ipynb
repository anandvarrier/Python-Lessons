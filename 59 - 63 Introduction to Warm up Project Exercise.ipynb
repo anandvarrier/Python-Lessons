{
 "cells": [
  {
   "cell_type": "markdown",
   "id": "6019c836",
   "metadata": {},
   "source": [
    "Displaying Information and Accepting User Input"
   ]
  },
  {
   "cell_type": "code",
   "execution_count": 1,
   "id": "e6d32029",
   "metadata": {},
   "outputs": [
    {
     "name": "stdout",
     "output_type": "stream",
     "text": [
      "1 2 3\n",
      "4 5 6\n",
      "7 8 9\n"
     ]
    }
   ],
   "source": [
    "#eg we know how to print anything\n",
    "print(1,2,3)\n",
    "print(4,5,6)\n",
    "print(7,8,9)"
   ]
  },
  {
   "cell_type": "code",
   "execution_count": 2,
   "id": "8e189577",
   "metadata": {},
   "outputs": [],
   "source": [
    "#instead of printing it multiple times we have learnt functions\n",
    "row1 = [1,2,3]\n",
    "row2 = [4,5,6]\n",
    "row3 = [7,8,9]\n",
    "\n",
    "def display(a,b,c):\n",
    "    print(row1)\n",
    "    print(row2)\n",
    "    print(row3)"
   ]
  },
  {
   "cell_type": "code",
   "execution_count": 3,
   "id": "e7dc4195",
   "metadata": {},
   "outputs": [
    {
     "name": "stdout",
     "output_type": "stream",
     "text": [
      "[1, 2, 3]\n",
      "[4, 5, 6]\n",
      "[7, 8, 9]\n"
     ]
    }
   ],
   "source": [
    "display(row1,row2,row3)"
   ]
  },
  {
   "cell_type": "code",
   "execution_count": 4,
   "id": "533d17ad",
   "metadata": {},
   "outputs": [],
   "source": [
    "row1 = [' ',' ',' ']\n",
    "row2 = [' ',' ',' ']\n",
    "row3 = [' ',' ',' ']\n",
    "\n",
    "def display(a,b,c):\n",
    "    print(row1)\n",
    "    print(row2)\n",
    "    print(row3)"
   ]
  },
  {
   "cell_type": "code",
   "execution_count": 5,
   "id": "c612c882",
   "metadata": {},
   "outputs": [
    {
     "name": "stdout",
     "output_type": "stream",
     "text": [
      "[' ', ' ', ' ']\n",
      "[' ', ' ', ' ']\n",
      "[' ', ' ', ' ']\n"
     ]
    }
   ],
   "source": [
    "display(row1,row2,row3)"
   ]
  },
  {
   "cell_type": "code",
   "execution_count": 6,
   "id": "1f58f6e4",
   "metadata": {},
   "outputs": [],
   "source": [
    "row2[2] = 'X'"
   ]
  },
  {
   "cell_type": "code",
   "execution_count": 7,
   "id": "2bbc0b1f",
   "metadata": {},
   "outputs": [
    {
     "name": "stdout",
     "output_type": "stream",
     "text": [
      "[' ', ' ', ' ']\n",
      "[' ', ' ', 'X']\n",
      "[' ', ' ', ' ']\n"
     ]
    }
   ],
   "source": [
    "display(row1,row2,row3)"
   ]
  },
  {
   "cell_type": "markdown",
   "id": "78b345d2",
   "metadata": {},
   "source": [
    "These are simple ways of displaying information to the user"
   ]
  },
  {
   "cell_type": "markdown",
   "id": "41b16055",
   "metadata": {},
   "source": [
    " We also know how to accept user input"
   ]
  },
  {
   "cell_type": "code",
   "execution_count": 8,
   "id": "8769c593",
   "metadata": {},
   "outputs": [
    {
     "name": "stdout",
     "output_type": "stream",
     "text": [
      "Please enter the value:45\n"
     ]
    }
   ],
   "source": [
    "#eg\n",
    "result = input(\"Please enter the value:\")"
   ]
  },
  {
   "cell_type": "code",
   "execution_count": 9,
   "id": "ab4f659f",
   "metadata": {},
   "outputs": [
    {
     "data": {
      "text/plain": [
       "str"
      ]
     },
     "execution_count": 9,
     "metadata": {},
     "output_type": "execute_result"
    }
   ],
   "source": [
    "type(result) \n",
    "#REMEMBER: user input by default is stored in string format"
   ]
  },
  {
   "cell_type": "code",
   "execution_count": 10,
   "id": "564439a8",
   "metadata": {},
   "outputs": [
    {
     "data": {
      "text/plain": [
       "int"
      ]
     },
     "execution_count": 10,
     "metadata": {},
     "output_type": "execute_result"
    }
   ],
   "source": [
    "#if we want to convert the type, then we can do the following\n",
    "new_result = int(result)\n",
    "type(new_result)"
   ]
  },
  {
   "cell_type": "markdown",
   "id": "effbbb96",
   "metadata": {},
   "source": [
    "REMEMBER: If we forget to run a block of code and then run the next block of code, it won't run. Also, if we run a block of code twice then again the next block of codes won't run. In this case we will have to restart the kernel. It will erase all the memory of this jupyter notebook, i.e whatever we have declared in this specific notebook would be earsed and we have run each block again. "
   ]
  },
  {
   "cell_type": "markdown",
   "id": "4fc9bf6a",
   "metadata": {},
   "source": [
    "Validating User Input"
   ]
  },
  {
   "cell_type": "markdown",
   "id": "fefaebd4",
   "metadata": {},
   "source": [
    "There can be possibilities when a user is not giving the right input. In such cases we need to validate the user input. "
   ]
  },
  {
   "cell_type": "code",
   "execution_count": 11,
   "id": "b27a75eb",
   "metadata": {},
   "outputs": [],
   "source": [
    "#In the above example \n",
    "def user_choice():\n",
    "    \n",
    "    choice = input('Please enter a number (1-10)')\n",
    "    \n",
    "    return int(choice)"
   ]
  },
  {
   "cell_type": "code",
   "execution_count": 12,
   "id": "23d24729",
   "metadata": {},
   "outputs": [
    {
     "name": "stdout",
     "output_type": "stream",
     "text": [
      "Please enter a number (1-10)8\n"
     ]
    },
    {
     "data": {
      "text/plain": [
       "8"
      ]
     },
     "execution_count": 12,
     "metadata": {},
     "output_type": "execute_result"
    }
   ],
   "source": [
    "user_choice()"
   ]
  },
  {
   "cell_type": "code",
   "execution_count": 13,
   "id": "278710a0",
   "metadata": {},
   "outputs": [
    {
     "name": "stdout",
     "output_type": "stream",
     "text": [
      "Please enter a number (1-10)90\n"
     ]
    },
    {
     "data": {
      "text/plain": [
       "90"
      ]
     },
     "execution_count": 13,
     "metadata": {},
     "output_type": "execute_result"
    }
   ],
   "source": [
    "#here you can see the number is out of range\n",
    "user_choice()"
   ]
  },
  {
   "cell_type": "code",
   "execution_count": 14,
   "id": "fb413965",
   "metadata": {},
   "outputs": [
    {
     "name": "stdout",
     "output_type": "stream",
     "text": [
      "Please enter a number (1-10)ghhh\n"
     ]
    },
    {
     "ename": "ValueError",
     "evalue": "invalid literal for int() with base 10: 'ghhh'",
     "output_type": "error",
     "traceback": [
      "\u001b[1;31m---------------------------------------------------------------------------\u001b[0m",
      "\u001b[1;31mValueError\u001b[0m                                Traceback (most recent call last)",
      "\u001b[1;32m<ipython-input-14-87c8bc7b8f7e>\u001b[0m in \u001b[0;36m<module>\u001b[1;34m\u001b[0m\n\u001b[0;32m      1\u001b[0m \u001b[1;31m#here you can see the input is a string and function wants to return an int\u001b[0m\u001b[1;33m\u001b[0m\u001b[1;33m\u001b[0m\u001b[1;33m\u001b[0m\u001b[0m\n\u001b[0;32m      2\u001b[0m \u001b[1;31m#in such case juoyter throws an error\u001b[0m\u001b[1;33m\u001b[0m\u001b[1;33m\u001b[0m\u001b[1;33m\u001b[0m\u001b[0m\n\u001b[1;32m----> 3\u001b[1;33m \u001b[0muser_choice\u001b[0m\u001b[1;33m(\u001b[0m\u001b[1;33m)\u001b[0m\u001b[1;33m\u001b[0m\u001b[1;33m\u001b[0m\u001b[0m\n\u001b[0m",
      "\u001b[1;32m<ipython-input-11-69988db341a3>\u001b[0m in \u001b[0;36muser_choice\u001b[1;34m()\u001b[0m\n\u001b[0;32m      4\u001b[0m     \u001b[0mchoice\u001b[0m \u001b[1;33m=\u001b[0m \u001b[0minput\u001b[0m\u001b[1;33m(\u001b[0m\u001b[1;34m'Please enter a number (1-10)'\u001b[0m\u001b[1;33m)\u001b[0m\u001b[1;33m\u001b[0m\u001b[1;33m\u001b[0m\u001b[0m\n\u001b[0;32m      5\u001b[0m \u001b[1;33m\u001b[0m\u001b[0m\n\u001b[1;32m----> 6\u001b[1;33m     \u001b[1;32mreturn\u001b[0m \u001b[0mint\u001b[0m\u001b[1;33m(\u001b[0m\u001b[0mchoice\u001b[0m\u001b[1;33m)\u001b[0m\u001b[1;33m\u001b[0m\u001b[1;33m\u001b[0m\u001b[0m\n\u001b[0m",
      "\u001b[1;31mValueError\u001b[0m: invalid literal for int() with base 10: 'ghhh'"
     ]
    }
   ],
   "source": [
    "#here you can see the input is a string and function wants to return an int\n",
    "#in such case juoyter throws an error\n",
    "user_choice()"
   ]
  },
  {
   "cell_type": "code",
   "execution_count": 15,
   "id": "ded1f889",
   "metadata": {},
   "outputs": [],
   "source": [
    "#thus to avoid such scenarios we will modify the above program\n",
    "def user_choice():\n",
    "    \n",
    "    #VARIABLES\n",
    "    \n",
    "    #Initials\n",
    "    choice = 'WRONG'\n",
    "    acceptable_values = range(0,11)\n",
    "    within_range = False\n",
    "    \n",
    "    #2 CONDITION CHECK\n",
    "    while choice.isdigit() == False or within_range == False:\n",
    "        choice = input('Please enter a number (0-10)')\n",
    "        \n",
    "        #Checking for Digit\n",
    "        if choice.isdigit() == False:\n",
    "            print('Please enter correctly!')\n",
    "            \n",
    "        #Checking for range\n",
    "        if choice.isdigit() == True:\n",
    "            if int(choice) in acceptable_values:\n",
    "                within_range = True\n",
    "            else:\n",
    "                print(\"Value not in range!\")\n",
    "                within_range == False\n",
    "    return int(choice)"
   ]
  },
  {
   "cell_type": "code",
   "execution_count": 16,
   "id": "c190fd7b",
   "metadata": {
    "scrolled": true
   },
   "outputs": [
    {
     "name": "stdout",
     "output_type": "stream",
     "text": [
      "Please enter a number (0-10)uii\n",
      "Please enter correctly!\n",
      "Please enter a number (0-10)89\n",
      "Value not in range!\n",
      "Please enter a number (0-10)11\n",
      "Value not in range!\n",
      "Please enter a number (0-10)5\n"
     ]
    },
    {
     "data": {
      "text/plain": [
       "5"
      ]
     },
     "execution_count": 16,
     "metadata": {},
     "output_type": "execute_result"
    }
   ],
   "source": [
    "user_choice()"
   ]
  },
  {
   "cell_type": "markdown",
   "id": "72d2758e",
   "metadata": {},
   "source": [
    "Simple User Interaction"
   ]
  },
  {
   "cell_type": "code",
   "execution_count": 17,
   "id": "ad7f4dd3",
   "metadata": {},
   "outputs": [],
   "source": [
    "game_list = [0,1,2]"
   ]
  },
  {
   "cell_type": "code",
   "execution_count": 18,
   "id": "4af1a9d8",
   "metadata": {},
   "outputs": [],
   "source": [
    "def display_game(game_list):\n",
    "    print(\"Here is the game list: \")\n",
    "    print(game_list)"
   ]
  },
  {
   "cell_type": "code",
   "execution_count": 19,
   "id": "60b76a93",
   "metadata": {},
   "outputs": [
    {
     "name": "stdout",
     "output_type": "stream",
     "text": [
      "Here is the game list: \n",
      "[0, 1, 2]\n"
     ]
    }
   ],
   "source": [
    "display_game(game_list)"
   ]
  },
  {
   "cell_type": "code",
   "execution_count": 20,
   "id": "9c5d2d20",
   "metadata": {},
   "outputs": [],
   "source": [
    "#function to take a valid input from the user\n",
    "def position_choice():\n",
    "    \n",
    "    choice = 'wrong'\n",
    "    while choice not in ['0','1','2']:\n",
    "        choice = input(\"Enter pos ition (0-2)\")\n",
    "        \n",
    "        if choice not in ['0','1','2']:\n",
    "            print(\"Enter valid position\")\n",
    "            \n",
    "    return int(choice)"
   ]
  },
  {
   "cell_type": "code",
   "execution_count": 29,
   "id": "3d06603f",
   "metadata": {},
   "outputs": [
    {
     "name": "stdout",
     "output_type": "stream",
     "text": [
      "Enter position (0-2)2\n"
     ]
    }
   ],
   "source": [
    "r_choice = position_choice()"
   ]
  },
  {
   "cell_type": "code",
   "execution_count": 31,
   "id": "4d9711ad",
   "metadata": {},
   "outputs": [
    {
     "data": {
      "text/plain": [
       "int"
      ]
     },
     "execution_count": 31,
     "metadata": {},
     "output_type": "execute_result"
    }
   ],
   "source": [
    "type(r_choice)"
   ]
  },
  {
   "cell_type": "code",
   "execution_count": 32,
   "id": "116ab70c",
   "metadata": {},
   "outputs": [],
   "source": [
    "#function to replace a position as per the user's choice\n",
    "def replacement_value(game_list, r_choice):\n",
    "    r_value = input(\"Input a value to be replaced\")\n",
    "\n",
    "    game_list[r_choice] = r_value\n",
    "    \n",
    "    return game_list"
   ]
  },
  {
   "cell_type": "code",
   "execution_count": 33,
   "id": "5518bb48",
   "metadata": {},
   "outputs": [
    {
     "name": "stdout",
     "output_type": "stream",
     "text": [
      "Input a value to be replacedX\n"
     ]
    },
    {
     "data": {
      "text/plain": [
       "[0, 1, 'X']"
      ]
     },
     "execution_count": 33,
     "metadata": {},
     "output_type": "execute_result"
    }
   ],
   "source": [
    "replacement_value(game_list, r_choice)"
   ]
  },
  {
   "cell_type": "code",
   "execution_count": 39,
   "id": "af6f0dc9",
   "metadata": {},
   "outputs": [],
   "source": [
    "#function to keep the user interacting with the game until required\n",
    "def game_onchoice():\n",
    "    \n",
    "    choice = 'wrong'\n",
    "    while choice not in ['Y','N']:\n",
    "        choice = input(\"Keep playing? (Y or N)\")\n",
    "        \n",
    "        if choice not in ['Y','N']:\n",
    "            print(\"Please input either Y or N!\")\n",
    "        \n",
    "    if choice == 'Y':\n",
    "        return True\n",
    "    else:\n",
    "        return False"
   ]
  },
  {
   "cell_type": "code",
   "execution_count": 41,
   "id": "07e8777a",
   "metadata": {},
   "outputs": [
    {
     "name": "stdout",
     "output_type": "stream",
     "text": [
      "Keep playing? (Y or N)df\n",
      "Please input either Y or N!\n",
      "Keep playing? (Y or N)Y\n"
     ]
    },
    {
     "data": {
      "text/plain": [
       "True"
      ]
     },
     "execution_count": 41,
     "metadata": {},
     "output_type": "execute_result"
    }
   ],
   "source": [
    "game_onchoice()"
   ]
  },
  {
   "cell_type": "code",
   "execution_count": 37,
   "id": "b237e8ef",
   "metadata": {},
   "outputs": [
    {
     "name": "stdout",
     "output_type": "stream",
     "text": [
      "Keep playing? (Y or N)N\n"
     ]
    },
    {
     "data": {
      "text/plain": [
       "False"
      ]
     },
     "execution_count": 37,
     "metadata": {},
     "output_type": "execute_result"
    }
   ],
   "source": [
    "game_on()"
   ]
  },
  {
   "cell_type": "code",
   "execution_count": 42,
   "id": "9c960702",
   "metadata": {},
   "outputs": [
    {
     "name": "stdout",
     "output_type": "stream",
     "text": [
      "Here is the game list: \n",
      "[0, 1, 2]\n",
      "Enter position (0-2)0\n",
      "Input a value to be replacedO\n",
      "Here is the game list: \n",
      "['O', 1, 2]\n",
      "Keep playing? (Y or N)Y\n",
      "Here is the game list: \n",
      "['O', 1, 2]\n",
      "Enter position (0-2)2\n",
      "Input a value to be replacedO\n",
      "Here is the game list: \n",
      "['O', 1, 'O']\n",
      "Keep playing? (Y or N)N\n"
     ]
    }
   ],
   "source": [
    "#now we will combine all that we have learnt so far in one program\n",
    "\n",
    "game_on =  True\n",
    "game_list = [0,1,2]\n",
    "\n",
    "while game_on:\n",
    "    display_game(game_list)\n",
    "    \n",
    "    position = position_choice()\n",
    "    \n",
    "    game_list = replacement_value(game_list, position)\n",
    "    \n",
    "    display_game(game_list)\n",
    "    \n",
    "    game_on = game_onchoice()"
   ]
  },
  {
   "cell_type": "code",
   "execution_count": null,
   "id": "50d0bbf6",
   "metadata": {},
   "outputs": [],
   "source": []
  }
 ],
 "metadata": {
  "kernelspec": {
   "display_name": "Python 3",
   "language": "python",
   "name": "python3"
  },
  "language_info": {
   "codemirror_mode": {
    "name": "ipython",
    "version": 3
   },
   "file_extension": ".py",
   "mimetype": "text/x-python",
   "name": "python",
   "nbconvert_exporter": "python",
   "pygments_lexer": "ipython3",
   "version": "3.8.8"
  }
 },
 "nbformat": 4,
 "nbformat_minor": 5
}
