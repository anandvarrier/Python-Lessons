{
 "cells": [
  {
   "cell_type": "code",
   "execution_count": 1,
   "id": "86838981",
   "metadata": {},
   "outputs": [],
   "source": [
    "#below example is of stcok prices of few companies\n",
    "#we are creating a list of tuples- reread, don't get confused\n",
    "stock_prices = [('APPL',200),('GOOG',100),('MSFT',300)]"
   ]
  },
  {
   "cell_type": "code",
   "execution_count": 2,
   "id": "7d6b1109",
   "metadata": {},
   "outputs": [
    {
     "name": "stdout",
     "output_type": "stream",
     "text": [
      "('APPL', 200)\n",
      "('GOOG', 100)\n",
      "('MSFT', 300)\n"
     ]
    }
   ],
   "source": [
    "#a for loop to print the content of the list\n",
    "for items in stock_prices:\n",
    "    print(items)"
   ]
  },
  {
   "cell_type": "code",
   "execution_count": 3,
   "id": "28ea3ee4",
   "metadata": {},
   "outputs": [
    {
     "name": "stdout",
     "output_type": "stream",
     "text": [
      "APPL\n",
      "GOOG\n",
      "MSFT\n"
     ]
    }
   ],
   "source": [
    "#a for loop to unpack the tuple\n",
    "for c_name,price in stock_prices:\n",
    "    print(c_name)"
   ]
  },
  {
   "cell_type": "code",
   "execution_count": 4,
   "id": "2c451992",
   "metadata": {},
   "outputs": [
    {
     "name": "stdout",
     "output_type": "stream",
     "text": [
      "200\n",
      "100\n",
      "300\n"
     ]
    }
   ],
   "source": [
    "for c_name,price in stock_prices:\n",
    "    print(price)"
   ]
  },
  {
   "cell_type": "code",
   "execution_count": 5,
   "id": "17e4cb90",
   "metadata": {},
   "outputs": [
    {
     "name": "stdout",
     "output_type": "stream",
     "text": [
      "240.0\n",
      "120.0\n",
      "360.0\n"
     ]
    }
   ],
   "source": [
    "#we can also print calculated values \n",
    "for c_name,price in stock_prices:\n",
    "    print(price+(0.2*price))"
   ]
  },
  {
   "cell_type": "code",
   "execution_count": 6,
   "id": "1128e28e",
   "metadata": {},
   "outputs": [],
   "source": [
    "#the above loops can be all done in a function along with tuple unpacking\n",
    "#eg: we are writing a program to check the employee of the month \n",
    "#by checking the person who has the most working hours\n",
    "\n",
    "#here, I am initially declaring a list of tuples\n",
    "work_hours = [('Alpha',200),('Beta',400),('Charlie',450),('Delta',390)]"
   ]
  },
  {
   "cell_type": "code",
   "execution_count": 12,
   "id": "cfae571b",
   "metadata": {},
   "outputs": [],
   "source": [
    "def emp_of_month(work_hours):\n",
    "    emp_name= ''\n",
    "    max_workhrs= 0\n",
    "    \n",
    "    for name,hours in work_hours:\n",
    "        if hours>max_workhrs:\n",
    "            emp_name=name\n",
    "            max_workhrs=hours\n",
    "        else:\n",
    "            pass\n",
    "    return (emp_name,max_workhrs)"
   ]
  },
  {
   "cell_type": "code",
   "execution_count": 13,
   "id": "5111c0fb",
   "metadata": {},
   "outputs": [
    {
     "data": {
      "text/plain": [
       "('Charlie', 450)"
      ]
     },
     "execution_count": 13,
     "metadata": {},
     "output_type": "execute_result"
    }
   ],
   "source": [
    "emp_of_month(work_hours)"
   ]
  },
  {
   "cell_type": "code",
   "execution_count": 14,
   "id": "ec8b7a52",
   "metadata": {},
   "outputs": [],
   "source": [
    "#saving the rsult in a seperate variable\n",
    "result= emp_of_month(work_hours)"
   ]
  },
  {
   "cell_type": "code",
   "execution_count": 15,
   "id": "666247c3",
   "metadata": {},
   "outputs": [
    {
     "data": {
      "text/plain": [
       "('Charlie', 450)"
      ]
     },
     "execution_count": 15,
     "metadata": {},
     "output_type": "execute_result"
    }
   ],
   "source": [
    "result"
   ]
  },
  {
   "cell_type": "code",
   "execution_count": 16,
   "id": "3ddb8773",
   "metadata": {},
   "outputs": [],
   "source": [
    "#to unpack the tuple we can do the following\n",
    "E_name,W_hours=result"
   ]
  },
  {
   "cell_type": "code",
   "execution_count": 17,
   "id": "6afd6539",
   "metadata": {},
   "outputs": [
    {
     "data": {
      "text/plain": [
       "'Charlie'"
      ]
     },
     "execution_count": 17,
     "metadata": {},
     "output_type": "execute_result"
    }
   ],
   "source": [
    "E_name"
   ]
  },
  {
   "cell_type": "code",
   "execution_count": 18,
   "id": "65e57a92",
   "metadata": {},
   "outputs": [
    {
     "data": {
      "text/plain": [
       "450"
      ]
     },
     "execution_count": 18,
     "metadata": {},
     "output_type": "execute_result"
    }
   ],
   "source": [
    "W_hours"
   ]
  },
  {
   "cell_type": "markdown",
   "id": "6438a595",
   "metadata": {},
   "source": []
  }
 ],
 "metadata": {
  "kernelspec": {
   "display_name": "Python 3",
   "language": "python",
   "name": "python3"
  },
  "language_info": {
   "codemirror_mode": {
    "name": "ipython",
    "version": 3
   },
   "file_extension": ".py",
   "mimetype": "text/x-python",
   "name": "python",
   "nbconvert_exporter": "python",
   "pygments_lexer": "ipython3",
   "version": "3.8.8"
  }
 },
 "nbformat": 4,
 "nbformat_minor": 5
}
