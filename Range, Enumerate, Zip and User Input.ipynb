{
 "cells": [
  {
   "cell_type": "markdown",
   "id": "ecab139c",
   "metadata": {},
   "source": [
    "Range Function"
   ]
  },
  {
   "cell_type": "code",
   "execution_count": 1,
   "id": "3779e413",
   "metadata": {},
   "outputs": [],
   "source": [
    "mylist = [1,2,3]"
   ]
  },
  {
   "cell_type": "code",
   "execution_count": 3,
   "id": "f5acbf8e",
   "metadata": {
    "scrolled": true
   },
   "outputs": [
    {
     "name": "stdout",
     "output_type": "stream",
     "text": [
      "0\n",
      "1\n",
      "2\n",
      "3\n",
      "4\n",
      "5\n",
      "6\n",
      "7\n",
      "8\n",
      "9\n"
     ]
    }
   ],
   "source": [
    "#there are actually 2 ways of using the range() function\n",
    "#this is the 1st usage to print a range of numbers.\n",
    "#if you go between the range() brackets and \n",
    "#press tab you will see all kind of remaining funtions it has\n",
    "\n",
    "#here what is happening is that the range() function is printing \n",
    "#all the numbers all the way upto 10 but not including it\n",
    "for num in range(10):\n",
    "    print(num)"
   ]
  },
  {
   "cell_type": "code",
   "execution_count": 5,
   "id": "869749a2",
   "metadata": {},
   "outputs": [
    {
     "name": "stdout",
     "output_type": "stream",
     "text": [
      "3\n",
      "4\n",
      "5\n",
      "6\n",
      "7\n",
      "8\n",
      "9\n"
     ]
    }
   ],
   "source": [
    "#if we want to specify a starting number for the range we want then:\n",
    "for num in range(3,10):\n",
    "    print(num)\n",
    "#here it is printing only from the specified range upto 10 but not including it"
   ]
  },
  {
   "cell_type": "code",
   "execution_count": 3,
   "id": "2909ae5a",
   "metadata": {},
   "outputs": [
    {
     "name": "stdout",
     "output_type": "stream",
     "text": [
      "0\n",
      "2\n",
      "4\n",
      "6\n",
      "8\n"
     ]
    }
   ],
   "source": [
    "#step sizing can also be done here by adding a 3rd argument \n",
    "for num in range(0,10,2):\n",
    "    print(num)\n",
    "#here, it is printing all the even numbers basically skipping 2 positions\n",
    "#Whats happening exactly is: \n",
    "#range() function is printing from the specified starting position i.e 0.\n",
    "#all the way upto 10 but not including 10\n",
    "#and skipping every 2 positions\n",
    "#(if we keep 3 instead of 2-check it out once) \n",
    "#[predict the ouput 1st and then run]\n",
    "#if we want 10 as well to be printed (if the step sizing is 2) \n",
    "#then change 10 to 11 and see for yourself\n",
    "#Thus the ouput."
   ]
  },
  {
   "cell_type": "code",
   "execution_count": 18,
   "id": "ad6ce352",
   "metadata": {},
   "outputs": [
    {
     "data": {
      "text/plain": [
       "range(0, 10, 2)"
      ]
     },
     "execution_count": 18,
     "metadata": {},
     "output_type": "execute_result"
    }
   ],
   "source": [
    "#the function alone does nothing. If we want know what it does put it inside a for loop or list function like below\n",
    "#Remember range() is a Generator.(its a special type of function that generates info instead of storing in the memory)\n",
    "range(0,10,2)"
   ]
  },
  {
   "cell_type": "code",
   "execution_count": 12,
   "id": "96d7b1cf",
   "metadata": {},
   "outputs": [
    {
     "data": {
      "text/plain": [
       "[0, 2, 4, 6, 8]"
      ]
     },
     "execution_count": 12,
     "metadata": {},
     "output_type": "execute_result"
    }
   ],
   "source": [
    "#range() function inside list\n",
    "list(range(0,10,2))"
   ]
  },
  {
   "cell_type": "markdown",
   "id": "c254c912",
   "metadata": {},
   "source": [
    "Enumerate"
   ]
  },
  {
   "cell_type": "code",
   "execution_count": 7,
   "id": "e5d88df8",
   "metadata": {},
   "outputs": [
    {
     "name": "stdout",
     "output_type": "stream",
     "text": [
      "At index 0 the letter is a\n",
      "At index 1 the letter is b\n",
      "At index 2 the letter is c\n",
      "At index 3 the letter is d\n",
      "At index 4 the letter is e\n"
     ]
    }
   ],
   "source": [
    "#What we generally do:\n",
    "index_count = 0\n",
    "\n",
    "for letter in 'abcde':\n",
    "    print('At index {} the letter is {}'.format(index_count,letter))\n",
    "    index_count +=1"
   ]
  },
  {
   "cell_type": "code",
   "execution_count": 21,
   "id": "e95b6bb9",
   "metadata": {},
   "outputs": [
    {
     "name": "stdout",
     "output_type": "stream",
     "text": [
      "a\n",
      "b\n",
      "c\n",
      "d\n",
      "e\n"
     ]
    }
   ],
   "source": [
    "#what people also do:\n",
    "index_count = 0\n",
    "word = 'abcde'\n",
    "\n",
    "for letter in 'abcde':\n",
    "    print(word[index_count])\n",
    "    index_count += 1"
   ]
  },
  {
   "cell_type": "code",
   "execution_count": 8,
   "id": "f74aef2d",
   "metadata": {},
   "outputs": [
    {
     "name": "stdout",
     "output_type": "stream",
     "text": [
      "(0, 'a')\n",
      "(1, 'b')\n",
      "(2, 'c')\n",
      "(3, 'd')\n",
      "(4, 'e')\n"
     ]
    }
   ],
   "source": [
    "#this is a very common function that we use\n",
    "#the above methods are lenghty\n",
    "#instead we have another function named enumerate\n",
    "\n",
    "word = 'abcde'\n",
    "\n",
    "for items in enumerate(word):\n",
    "    print(items)"
   ]
  },
  {
   "cell_type": "code",
   "execution_count": 13,
   "id": "a9319769",
   "metadata": {},
   "outputs": [
    {
     "name": "stdout",
     "output_type": "stream",
     "text": [
      "0\n",
      "A\n",
      "\t\n",
      "1\n",
      "B\n",
      "\t\n",
      "2\n",
      "C\n",
      "\t\n",
      "3\n",
      "D\n",
      "\t\n",
      "4\n",
      "E\n",
      "\t\n"
     ]
    }
   ],
   "source": [
    "#we can also do likewise:\n",
    "word = 'ABCDE'\n",
    "\n",
    "for index,letter in enumerate(word):\n",
    "    print(index)\n",
    "    print(letter)\n",
    "    print('\\t')\n",
    "#what is happening: it is printing the index position and the assosciated object to it\n",
    "#here that object is letter\n",
    "#you can name index or letter here with what ever name you want to give.\n",
    "#REMEMBER: index and letter is given only for relevance."
   ]
  },
  {
   "cell_type": "code",
   "execution_count": 12,
   "id": "ebcc41f1",
   "metadata": {},
   "outputs": [
    {
     "name": "stdout",
     "output_type": "stream",
     "text": [
      "0\n",
      "OTA\n",
      "\n",
      "\n",
      "1\n",
      "IMA\n",
      "\n",
      "\n"
     ]
    }
   ],
   "source": [
    "word = 'OTA','IMA'\n",
    "for academy,index in enumerate(word):\n",
    "    print(academy)\n",
    "    print(index)\n",
    "    print('\\n')"
   ]
  },
  {
   "cell_type": "markdown",
   "id": "1055aea7",
   "metadata": {},
   "source": [
    "Zip() function: (opposite to Enumerate function)\n",
    "\n",
    "It does tuple unpacking."
   ]
  },
  {
   "cell_type": "code",
   "execution_count": 15,
   "id": "39e1542d",
   "metadata": {},
   "outputs": [],
   "source": [
    "mylist1 = [1,2,3,4,5]\n",
    "mylist2 = ['a','b','c']"
   ]
  },
  {
   "cell_type": "code",
   "execution_count": 17,
   "id": "a8fed547",
   "metadata": {},
   "outputs": [
    {
     "data": {
      "text/plain": [
       "<zip at 0x2ac1c40bc00>"
      ]
     },
     "execution_count": 17,
     "metadata": {},
     "output_type": "execute_result"
    }
   ],
   "source": [
    "#here it is just showing that the above two lists has been zipped together\n",
    "zip(mylist1,mylist2)"
   ]
  },
  {
   "cell_type": "code",
   "execution_count": 18,
   "id": "1bab966c",
   "metadata": {},
   "outputs": [
    {
     "name": "stdout",
     "output_type": "stream",
     "text": [
      "(1, 'a')\n",
      "(2, 'b')\n",
      "(3, 'c')\n"
     ]
    }
   ],
   "source": [
    "#to get the items from it we have to use:\n",
    "for items in zip(mylist1,mylist2):\n",
    "    print(items)"
   ]
  },
  {
   "cell_type": "code",
   "execution_count": 33,
   "id": "c870a558",
   "metadata": {},
   "outputs": [
    {
     "name": "stdout",
     "output_type": "stream",
     "text": [
      "(1, 'a', 100)\n",
      "(2, 'b', 200)\n",
      "(3, 'c', 300)\n"
     ]
    }
   ],
   "source": [
    "#we can also zip it with multiple lists for eg:\n",
    "mylist1 = [1,2,3,4,5]\n",
    "mylist2 = ['a','b','c']\n",
    "mylist3 = [100,200,300,400,500]\n",
    "\n",
    "for items in zip(mylist1,mylist2,mylist3):\n",
    "    print(items)\n",
    "    \n",
    "#notice that even if the lists are uneven the result will be the same. \n",
    "#It just ignores the remaining"
   ]
  },
  {
   "cell_type": "code",
   "execution_count": 25,
   "id": "90c1cbc7",
   "metadata": {},
   "outputs": [
    {
     "data": {
      "text/plain": [
       "[(1, 'a', 100), (2, 'b', 200), (3, 'c', 300)]"
      ]
     },
     "execution_count": 25,
     "metadata": {},
     "output_type": "execute_result"
    }
   ],
   "source": [
    "#we can also cast it likewise in the list format:\n",
    "list(zip(mylist1,mylist2,mylist3))"
   ]
  },
  {
   "cell_type": "code",
   "execution_count": 37,
   "id": "c9c15cb3",
   "metadata": {},
   "outputs": [
    {
     "name": "stdout",
     "output_type": "stream",
     "text": [
      "a\n",
      "b\n",
      "c\n"
     ]
    }
   ],
   "source": [
    "#Notice this:\n",
    "\n",
    "mylist1 = [1,2,3,4,5]\n",
    "mylist2 = ['a','b','c']\n",
    "mylist3 = [100,200,300,400,500]\n",
    "\n",
    "for a,b,c in zip(mylist1,mylist2,mylist3):\n",
    "    print(b)\n",
    "    \n",
    "#here we changed items to a,b,c and we are just printing b."
   ]
  },
  {
   "cell_type": "markdown",
   "id": "7c495e90",
   "metadata": {},
   "source": [
    "'in' operator used in for 'loop':\n",
    "\n",
    "Its useful to check if something is present or not."
   ]
  },
  {
   "cell_type": "code",
   "execution_count": 39,
   "id": "6160c735",
   "metadata": {},
   "outputs": [
    {
     "data": {
      "text/plain": [
       "False"
      ]
     },
     "execution_count": 39,
     "metadata": {},
     "output_type": "execute_result"
    }
   ],
   "source": [
    "'x' in [1,2,3]\n",
    "#checks if x is in [1,2,3]"
   ]
  },
  {
   "cell_type": "code",
   "execution_count": 40,
   "id": "4d64b50e",
   "metadata": {},
   "outputs": [
    {
     "data": {
      "text/plain": [
       "True"
      ]
     },
     "execution_count": 40,
     "metadata": {},
     "output_type": "execute_result"
    }
   ],
   "source": [
    "'x' in ['x','y','z']"
   ]
  },
  {
   "cell_type": "code",
   "execution_count": 41,
   "id": "c7d66aac",
   "metadata": {},
   "outputs": [
    {
     "data": {
      "text/plain": [
       "True"
      ]
     },
     "execution_count": 41,
     "metadata": {},
     "output_type": "execute_result"
    }
   ],
   "source": [
    "'a' in 'a world'"
   ]
  },
  {
   "cell_type": "code",
   "execution_count": 42,
   "id": "607c02ce",
   "metadata": {},
   "outputs": [
    {
     "data": {
      "text/plain": [
       "True"
      ]
     },
     "execution_count": 42,
     "metadata": {},
     "output_type": "execute_result"
    }
   ],
   "source": [
    "'mykey' in {'mykey':345}\n",
    "#also works in dictionaries."
   ]
  },
  {
   "cell_type": "code",
   "execution_count": 43,
   "id": "a931aa30",
   "metadata": {},
   "outputs": [
    {
     "data": {
      "text/plain": [
       "True"
      ]
     },
     "execution_count": 43,
     "metadata": {},
     "output_type": "execute_result"
    }
   ],
   "source": [
    "d = {'mykey':345}\n",
    "\n",
    "345 in d.values()"
   ]
  },
  {
   "cell_type": "code",
   "execution_count": 45,
   "id": "055e4bc8",
   "metadata": {},
   "outputs": [
    {
     "data": {
      "text/plain": [
       "False"
      ]
     },
     "execution_count": 45,
     "metadata": {},
     "output_type": "execute_result"
    }
   ],
   "source": [
    "d = {'mykey':345}\n",
    "\n",
    "345 in d.keys()"
   ]
  },
  {
   "cell_type": "markdown",
   "id": "aa666a6d",
   "metadata": {},
   "source": [
    "Mathematical Functions"
   ]
  },
  {
   "cell_type": "code",
   "execution_count": 47,
   "id": "fe9f05ba",
   "metadata": {},
   "outputs": [],
   "source": [
    "mylist = [1,2,3,4,5]"
   ]
  },
  {
   "cell_type": "code",
   "execution_count": 48,
   "id": "51cbeeb5",
   "metadata": {},
   "outputs": [
    {
     "data": {
      "text/plain": [
       "1"
      ]
     },
     "execution_count": 48,
     "metadata": {},
     "output_type": "execute_result"
    }
   ],
   "source": [
    "min(mylist)"
   ]
  },
  {
   "cell_type": "code",
   "execution_count": 49,
   "id": "f4bebd46",
   "metadata": {},
   "outputs": [
    {
     "data": {
      "text/plain": [
       "5"
      ]
     },
     "execution_count": 49,
     "metadata": {},
     "output_type": "execute_result"
    }
   ],
   "source": [
    "max(mylist)"
   ]
  },
  {
   "cell_type": "code",
   "execution_count": 50,
   "id": "4eff7a7c",
   "metadata": {},
   "outputs": [],
   "source": [
    "#when using import- press tab and you can download any library you want\n",
    "#here we are \n",
    "from random import shuffle"
   ]
  },
  {
   "cell_type": "code",
   "execution_count": 51,
   "id": "5d866f23",
   "metadata": {},
   "outputs": [],
   "source": [
    "mylist = [1,2,3,4,5,6,6,7,8,9]"
   ]
  },
  {
   "cell_type": "code",
   "execution_count": 58,
   "id": "f2dfe4b0",
   "metadata": {},
   "outputs": [],
   "source": [
    "shuffle(mylist)\n",
    "#shuffle basically shuffles the contents."
   ]
  },
  {
   "cell_type": "code",
   "execution_count": 54,
   "id": "98b0a37f",
   "metadata": {},
   "outputs": [],
   "source": [
    "random_list = shuffle(mylist)"
   ]
  },
  {
   "cell_type": "code",
   "execution_count": 56,
   "id": "175dbdfe",
   "metadata": {},
   "outputs": [
    {
     "data": {
      "text/plain": [
       "NoneType"
      ]
     },
     "execution_count": 56,
     "metadata": {},
     "output_type": "execute_result"
    }
   ],
   "source": [
    "type(random_list)\n",
    "#it gives NoneType coz it is inplace function meaning it works inplace on that list"
   ]
  },
  {
   "cell_type": "code",
   "execution_count": 59,
   "id": "e5194648",
   "metadata": {},
   "outputs": [
    {
     "data": {
      "text/plain": [
       "[2, 5, 1, 8, 9, 4, 6, 3, 7, 6]"
      ]
     },
     "execution_count": 59,
     "metadata": {},
     "output_type": "execute_result"
    }
   ],
   "source": [
    "mylist"
   ]
  },
  {
   "cell_type": "code",
   "execution_count": 62,
   "id": "51d730a1",
   "metadata": {},
   "outputs": [],
   "source": [
    "from random import randint"
   ]
  },
  {
   "cell_type": "code",
   "execution_count": 65,
   "id": "1826b958",
   "metadata": {},
   "outputs": [
    {
     "data": {
      "text/plain": [
       "5"
      ]
     },
     "execution_count": 65,
     "metadata": {},
     "output_type": "execute_result"
    }
   ],
   "source": [
    "randint(0,100)\n",
    "#specify the start position and the end position and it will return some random integer."
   ]
  },
  {
   "cell_type": "code",
   "execution_count": 68,
   "id": "4901a36d",
   "metadata": {},
   "outputs": [],
   "source": [
    "mynum = randint(0,80)"
   ]
  },
  {
   "cell_type": "code",
   "execution_count": 69,
   "id": "6504d3c2",
   "metadata": {},
   "outputs": [
    {
     "data": {
      "text/plain": [
       "56"
      ]
     },
     "execution_count": 69,
     "metadata": {},
     "output_type": "execute_result"
    }
   ],
   "source": [
    "mynum"
   ]
  },
  {
   "cell_type": "markdown",
   "id": "755d7704",
   "metadata": {},
   "source": [
    "Getting user input."
   ]
  },
  {
   "cell_type": "code",
   "execution_count": 1,
   "id": "9070d1d2",
   "metadata": {},
   "outputs": [
    {
     "name": "stdout",
     "output_type": "stream",
     "text": [
      "Enter a number here:20\n"
     ]
    }
   ],
   "source": [
    "result = input('Enter a number here:')"
   ]
  },
  {
   "cell_type": "code",
   "execution_count": 3,
   "id": "9e1be699",
   "metadata": {},
   "outputs": [
    {
     "data": {
      "text/plain": [
       "'20'"
      ]
     },
     "execution_count": 3,
     "metadata": {},
     "output_type": "execute_result"
    }
   ],
   "source": [
    "result\n",
    "#remember that whatever you input in the input it is always stored as string"
   ]
  },
  {
   "cell_type": "code",
   "execution_count": 4,
   "id": "16a74f58",
   "metadata": {},
   "outputs": [
    {
     "data": {
      "text/plain": [
       "str"
      ]
     },
     "execution_count": 4,
     "metadata": {},
     "output_type": "execute_result"
    }
   ],
   "source": [
    "type(result)"
   ]
  },
  {
   "cell_type": "code",
   "execution_count": 5,
   "id": "d03cdc15",
   "metadata": {},
   "outputs": [
    {
     "data": {
      "text/plain": [
       "20"
      ]
     },
     "execution_count": 5,
     "metadata": {},
     "output_type": "execute_result"
    }
   ],
   "source": [
    "#to change the type\n",
    "int(result)"
   ]
  },
  {
   "cell_type": "code",
   "execution_count": 6,
   "id": "fb7b6cb5",
   "metadata": {},
   "outputs": [
    {
     "name": "stdout",
     "output_type": "stream",
     "text": [
      "Input Number:28\n"
     ]
    }
   ],
   "source": [
    "#we can also do:\n",
    "result = int(input('Input Number:'))"
   ]
  },
  {
   "cell_type": "code",
   "execution_count": 7,
   "id": "132fd3d5",
   "metadata": {},
   "outputs": [
    {
     "data": {
      "text/plain": [
       "28"
      ]
     },
     "execution_count": 7,
     "metadata": {},
     "output_type": "execute_result"
    }
   ],
   "source": [
    "result"
   ]
  },
  {
   "cell_type": "code",
   "execution_count": 8,
   "id": "b175f98b",
   "metadata": {},
   "outputs": [
    {
     "data": {
      "text/plain": [
       "int"
      ]
     },
     "execution_count": 8,
     "metadata": {},
     "output_type": "execute_result"
    }
   ],
   "source": [
    "type(result)"
   ]
  },
  {
   "cell_type": "code",
   "execution_count": null,
   "id": "65f419ca",
   "metadata": {},
   "outputs": [],
   "source": []
  }
 ],
 "metadata": {
  "kernelspec": {
   "display_name": "Python 3",
   "language": "python",
   "name": "python3"
  },
  "language_info": {
   "codemirror_mode": {
    "name": "ipython",
    "version": 3
   },
   "file_extension": ".py",
   "mimetype": "text/x-python",
   "name": "python",
   "nbconvert_exporter": "python",
   "pygments_lexer": "ipython3",
   "version": "3.8.8"
  }
 },
 "nbformat": 4,
 "nbformat_minor": 5
}
