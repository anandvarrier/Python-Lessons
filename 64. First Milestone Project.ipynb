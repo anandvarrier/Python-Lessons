{
 "cells": [
  {
   "cell_type": "markdown",
   "id": "74da1e24",
   "metadata": {},
   "source": [
    "We will be creating a Tic-Tac-Toe Game with 2 human players\n",
    "The board should be printed everytime the users update anything.\n",
    "We will be using the 'numpad' to match the display of numbers to the grid on the tic tac toe board."
   ]
  },
  {
   "cell_type": "markdown",
   "id": "dce74010",
   "metadata": {},
   "source": [
    "Step 1: Write a function that can print out a board. Set up your board as a list, where each index 1-9 corresponds with a number on a number pad, so you get a 3 by 3 board representation."
   ]
  },
  {
   "cell_type": "code",
   "execution_count": 2,
   "id": "199e12ef",
   "metadata": {},
   "outputs": [],
   "source": [
    "from IPython.display import clear_output\n",
    "\n",
    "def display_board(board):\n",
    "    clear_output()\n",
    "    print(board[7],\"|\",board[8],\"|\",board[9])\n",
    "    print(\"-\",\"-\",\"-\",\"-\",\"-\")\n",
    "    print(board[4],\"|\",board[5],\"|\",board[6])\n",
    "    print(\"-\",\"-\",\"-\",\"-\",\"-\")\n",
    "    print(board[1],\"|\",board[2],\"|\",board[3])"
   ]
  },
  {
   "cell_type": "code",
   "execution_count": 3,
   "id": "3ec26075",
   "metadata": {},
   "outputs": [
    {
     "name": "stdout",
     "output_type": "stream",
     "text": [
      "X | O | X\n",
      "- - - - -\n",
      "O | X | O\n",
      "- - - - -\n",
      "X | O | X\n"
     ]
    }
   ],
   "source": [
    "test_board = ['#','X','O','X','O','X','O','X','O','X']\n",
    "display_board(test_board)"
   ]
  },
  {
   "cell_type": "markdown",
   "id": "4f1db5ea",
   "metadata": {},
   "source": [
    "Step 2: Write a function that can take in a player input and assign their marker as 'X' or 'O'. Think about using while loops to continually ask until you get a correct answer."
   ]
  },
  {
   "cell_type": "code",
   "execution_count": 4,
   "id": "3dc1517a",
   "metadata": {},
   "outputs": [],
   "source": [
    "def player_input():\n",
    "    choice = 'wrong'\n",
    "    \n",
    "    while choice not in ['X','O']:\n",
    "        choice = input(\"Which marker do you choose? (X or O): \").upper()\n",
    "        \n",
    "        if choice not in ['X','O']:\n",
    "            print(\"Invalid entry. Please enter again!\")\n",
    "    \n",
    "    Player_1 = choice\n",
    "    if choice == 'X':\n",
    "        Player_2 = 'O'\n",
    "    else:\n",
    "        Player_2 = 'X'\n",
    "\n",
    "    return (Player_1, Player_2)"
   ]
  },
  {
   "cell_type": "code",
   "execution_count": 5,
   "id": "a692b631",
   "metadata": {},
   "outputs": [
    {
     "name": "stdout",
     "output_type": "stream",
     "text": [
      "Which marker do you choose? (X or O): rr\n",
      "Invalid entry. Please enter again!\n",
      "Which marker do you choose? (X or O): x\n"
     ]
    }
   ],
   "source": [
    "Player_1, Player_2 = player_input()"
   ]
  },
  {
   "cell_type": "code",
   "execution_count": 6,
   "id": "a154e479",
   "metadata": {},
   "outputs": [
    {
     "data": {
      "text/plain": [
       "'X'"
      ]
     },
     "execution_count": 6,
     "metadata": {},
     "output_type": "execute_result"
    }
   ],
   "source": [
    "Player_1"
   ]
  },
  {
   "cell_type": "code",
   "execution_count": 7,
   "id": "3b085eef",
   "metadata": {},
   "outputs": [
    {
     "data": {
      "text/plain": [
       "'O'"
      ]
     },
     "execution_count": 7,
     "metadata": {},
     "output_type": "execute_result"
    }
   ],
   "source": [
    "Player_2"
   ]
  },
  {
   "cell_type": "markdown",
   "id": "e6f7a3d9",
   "metadata": {},
   "source": [
    "Step 3: Write a function that takes in the board list object, a marker ('X' or 'O'), and a desired position (number 1-9) and assigns it to the board."
   ]
  },
  {
   "cell_type": "code",
   "execution_count": 8,
   "id": "91a3ca9f",
   "metadata": {},
   "outputs": [],
   "source": [
    "def position_choice(board, marker, position):\n",
    "    \n",
    "    board[position] = marker"
   ]
  },
  {
   "cell_type": "code",
   "execution_count": 13,
   "id": "7b66ec08",
   "metadata": {},
   "outputs": [
    {
     "name": "stdout",
     "output_type": "stream",
     "text": [
      "X | O | X\n",
      "- - - - -\n",
      "O | @ | O\n",
      "- - - - -\n",
      "X | O | X\n"
     ]
    }
   ],
   "source": [
    "position_choice(test_board,'@',5)\n",
    "display_board(test_board)"
   ]
  },
  {
   "cell_type": "markdown",
   "id": "1de32680",
   "metadata": {},
   "source": [
    "Step 4: Write a function that takes in a board and a mark (X or O) and then checks to see if that mark has won."
   ]
  },
  {
   "cell_type": "code",
   "execution_count": 10,
   "id": "0db0a414",
   "metadata": {},
   "outputs": [],
   "source": [
    "def win_check(board, mark):\n",
    "    if board[7] == board[8] == board[9] == mark:\n",
    "        return 'Congratulations!'\n",
    "    elif board[4] == board[5] == board[6] == mark:\n",
    "        return 'Congratulations!'\n",
    "    elif board[1] == board[2] == board[3] == mark:\n",
    "        return 'Congratulations!'\n",
    "    elif board[7] == board[4] == board[1] == mark:\n",
    "        return 'Congratulations!'\n",
    "    elif board[8] == board[5] == board[2] == mark:\n",
    "        return 'Congratulations!'\n",
    "    elif board[9] == board[6] == board[3] == mark:\n",
    "        return 'Congratulations!'\n",
    "    elif board[7] == board[5] == board[3] == mark:\n",
    "        return 'Congratulations!'\n",
    "    elif board[9] == board[5] == board[1] == mark:\n",
    "        return 'Congratulations!'\n",
    "    else:\n",
    "        return 'Its a tie!'"
   ]
  },
  {
   "cell_type": "code",
   "execution_count": 14,
   "id": "10d6a320",
   "metadata": {},
   "outputs": [
    {
     "name": "stdout",
     "output_type": "stream",
     "text": [
      "X | O | X\n",
      "- - - - -\n",
      "O | @ | O\n",
      "- - - - -\n",
      "X | O | X\n"
     ]
    },
    {
     "data": {
      "text/plain": [
       "'Its a tie!'"
      ]
     },
     "execution_count": 14,
     "metadata": {},
     "output_type": "execute_result"
    }
   ],
   "source": [
    "display_board(test_board)\n",
    "win_check(test_board,'X')"
   ]
  },
  {
   "cell_type": "markdown",
   "id": "7ceb839c",
   "metadata": {},
   "source": [
    "Step 5: Write a function that uses the random module to randomly decide which player goes first. You may want to lookup random.randint() Return a string of which player went first."
   ]
  },
  {
   "cell_type": "code",
   "execution_count": 15,
   "id": "c91e71f1",
   "metadata": {},
   "outputs": [],
   "source": [
    "import random\n",
    "\n",
    "def choose_first():\n",
    "    flip = random.randint(0,1)\n",
    "    \n",
    "    if flip == 0:\n",
    "        return 'Player 1'\n",
    "    else:\n",
    "        return 'Player 2'"
   ]
  },
  {
   "cell_type": "code",
   "execution_count": 16,
   "id": "f642d3ba",
   "metadata": {},
   "outputs": [
    {
     "data": {
      "text/plain": [
       "'Player 2'"
      ]
     },
     "execution_count": 16,
     "metadata": {},
     "output_type": "execute_result"
    }
   ],
   "source": [
    "choose_first()"
   ]
  },
  {
   "cell_type": "markdown",
   "id": "a51c25d4",
   "metadata": {},
   "source": [
    "Step 6: Write a function that returns a boolean indicating whether a space on the board is freely available."
   ]
  },
  {
   "cell_type": "code",
   "execution_count": 17,
   "id": "1b615d63",
   "metadata": {},
   "outputs": [],
   "source": [
    "def space_check(board, position):\n",
    "    return board[position] == ' '"
   ]
  },
  {
   "cell_type": "markdown",
   "id": "8d83dfb0",
   "metadata": {},
   "source": [
    "Step 7: Write a function that checks if the board is full and returns a boolean value. True if full, False otherwise."
   ]
  },
  {
   "cell_type": "code",
   "execution_count": 18,
   "id": "ff35c5f8",
   "metadata": {},
   "outputs": [],
   "source": [
    "def full_board_check(board):\n",
    "    for i in range(1,10):\n",
    "        if space_check(board, i):\n",
    "            return False\n",
    "    #WHEN BOARD IS FULL RETRUN TRUE\n",
    "    return True"
   ]
  },
  {
   "cell_type": "markdown",
   "id": "2cf6d762",
   "metadata": {},
   "source": [
    "Step 8: Write a function that asks for a player's next position (as a number 1-9) and then uses the function from step 6 to check if it's a free position. If it is, then return the position for later use."
   ]
  },
  {
   "cell_type": "code",
   "execution_count": 19,
   "id": "015e0aba",
   "metadata": {},
   "outputs": [],
   "source": [
    "def player_choice(board):\n",
    "    \n",
    "    position = 0\n",
    "    \n",
    "    while position not in [1,2,3,4,5,6,7,8,9] or not space_check(board, position):\n",
    "        position = int(input(\"Input next Position (1-9): \"))\n",
    "        \n",
    "    return position        "
   ]
  },
  {
   "cell_type": "markdown",
   "id": "efbf76b9",
   "metadata": {},
   "source": [
    "Step 9: Write a function that asks the player if they want to play again and returns a boolean True if they do want to play again."
   ]
  },
  {
   "cell_type": "code",
   "execution_count": 20,
   "id": "6e1d860f",
   "metadata": {},
   "outputs": [],
   "source": [
    "def replay():\n",
    "    choice = input(\"Play again? Enter Yes or No\")\n",
    "    return choice == 'Yes'"
   ]
  },
  {
   "cell_type": "markdown",
   "id": "f1467d43",
   "metadata": {},
   "source": [
    "Step 10: Here comes the hard part! Use while loops and the functions you've made to run the game!"
   ]
  },
  {
   "cell_type": "code",
   "execution_count": 22,
   "id": "af8f796d",
   "metadata": {},
   "outputs": [
    {
     "name": "stdout",
     "output_type": "stream",
     "text": [
      "X |   |  \n",
      "- - - - -\n",
      "  |   |  \n",
      "- - - - -\n",
      "  |   |  \n",
      "PLAYER 2 WON!\n",
      "Play again? Enter Yes or Nono\n"
     ]
    }
   ],
   "source": [
    "#THE FINAL TIC TAC TOE PROGRAM\n",
    "\n",
    "print('Welcome to Tic Tac Toe!')\n",
    "\n",
    "while True:\n",
    "    \n",
    "    #KEEPING A BLANK BOARD\n",
    "    the_board = [' ']*10\n",
    "    \n",
    "    #DISPLAYING A BLANK BOARD\n",
    "    display_board(the_board)\n",
    "    \n",
    "    #TAKING THE PLAYER MARKER CHOICE\n",
    "    player_1, player_2 = player_input()\n",
    "    print('Please remember your marker! You will play alternatively. Good Luck!')\n",
    "    \n",
    "    #RANDOMLY ASSIGNING A PLAYER TO PLAY THE GAME\n",
    "    turn = choose_first()\n",
    "    print(turn + ' will play first')\n",
    "    game_on = True\n",
    "\n",
    "    \n",
    "    while game_on:\n",
    "        #Player 1 Turn\n",
    "        if turn == 'Player 1':\n",
    "         \n",
    "        #CHOOSING THE POSITION OF THE PLAYER'S MARKER\n",
    "            position = player_choice(the_board)\n",
    "        \n",
    "        #PLACE THE MARKER ON THE POSITION\n",
    "            position_choice(the_board, player_1, position)\n",
    "            \n",
    "        \n",
    "        #CHECKING IF PLAYER HAS WON OR TIED\n",
    "            if win_check(the_board,player_1):\n",
    "                display_board(the_board)\n",
    "                print(\"PLAYER 1 WON!\")\n",
    "                game_on = False\n",
    "            else:\n",
    "        #CHEKING IF THE BOARD IS FULL OR NOT\n",
    "                if full_board_check(the_board):\n",
    "                    display_board(the_board)\n",
    "                    print(\"TIE GAME!\")\n",
    "                    game_on = False\n",
    "                    \n",
    "        #IF NEITHER, THEN PASSING TO THE NEXT PLAYER\n",
    "                else:\n",
    "                    turn = 'Player 2'\n",
    "            \n",
    "        #Player2's Turn.\n",
    "        else:\n",
    "            if turn == 'Player 2':\n",
    "                \n",
    "         \n",
    "        #CHOOSING THE POSITION OF THE PLAYER'S MARKER\n",
    "                position = player_choice(the_board)\n",
    "        \n",
    "        #PLACE THE MARKER ON THE POSITION\n",
    "                position_choice(the_board, player_2, position)\n",
    "            \n",
    "        \n",
    "        #CHECKING IF PLAYER HAS WON OR TIED\n",
    "                if win_check(the_board,player_2):\n",
    "                    display_board(the_board)\n",
    "                    print(\"PLAYER 2 WON!\")\n",
    "                    game_on = False\n",
    "                else:\n",
    "        #CHEKING IF THE BOARD IS FULL OR NOT\n",
    "                    if full_board_check(the_board):\n",
    "                        display_board(the_board)\n",
    "                        print(\"TIE GAME!\")\n",
    "                        game_on = False\n",
    "                    \n",
    "        #IF NEITHER, THEN PASSING TO THE NEXT PLAYER\n",
    "                    else:\n",
    "                        turn = 'Player 1'\n",
    "                \n",
    "\n",
    "    if not replay():\n",
    "        break"
   ]
  },
  {
   "cell_type": "code",
   "execution_count": null,
   "id": "c014d1bb",
   "metadata": {},
   "outputs": [],
   "source": []
  }
 ],
 "metadata": {
  "kernelspec": {
   "display_name": "Python 3",
   "language": "python",
   "name": "python3"
  },
  "language_info": {
   "codemirror_mode": {
    "name": "ipython",
    "version": 3
   },
   "file_extension": ".py",
   "mimetype": "text/x-python",
   "name": "python",
   "nbconvert_exporter": "python",
   "pygments_lexer": "ipython3",
   "version": "3.8.8"
  }
 },
 "nbformat": 4,
 "nbformat_minor": 5
}
