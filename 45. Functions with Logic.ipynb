{
 "cells": [
  {
   "cell_type": "code",
   "execution_count": 1,
   "id": "1c8cb90d",
   "metadata": {},
   "outputs": [
    {
     "data": {
      "text/plain": [
       "True"
      ]
     },
     "execution_count": 1,
     "metadata": {},
     "output_type": "execute_result"
    }
   ],
   "source": [
    "#below is a simple example of checking a number is even or odd\n",
    "20%2==0"
   ]
  },
  {
   "cell_type": "code",
   "execution_count": 2,
   "id": "e9660c3c",
   "metadata": {},
   "outputs": [
    {
     "data": {
      "text/plain": [
       "False"
      ]
     },
     "execution_count": 2,
     "metadata": {},
     "output_type": "execute_result"
    }
   ],
   "source": [
    "21%2==0"
   ]
  },
  {
   "cell_type": "code",
   "execution_count": 3,
   "id": "b8c82aab",
   "metadata": {},
   "outputs": [],
   "source": [
    "#eg1\n",
    "def even_check(number):\n",
    "    result=number%2==0\n",
    "    return result"
   ]
  },
  {
   "cell_type": "code",
   "execution_count": 4,
   "id": "7f8c96d0",
   "metadata": {},
   "outputs": [
    {
     "data": {
      "text/plain": [
       "True"
      ]
     },
     "execution_count": 4,
     "metadata": {},
     "output_type": "execute_result"
    }
   ],
   "source": [
    "even_check(20)"
   ]
  },
  {
   "cell_type": "code",
   "execution_count": 5,
   "id": "adf89c72",
   "metadata": {},
   "outputs": [
    {
     "data": {
      "text/plain": [
       "False"
      ]
     },
     "execution_count": 5,
     "metadata": {},
     "output_type": "execute_result"
    }
   ],
   "source": [
    "even_check(21)"
   ]
  },
  {
   "cell_type": "markdown",
   "id": "0b7388fe",
   "metadata": {},
   "source": [
    "the above function is an example of checking a number is even or not"
   ]
  },
  {
   "cell_type": "code",
   "execution_count": 7,
   "id": "9d7735bd",
   "metadata": {},
   "outputs": [],
   "source": [
    "#eg1 moddified-efficient code\n",
    "def evennum_check(number):\n",
    "    return number%2==0"
   ]
  },
  {
   "cell_type": "code",
   "execution_count": 8,
   "id": "827fe3de",
   "metadata": {},
   "outputs": [
    {
     "data": {
      "text/plain": [
       "True"
      ]
     },
     "execution_count": 8,
     "metadata": {},
     "output_type": "execute_result"
    }
   ],
   "source": [
    "evennum_check(20)"
   ]
  },
  {
   "cell_type": "code",
   "execution_count": 9,
   "id": "27a4f9eb",
   "metadata": {},
   "outputs": [
    {
     "data": {
      "text/plain": [
       "False"
      ]
     },
     "execution_count": 9,
     "metadata": {},
     "output_type": "execute_result"
    }
   ],
   "source": [
    "evennum_check(29)"
   ]
  },
  {
   "cell_type": "code",
   "execution_count": 10,
   "id": "0d3e2c6a",
   "metadata": {},
   "outputs": [],
   "source": [
    "#eg2 RETURN TRUE IF ANY NUMBER IS EVEN INSIDE A LIST\n",
    "def check_even_list(num_list):\n",
    "    for num in num_list:\n",
    "        if num%2==0:\n",
    "            return True\n",
    "        else:\n",
    "            pass"
   ]
  },
  {
   "cell_type": "code",
   "execution_count": 11,
   "id": "37b1fbf4",
   "metadata": {},
   "outputs": [],
   "source": [
    "#notice that since all numbers in the list are odd, the function won't return anything \n",
    "#because we have used pass in else loop whcih means do nothing \n",
    "check_even_list([1,3,5])"
   ]
  },
  {
   "cell_type": "code",
   "execution_count": 12,
   "id": "640d8805",
   "metadata": {},
   "outputs": [
    {
     "data": {
      "text/plain": [
       "True"
      ]
     },
     "execution_count": 12,
     "metadata": {},
     "output_type": "execute_result"
    }
   ],
   "source": [
    "#here the list satisfies the condition of atleast one number being even\n",
    "check_even_list([2,4,5])"
   ]
  },
  {
   "cell_type": "code",
   "execution_count": 13,
   "id": "1fb7fc7b",
   "metadata": {},
   "outputs": [
    {
     "data": {
      "text/plain": [
       "True"
      ]
     },
     "execution_count": 13,
     "metadata": {},
     "output_type": "execute_result"
    }
   ],
   "source": [
    "#here, we can see if the first number is even, condition is getting satisfied\n",
    "check_even_list([2,3,5])"
   ]
  },
  {
   "cell_type": "code",
   "execution_count": 14,
   "id": "7a70996a",
   "metadata": {},
   "outputs": [
    {
     "data": {
      "text/plain": [
       "True"
      ]
     },
     "execution_count": 14,
     "metadata": {},
     "output_type": "execute_result"
    }
   ],
   "source": [
    "#here, we can see if the last number is even, condition is getting satisfied\n",
    "check_even_list([1,3,10])"
   ]
  },
  {
   "cell_type": "markdown",
   "id": "3d961cde",
   "metadata": {},
   "source": [
    "Which means the loop is going through all the numbers and the giving us the output"
   ]
  },
  {
   "cell_type": "code",
   "execution_count": 15,
   "id": "86fa00a6",
   "metadata": {},
   "outputs": [],
   "source": [
    "#now if we want to return False if the number is odd then what beginners \n",
    "#usually do is that they replace pass with return False \n",
    "#which is a wrong approach\n",
    "def check_evenodd_list(num_list):\n",
    "    for num in num_list:\n",
    "        if num%2==0:\n",
    "            return True\n",
    "        else:\n",
    "            return False"
   ]
  },
  {
   "cell_type": "code",
   "execution_count": 16,
   "id": "7a285e16",
   "metadata": {},
   "outputs": [
    {
     "data": {
      "text/plain": [
       "True"
      ]
     },
     "execution_count": 16,
     "metadata": {},
     "output_type": "execute_result"
    }
   ],
   "source": [
    "check_evenodd_list([2,4,9])"
   ]
  },
  {
   "cell_type": "code",
   "execution_count": 17,
   "id": "b6f3fa90",
   "metadata": {},
   "outputs": [
    {
     "data": {
      "text/plain": [
       "False"
      ]
     },
     "execution_count": 17,
     "metadata": {},
     "output_type": "execute_result"
    }
   ],
   "source": [
    "check_evenodd_list([1,4,9])"
   ]
  },
  {
   "cell_type": "code",
   "execution_count": 18,
   "id": "e0aa2b9b",
   "metadata": {},
   "outputs": [
    {
     "data": {
      "text/plain": [
       "True"
      ]
     },
     "execution_count": 18,
     "metadata": {},
     "output_type": "execute_result"
    }
   ],
   "source": [
    "check_evenodd_list([4,1,9])"
   ]
  },
  {
   "cell_type": "code",
   "execution_count": 21,
   "id": "c7ea99e1",
   "metadata": {},
   "outputs": [],
   "source": [
    "#here if you notice, as soon as the first number is being checked,\n",
    "#the program is giving us an output\n",
    "#the SOLUTION lies in the indentation\n",
    "#notice carefully the below program and its output\n",
    "def check_even_odd_list(num_list):\n",
    "    for num in num_list:\n",
    "        if num%2==0:\n",
    "            return True\n",
    "        else:\n",
    "            pass\n",
    "    return False"
   ]
  },
  {
   "cell_type": "code",
   "execution_count": 22,
   "id": "6ea4e1d2",
   "metadata": {},
   "outputs": [
    {
     "data": {
      "text/plain": [
       "True"
      ]
     },
     "execution_count": 22,
     "metadata": {},
     "output_type": "execute_result"
    }
   ],
   "source": [
    "check_even_odd_list([1,1,3,4])"
   ]
  },
  {
   "cell_type": "code",
   "execution_count": 23,
   "id": "1b747e82",
   "metadata": {},
   "outputs": [
    {
     "data": {
      "text/plain": [
       "False"
      ]
     },
     "execution_count": 23,
     "metadata": {},
     "output_type": "execute_result"
    }
   ],
   "source": [
    "check_even_odd_list([1,3,5,7])"
   ]
  },
  {
   "cell_type": "code",
   "execution_count": 25,
   "id": "c4e97105",
   "metadata": {},
   "outputs": [],
   "source": [
    "#here, notice carefully both the outputs,\n",
    "#we can conclude that, the loop is running through all the numbers in the list\n",
    "#in the previous program it was not running through all the numbers\n",
    "#Lesson here is Indentation matters\n",
    "#pass statement is used when we have multiple return statements\n",
    "#REMEMBER THAT, all return statements is not supposed \n",
    "#to be idented as the previous one in the program.\n",
    "#Every program, every loop is to be logically written"
   ]
  },
  {
   "cell_type": "code",
   "execution_count": 31,
   "id": "ab411319",
   "metadata": {},
   "outputs": [],
   "source": [
    "#eg3 RETURN ALL THE EVEN NUMBERS IN A LIST\n",
    "def check_even_odd_num_list(num_list):\n",
    "    even_numbers=[] #placeholder variable\n",
    "    for num in num_list:\n",
    "        if num%2==0:\n",
    "            even_numbers.append(num)\n",
    "        else:\n",
    "            pass\n",
    "    return even_numbers"
   ]
  },
  {
   "cell_type": "code",
   "execution_count": 32,
   "id": "48ba1688",
   "metadata": {},
   "outputs": [
    {
     "data": {
      "text/plain": [
       "[4, 6]"
      ]
     },
     "execution_count": 32,
     "metadata": {},
     "output_type": "execute_result"
    }
   ],
   "source": [
    "check_even_odd_num_list([1,3,4,6])"
   ]
  },
  {
   "cell_type": "code",
   "execution_count": 34,
   "id": "0471f08f",
   "metadata": {},
   "outputs": [
    {
     "data": {
      "text/plain": [
       "[]"
      ]
     },
     "execution_count": 34,
     "metadata": {},
     "output_type": "execute_result"
    }
   ],
   "source": [
    "#here, notice, an empty list is being return by the prog\n",
    "check_even_odd_num_list([1,3,5,7])"
   ]
  },
  {
   "cell_type": "code",
   "execution_count": null,
   "id": "ef3507a3",
   "metadata": {},
   "outputs": [],
   "source": []
  }
 ],
 "metadata": {
  "kernelspec": {
   "display_name": "Python 3",
   "language": "python",
   "name": "python3"
  },
  "language_info": {
   "codemirror_mode": {
    "name": "ipython",
    "version": 3
   },
   "file_extension": ".py",
   "mimetype": "text/x-python",
   "name": "python",
   "nbconvert_exporter": "python",
   "pygments_lexer": "ipython3",
   "version": "3.8.8"
  }
 },
 "nbformat": 4,
 "nbformat_minor": 5
}
